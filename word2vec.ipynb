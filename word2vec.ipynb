{
 "cells": [
  {
   "cell_type": "code",
   "execution_count": 1,
   "metadata": {},
   "outputs": [],
   "source": [
    "import pandas as pd\n",
    "import numpy as np\n",
    "from sklearn.naive_bayes import MultinomialNB\n",
    "from sklearn.multiclass import OneVsRestClassifier\n",
    "from sklearn.model_selection import train_test_split\n",
    "from sklearn.feature_extraction.text import CountVectorizer\n",
    "from sklearn.model_selection import GridSearchCV\n",
    "from sklearn import metrics\n",
    "from sklearn.multiclass import OneVsRestClassifier\n",
    "import string\n",
    "import ast\n",
    "import re\n",
    "import warnings\n",
    "from meter import *\n",
    "warnings.filterwarnings('ignore')"
   ]
  },
  {
   "cell_type": "code",
   "execution_count": 2,
   "metadata": {},
   "outputs": [
    {
     "name": "stderr",
     "output_type": "stream",
     "text": [
      "Using TensorFlow backend.\n"
     ]
    }
   ],
   "source": [
    "from keras.preprocessing.text import Tokenizer\n",
    "from keras.preprocessing.sequence import pad_sequences\n",
    "from keras.utils import to_categorical\n",
    "from keras.layers import Dense, Input, GlobalMaxPooling1D, Dropout\n",
    "from keras.layers import Conv1D, MaxPooling1D, Embedding, Flatten, LSTM\n",
    "from keras.models import Model, Sequential, load_model\n",
    "from keras.optimizers import Adam"
   ]
  },
  {
   "cell_type": "markdown",
   "metadata": {},
   "source": [
    "### GPU data preprocessing"
   ]
  },
  {
   "cell_type": "code",
   "execution_count": 4,
   "metadata": {},
   "outputs": [],
   "source": [
    "# from gensim.models.word2vec import Word2Vec"
   ]
  },
  {
   "cell_type": "code",
   "execution_count": 7,
   "metadata": {},
   "outputs": [],
   "source": [
    "# MAX_SEQUENCE_LENGTH = 200\n",
    "# EMBEDDING_DIM = 300\n",
    "\n",
    "# w2v_model = Word2Vec([t.split() for t in train_texts], size=EMBEDDING_DIM, min_count=1)\n",
    "\n",
    "# tokenizer = Tokenizer(num_words=None)\n",
    "# tokenizer.fit_on_texts(train_texts)\n",
    "# word_index = tokenizer.word_index\n",
    "# num_words = len(word_index) + 1\n",
    "\n",
    "# sequences = tokenizer.texts_to_sequences(train_texts)\n",
    "# X_w2v_train = pad_sequences(sequences, maxlen=MAX_SEQUENCE_LENGTH)\n",
    "\n",
    "# test_sequences = tokenizer.texts_to_sequences(test_texts)\n",
    "# X_w2v_test = pad_sequences(test_sequences, \n",
    "#                              maxlen=MAX_SEQUENCE_LENGTH)"
   ]
  },
  {
   "cell_type": "code",
   "execution_count": 8,
   "metadata": {},
   "outputs": [],
   "source": [
    "# w2v_matrix = np.zeros((num_words, EMBEDDING_DIM))\n",
    "\n",
    "# for word, i in word_index.items():\n",
    "# #     if i >= num_words:\n",
    "# #         continue\n",
    "#     if word in w2v_model.wv:\n",
    "#         embedding_vector = w2v_model.wv[word]\n",
    "#     else:\n",
    "#         embedding_vector = 0\n",
    "#     if embedding_vector is not None:\n",
    "#         # words not found in embedding index will be all-zeros.\n",
    "#         w2v_matrix[i] = embedding_vector"
   ]
  },
  {
   "cell_type": "code",
   "execution_count": 101,
   "metadata": {
    "collapsed": true
   },
   "outputs": [],
   "source": [
    "# np.save('w2v_matrix.npy', w2v_matrix)\n",
    "# np.save('X_w2v_train.npy', X_w2v_train)\n",
    "# np.save('y_train.npy', y_train)\n",
    "# np.save('X_w2v_test.npy', X_w2v_test)\n",
    "# np.save('y_test.npy', y_test)"
   ]
  },
  {
   "cell_type": "markdown",
   "metadata": {},
   "source": [
    "### Load data"
   ]
  },
  {
   "cell_type": "code",
   "execution_count": 3,
   "metadata": {},
   "outputs": [],
   "source": [
    "w2v_matrix = np.load('w2v_matrix.npy')\n",
    "X_w2v_train = np.load('X_w2v_train.npy')\n",
    "y_train = np.load('y_train.npy')\n",
    "X_w2v_test = np.load('X_w2v_test.npy')\n",
    "y_test = np.load('y_test.npy')"
   ]
  },
  {
   "cell_type": "code",
   "execution_count": 12,
   "metadata": {},
   "outputs": [],
   "source": [
    "# MAX_SEQUENCE_LENGTH = 200\n",
    "# EMBEDDING_DIM = 300"
   ]
  },
  {
   "cell_type": "code",
   "execution_count": 19,
   "metadata": {},
   "outputs": [],
   "source": [
    "# lstm_w2v = Sequential()\n",
    "# e = Embedding(w2v_matrix.shape[0], EMBEDDING_DIM, \n",
    "#               weights=[w2v_matrix], \n",
    "#               input_length=MAX_SEQUENCE_LENGTH, \n",
    "#               trainable=False)\n",
    "# lstm_w2v.add(e)\n",
    "# # lstm_w2v.add(Dropout(0.5))\n",
    "# # lstm_w2v.add(Conv1D(40, 2))\n",
    "# lstm_w2v.add(LSTM(80, dropout = 0.5, recurrent_dropout=0.5))\n",
    "# # lstm_w2v.add(Dense(40, activation='relu'))\n",
    "# lstm_w2v.add(Dense(20, activation='sigmoid'))\n",
    "# lstm_w2v.compile(optimizer=Adam(lr=0.002), loss='binary_crossentropy', metrics=['acc'])"
   ]
  },
  {
   "cell_type": "code",
   "execution_count": 23,
   "metadata": {
    "scrolled": true
   },
   "outputs": [
    {
     "name": "stdout",
     "output_type": "stream",
     "text": [
      "Train on 3489 samples, validate on 873 samples\n",
      "Epoch 1/100\n",
      "3489/3489 [==============================] - 10s 3ms/step - loss: 0.3242 - acc: 0.8661 - val_loss: 0.3387 - val_acc: 0.8595\n",
      "Epoch 2/100\n",
      "3489/3489 [==============================] - 9s 3ms/step - loss: 0.3240 - acc: 0.8655 - val_loss: 0.3385 - val_acc: 0.8583\n",
      "Epoch 3/100\n",
      "3489/3489 [==============================] - 9s 3ms/step - loss: 0.3229 - acc: 0.8665 - val_loss: 0.3379 - val_acc: 0.8588\n",
      "Epoch 4/100\n",
      "3489/3489 [==============================] - 9s 3ms/step - loss: 0.3236 - acc: 0.8660 - val_loss: 0.3391 - val_acc: 0.8590\n",
      "Epoch 5/100\n",
      "3489/3489 [==============================] - 9s 3ms/step - loss: 0.3253 - acc: 0.8645 - val_loss: 0.3391 - val_acc: 0.8580\n",
      "Epoch 6/100\n",
      "3489/3489 [==============================] - 9s 3ms/step - loss: 0.3225 - acc: 0.8651 - val_loss: 0.3390 - val_acc: 0.8576\n",
      "Epoch 7/100\n",
      "3489/3489 [==============================] - 9s 3ms/step - loss: 0.3228 - acc: 0.8652 - val_loss: 0.3396 - val_acc: 0.8579\n",
      "Epoch 8/100\n",
      "3489/3489 [==============================] - 9s 3ms/step - loss: 0.3218 - acc: 0.8665 - val_loss: 0.3389 - val_acc: 0.8580\n",
      "Epoch 9/100\n",
      "3489/3489 [==============================] - 9s 3ms/step - loss: 0.3214 - acc: 0.8663 - val_loss: 0.3382 - val_acc: 0.8577\n",
      "Epoch 10/100\n",
      "3489/3489 [==============================] - 9s 3ms/step - loss: 0.3214 - acc: 0.8658 - val_loss: 0.3386 - val_acc: 0.8572\n",
      "Epoch 11/100\n",
      "3489/3489 [==============================] - 9s 3ms/step - loss: 0.3213 - acc: 0.8648 - val_loss: 0.3388 - val_acc: 0.8573\n",
      "Epoch 12/100\n",
      "3489/3489 [==============================] - 9s 3ms/step - loss: 0.3216 - acc: 0.8659 - val_loss: 0.3390 - val_acc: 0.8588\n",
      "Epoch 13/100\n",
      "3489/3489 [==============================] - 9s 3ms/step - loss: 0.3218 - acc: 0.8652 - val_loss: 0.3391 - val_acc: 0.8591\n",
      "Epoch 14/100\n",
      "3489/3489 [==============================] - 9s 3ms/step - loss: 0.3223 - acc: 0.8656 - val_loss: 0.3392 - val_acc: 0.8585\n",
      "Epoch 15/100\n",
      "3489/3489 [==============================] - 9s 3ms/step - loss: 0.3227 - acc: 0.8652 - val_loss: 0.3386 - val_acc: 0.8577\n",
      "Epoch 16/100\n",
      "3489/3489 [==============================] - 9s 3ms/step - loss: 0.3205 - acc: 0.8671 - val_loss: 0.3399 - val_acc: 0.8579\n",
      "Epoch 17/100\n",
      "3489/3489 [==============================] - 9s 3ms/step - loss: 0.3204 - acc: 0.8667 - val_loss: 0.3398 - val_acc: 0.8576\n",
      "Epoch 18/100\n",
      "3489/3489 [==============================] - 9s 3ms/step - loss: 0.3196 - acc: 0.8661 - val_loss: 0.3385 - val_acc: 0.8589\n",
      "Epoch 19/100\n",
      "3489/3489 [==============================] - 9s 3ms/step - loss: 0.3213 - acc: 0.8657 - val_loss: 0.3394 - val_acc: 0.8582\n",
      "Epoch 20/100\n",
      "3489/3489 [==============================] - 9s 3ms/step - loss: 0.3215 - acc: 0.8660 - val_loss: 0.3388 - val_acc: 0.8584\n",
      "Epoch 21/100\n",
      "3489/3489 [==============================] - 9s 3ms/step - loss: 0.3188 - acc: 0.8673 - val_loss: 0.3388 - val_acc: 0.8588\n",
      "Epoch 22/100\n",
      "3489/3489 [==============================] - 9s 3ms/step - loss: 0.3207 - acc: 0.8669 - val_loss: 0.3386 - val_acc: 0.8581\n",
      "Epoch 23/100\n",
      "3489/3489 [==============================] - 9s 3ms/step - loss: 0.3190 - acc: 0.8669 - val_loss: 0.3388 - val_acc: 0.8590\n",
      "Epoch 24/100\n",
      "3489/3489 [==============================] - 9s 3ms/step - loss: 0.3202 - acc: 0.8664 - val_loss: 0.3386 - val_acc: 0.8583\n",
      "Epoch 25/100\n",
      "3489/3489 [==============================] - 9s 3ms/step - loss: 0.3192 - acc: 0.8668 - val_loss: 0.3384 - val_acc: 0.8579\n",
      "Epoch 26/100\n",
      "3489/3489 [==============================] - 9s 3ms/step - loss: 0.3173 - acc: 0.8678 - val_loss: 0.3389 - val_acc: 0.8579\n",
      "Epoch 27/100\n",
      "3489/3489 [==============================] - 9s 3ms/step - loss: 0.3186 - acc: 0.8676 - val_loss: 0.3398 - val_acc: 0.8576\n",
      "Epoch 28/100\n",
      "3489/3489 [==============================] - 9s 3ms/step - loss: 0.3177 - acc: 0.8675 - val_loss: 0.3388 - val_acc: 0.8589\n",
      "Epoch 29/100\n",
      "3489/3489 [==============================] - 9s 3ms/step - loss: 0.3189 - acc: 0.8673 - val_loss: 0.3413 - val_acc: 0.8577\n",
      "Epoch 30/100\n",
      "3489/3489 [==============================] - 9s 3ms/step - loss: 0.3195 - acc: 0.8671 - val_loss: 0.3393 - val_acc: 0.8576\n",
      "Epoch 31/100\n",
      "3489/3489 [==============================] - 9s 3ms/step - loss: 0.3175 - acc: 0.8678 - val_loss: 0.3397 - val_acc: 0.8586\n",
      "Epoch 32/100\n",
      "3489/3489 [==============================] - 9s 3ms/step - loss: 0.3182 - acc: 0.8678 - val_loss: 0.3396 - val_acc: 0.8590\n",
      "Epoch 33/100\n",
      "3489/3489 [==============================] - 9s 3ms/step - loss: 0.3175 - acc: 0.8677 - val_loss: 0.3390 - val_acc: 0.8569\n",
      "Epoch 34/100\n",
      "3489/3489 [==============================] - 9s 3ms/step - loss: 0.3159 - acc: 0.8679 - val_loss: 0.3389 - val_acc: 0.8584\n",
      "Epoch 35/100\n",
      "3489/3489 [==============================] - 9s 3ms/step - loss: 0.3154 - acc: 0.8679 - val_loss: 0.3390 - val_acc: 0.8580\n",
      "Epoch 36/100\n",
      "3489/3489 [==============================] - 9s 3ms/step - loss: 0.3163 - acc: 0.8680 - val_loss: 0.3411 - val_acc: 0.8577\n",
      "Epoch 37/100\n",
      "3489/3489 [==============================] - 9s 3ms/step - loss: 0.3141 - acc: 0.8686 - val_loss: 0.3402 - val_acc: 0.8576\n",
      "Epoch 38/100\n",
      "3489/3489 [==============================] - 9s 3ms/step - loss: 0.3166 - acc: 0.8683 - val_loss: 0.3403 - val_acc: 0.8576\n",
      "Epoch 39/100\n",
      "3489/3489 [==============================] - 9s 3ms/step - loss: 0.3155 - acc: 0.8676 - val_loss: 0.3391 - val_acc: 0.8581\n",
      "Epoch 40/100\n",
      "3489/3489 [==============================] - 9s 3ms/step - loss: 0.3166 - acc: 0.8673 - val_loss: 0.3399 - val_acc: 0.8580\n",
      "Epoch 41/100\n",
      "3489/3489 [==============================] - 9s 3ms/step - loss: 0.3151 - acc: 0.8682 - val_loss: 0.3412 - val_acc: 0.8586\n",
      "Epoch 42/100\n",
      "3489/3489 [==============================] - 9s 3ms/step - loss: 0.3146 - acc: 0.8685 - val_loss: 0.3401 - val_acc: 0.8578\n",
      "Epoch 43/100\n",
      "3489/3489 [==============================] - 9s 3ms/step - loss: 0.3139 - acc: 0.8691 - val_loss: 0.3404 - val_acc: 0.8574\n",
      "Epoch 44/100\n",
      "3489/3489 [==============================] - 9s 3ms/step - loss: 0.3158 - acc: 0.8680 - val_loss: 0.3401 - val_acc: 0.8572\n",
      "Epoch 45/100\n",
      "3489/3489 [==============================] - 9s 3ms/step - loss: 0.3154 - acc: 0.8684 - val_loss: 0.3392 - val_acc: 0.8580\n",
      "Epoch 46/100\n",
      "3489/3489 [==============================] - 9s 3ms/step - loss: 0.3144 - acc: 0.8681 - val_loss: 0.3389 - val_acc: 0.8584\n",
      "Epoch 47/100\n",
      "3489/3489 [==============================] - 9s 3ms/step - loss: 0.3130 - acc: 0.8689 - val_loss: 0.3399 - val_acc: 0.8578\n",
      "Epoch 48/100\n",
      "3489/3489 [==============================] - 9s 3ms/step - loss: 0.3155 - acc: 0.8672 - val_loss: 0.3391 - val_acc: 0.8579\n",
      "Epoch 49/100\n",
      "3489/3489 [==============================] - 9s 3ms/step - loss: 0.3128 - acc: 0.8691 - val_loss: 0.3400 - val_acc: 0.8581\n",
      "Epoch 50/100\n",
      "3489/3489 [==============================] - 9s 3ms/step - loss: 0.3129 - acc: 0.8692 - val_loss: 0.3407 - val_acc: 0.8577\n",
      "Epoch 51/100\n",
      "3489/3489 [==============================] - 9s 3ms/step - loss: 0.3134 - acc: 0.8686 - val_loss: 0.3396 - val_acc: 0.8580\n",
      "Epoch 52/100\n",
      "3489/3489 [==============================] - 9s 3ms/step - loss: 0.3132 - acc: 0.8685 - val_loss: 0.3402 - val_acc: 0.8589\n",
      "Epoch 53/100\n",
      "3489/3489 [==============================] - 9s 3ms/step - loss: 0.3125 - acc: 0.8685 - val_loss: 0.3398 - val_acc: 0.8577\n",
      "Epoch 54/100\n",
      "3489/3489 [==============================] - 9s 3ms/step - loss: 0.3131 - acc: 0.8682 - val_loss: 0.3403 - val_acc: 0.8578\n",
      "Epoch 55/100\n",
      "3489/3489 [==============================] - 9s 3ms/step - loss: 0.3116 - acc: 0.8681 - val_loss: 0.3408 - val_acc: 0.8565\n",
      "Epoch 56/100\n",
      "3489/3489 [==============================] - 9s 3ms/step - loss: 0.3121 - acc: 0.8695 - val_loss: 0.3402 - val_acc: 0.8580\n",
      "Epoch 57/100\n",
      "3489/3489 [==============================] - 9s 3ms/step - loss: 0.3128 - acc: 0.8686 - val_loss: 0.3408 - val_acc: 0.8585\n",
      "Epoch 58/100\n",
      "3489/3489 [==============================] - 9s 3ms/step - loss: 0.3110 - acc: 0.8698 - val_loss: 0.3411 - val_acc: 0.8578\n",
      "Epoch 59/100\n",
      "3489/3489 [==============================] - 9s 3ms/step - loss: 0.3118 - acc: 0.8708 - val_loss: 0.3411 - val_acc: 0.8583\n",
      "Epoch 60/100\n",
      "3489/3489 [==============================] - 9s 3ms/step - loss: 0.3108 - acc: 0.8697 - val_loss: 0.3407 - val_acc: 0.8574\n"
     ]
    },
    {
     "name": "stdout",
     "output_type": "stream",
     "text": [
      "Epoch 61/100\n",
      "3489/3489 [==============================] - 9s 3ms/step - loss: 0.3110 - acc: 0.8692 - val_loss: 0.3407 - val_acc: 0.8580\n",
      "Epoch 62/100\n",
      "3489/3489 [==============================] - 9s 3ms/step - loss: 0.3110 - acc: 0.8699 - val_loss: 0.3402 - val_acc: 0.8581\n",
      "Epoch 63/100\n",
      "3489/3489 [==============================] - 9s 3ms/step - loss: 0.3092 - acc: 0.8713 - val_loss: 0.3421 - val_acc: 0.8586\n",
      "Epoch 64/100\n",
      "3489/3489 [==============================] - 9s 3ms/step - loss: 0.3099 - acc: 0.8705 - val_loss: 0.3406 - val_acc: 0.8594\n",
      "Epoch 65/100\n",
      "3489/3489 [==============================] - 9s 3ms/step - loss: 0.3106 - acc: 0.8690 - val_loss: 0.3406 - val_acc: 0.8585\n",
      "Epoch 66/100\n",
      "3489/3489 [==============================] - 9s 3ms/step - loss: 0.3092 - acc: 0.8712 - val_loss: 0.3404 - val_acc: 0.8584\n",
      "Epoch 67/100\n",
      "3489/3489 [==============================] - 9s 3ms/step - loss: 0.3086 - acc: 0.8697 - val_loss: 0.3415 - val_acc: 0.8573\n",
      "Epoch 68/100\n",
      "3489/3489 [==============================] - 9s 3ms/step - loss: 0.3082 - acc: 0.8714 - val_loss: 0.3427 - val_acc: 0.8580\n",
      "Epoch 69/100\n",
      "3489/3489 [==============================] - 9s 3ms/step - loss: 0.3078 - acc: 0.8711 - val_loss: 0.3419 - val_acc: 0.8588\n",
      "Epoch 70/100\n",
      "3489/3489 [==============================] - 9s 3ms/step - loss: 0.3080 - acc: 0.8722 - val_loss: 0.3423 - val_acc: 0.8577\n",
      "Epoch 71/100\n",
      "3489/3489 [==============================] - 9s 3ms/step - loss: 0.3086 - acc: 0.8710 - val_loss: 0.3423 - val_acc: 0.8574\n",
      "Epoch 72/100\n",
      "3489/3489 [==============================] - 9s 3ms/step - loss: 0.3089 - acc: 0.8712 - val_loss: 0.3413 - val_acc: 0.8583\n",
      "Epoch 73/100\n",
      "3489/3489 [==============================] - 9s 3ms/step - loss: 0.3090 - acc: 0.8696 - val_loss: 0.3407 - val_acc: 0.8592\n",
      "Epoch 74/100\n",
      "3489/3489 [==============================] - 9s 3ms/step - loss: 0.3057 - acc: 0.8711 - val_loss: 0.3399 - val_acc: 0.8585\n",
      "Epoch 75/100\n",
      "3489/3489 [==============================] - 9s 3ms/step - loss: 0.3073 - acc: 0.8709 - val_loss: 0.3403 - val_acc: 0.8586\n",
      "Epoch 76/100\n",
      "3489/3489 [==============================] - 9s 3ms/step - loss: 0.3066 - acc: 0.8711 - val_loss: 0.3415 - val_acc: 0.8588\n",
      "Epoch 77/100\n",
      "3489/3489 [==============================] - 9s 3ms/step - loss: 0.3070 - acc: 0.8707 - val_loss: 0.3411 - val_acc: 0.8588\n",
      "Epoch 78/100\n",
      "3489/3489 [==============================] - 9s 3ms/step - loss: 0.3077 - acc: 0.8710 - val_loss: 0.3414 - val_acc: 0.8577\n",
      "Epoch 79/100\n",
      "3489/3489 [==============================] - 9s 3ms/step - loss: 0.3058 - acc: 0.8712 - val_loss: 0.3410 - val_acc: 0.8588\n",
      "Epoch 80/100\n",
      "3489/3489 [==============================] - 9s 3ms/step - loss: 0.3077 - acc: 0.8705 - val_loss: 0.3415 - val_acc: 0.8573\n",
      "Epoch 81/100\n",
      "3489/3489 [==============================] - 9s 2ms/step - loss: 0.3057 - acc: 0.8714 - val_loss: 0.3408 - val_acc: 0.8584\n",
      "Epoch 82/100\n",
      "3489/3489 [==============================] - 9s 3ms/step - loss: 0.3068 - acc: 0.8702 - val_loss: 0.3419 - val_acc: 0.8576\n",
      "Epoch 83/100\n",
      "3489/3489 [==============================] - 9s 3ms/step - loss: 0.3089 - acc: 0.8707 - val_loss: 0.3420 - val_acc: 0.8580\n",
      "Epoch 84/100\n",
      "3489/3489 [==============================] - 9s 3ms/step - loss: 0.3068 - acc: 0.8711 - val_loss: 0.3410 - val_acc: 0.8580\n",
      "Epoch 85/100\n",
      "3489/3489 [==============================] - 9s 3ms/step - loss: 0.3069 - acc: 0.8709 - val_loss: 0.3417 - val_acc: 0.8580\n",
      "Epoch 86/100\n",
      "3489/3489 [==============================] - 9s 3ms/step - loss: 0.3082 - acc: 0.8706 - val_loss: 0.3411 - val_acc: 0.8577\n",
      "Epoch 87/100\n",
      "3489/3489 [==============================] - 9s 3ms/step - loss: 0.3049 - acc: 0.8726 - val_loss: 0.3416 - val_acc: 0.8578\n",
      "Epoch 88/100\n",
      "3489/3489 [==============================] - 9s 3ms/step - loss: 0.3059 - acc: 0.8721 - val_loss: 0.3419 - val_acc: 0.8577\n",
      "Epoch 89/100\n",
      "3489/3489 [==============================] - 9s 3ms/step - loss: 0.3066 - acc: 0.8706 - val_loss: 0.3418 - val_acc: 0.8584\n",
      "Epoch 90/100\n",
      "3489/3489 [==============================] - 9s 3ms/step - loss: 0.3031 - acc: 0.8717 - val_loss: 0.3427 - val_acc: 0.8570\n",
      "Epoch 91/100\n",
      "3489/3489 [==============================] - 9s 3ms/step - loss: 0.3042 - acc: 0.8721 - val_loss: 0.3420 - val_acc: 0.8574\n",
      "Epoch 92/100\n",
      "3489/3489 [==============================] - 9s 3ms/step - loss: 0.3030 - acc: 0.8722 - val_loss: 0.3411 - val_acc: 0.8586\n",
      "Epoch 93/100\n",
      "3489/3489 [==============================] - 9s 3ms/step - loss: 0.3047 - acc: 0.8707 - val_loss: 0.3420 - val_acc: 0.8578\n",
      "Epoch 94/100\n",
      "3489/3489 [==============================] - 9s 3ms/step - loss: 0.3058 - acc: 0.8727 - val_loss: 0.3417 - val_acc: 0.8581\n",
      "Epoch 95/100\n",
      "3489/3489 [==============================] - 9s 3ms/step - loss: 0.3052 - acc: 0.8711 - val_loss: 0.3417 - val_acc: 0.8582\n",
      "Epoch 96/100\n",
      "3489/3489 [==============================] - 9s 3ms/step - loss: 0.3058 - acc: 0.8723 - val_loss: 0.3424 - val_acc: 0.8584\n",
      "Epoch 97/100\n",
      "3489/3489 [==============================] - 9s 3ms/step - loss: 0.3044 - acc: 0.8720 - val_loss: 0.3406 - val_acc: 0.8578\n",
      "Epoch 98/100\n",
      "3489/3489 [==============================] - 9s 3ms/step - loss: 0.3045 - acc: 0.8724 - val_loss: 0.3415 - val_acc: 0.8580\n",
      "Epoch 99/100\n",
      "3489/3489 [==============================] - 9s 3ms/step - loss: 0.3034 - acc: 0.8719 - val_loss: 0.3422 - val_acc: 0.8592\n",
      "Epoch 100/100\n",
      "3489/3489 [==============================] - 9s 3ms/step - loss: 0.3033 - acc: 0.8733 - val_loss: 0.3425 - val_acc: 0.8574\n"
     ]
    },
    {
     "data": {
      "text/plain": [
       "<keras.callbacks.History at 0x7f3f9b460dd8>"
      ]
     },
     "execution_count": 23,
     "metadata": {},
     "output_type": "execute_result"
    }
   ],
   "source": [
    "# lstm_w2v.compile(optimizer=Adam(lr=0.001), loss='binary_crossentropy', metrics=['acc'])\n",
    "# lstm_w2v.fit(X_w2v_train, y_train, validation_data= (X_w2v_test, y_test),\n",
    "#                batch_size=128,\n",
    "#                epochs=100)"
   ]
  },
  {
   "cell_type": "code",
   "execution_count": 44,
   "metadata": {},
   "outputs": [],
   "source": [
    "# lstm_w2v.save('lstm_w2v_55_25_150')"
   ]
  },
  {
   "cell_type": "code",
   "execution_count": 4,
   "metadata": {},
   "outputs": [],
   "source": [
    "lstm_w2v = load_model('lstm_w2v_55_25_150')"
   ]
  },
  {
   "cell_type": "code",
   "execution_count": 5,
   "metadata": {},
   "outputs": [
    {
     "name": "stdout",
     "output_type": "stream",
     "text": [
      "_________________________________________________________________\n",
      "Layer (type)                 Output Shape              Param #   \n",
      "=================================================================\n",
      "embedding_4 (Embedding)      (None, 200, 300)          13495200  \n",
      "_________________________________________________________________\n",
      "lstm_4 (LSTM)                (None, 80)                121920    \n",
      "_________________________________________________________________\n",
      "dense_4 (Dense)              (None, 20)                1620      \n",
      "=================================================================\n",
      "Total params: 13,618,740\n",
      "Trainable params: 123,540\n",
      "Non-trainable params: 13,495,200\n",
      "_________________________________________________________________\n"
     ]
    }
   ],
   "source": [
    "lstm_w2v.summary()"
   ]
  },
  {
   "cell_type": "code",
   "execution_count": 6,
   "metadata": {},
   "outputs": [
    {
     "name": "stdout",
     "output_type": "stream",
     "text": [
      "Word2Vec Avg Accuracy on test : 0.8624856815578466\n",
      "Word2Vec Exact Accuracy on test : 0.061855670103092786\n",
      "Word2Vec Precision on test : 0.5525787967604396\n",
      "Word2Vec Recall on test : 0.2585768591891645\n",
      "Word2Vec Hit Rate on test : 0.7800687285223368\n",
      "Word2VecF1 on test : 0.3522975859758274\n"
     ]
    }
   ],
   "source": [
    "lstm_pred_w2v_test = lstm_w2v.predict(X_w2v_test)\n",
    "# evaluation\n",
    "print('Word2Vec Avg Accuracy on test : {}'.format(score_thres(y_test, lstm_pred_w2v_test, method='avg')))\n",
    "print('Word2Vec Exact Accuracy on test : {}'.format(score_thres(y_test, lstm_pred_w2v_test, method='exact')))\n",
    "print('Word2Vec Precision on test : {}'.format(score_thres(y_test, lstm_pred_w2v_test, method='precision')))\n",
    "print('Word2Vec Recall on test : {}'.format(score_thres(y_test, lstm_pred_w2v_test, method='recall')))\n",
    "print('Word2Vec Hit Rate on test : {}'.format(score_thres(y_test, lstm_pred_w2v_test, method='hit')))\n",
    "print('Word2VecF1 on test : {}'.format(score_thres(y_test, lstm_pred_w2v_test, method='f1')))\n"
   ]
  },
  {
   "cell_type": "markdown",
   "metadata": {},
   "source": [
    "#### Another model..."
   ]
  },
  {
   "cell_type": "code",
   "execution_count": 7,
   "metadata": {},
   "outputs": [],
   "source": [
    "lstm_w2v = load_model('lstm_w2v_45_27_120')"
   ]
  },
  {
   "cell_type": "code",
   "execution_count": 8,
   "metadata": {},
   "outputs": [
    {
     "name": "stdout",
     "output_type": "stream",
     "text": [
      "_________________________________________________________________\n",
      "Layer (type)                 Output Shape              Param #   \n",
      "=================================================================\n",
      "embedding_3 (Embedding)      (None, 200, 300)          13495200  \n",
      "_________________________________________________________________\n",
      "lstm_3 (LSTM)                (None, 50)                70200     \n",
      "_________________________________________________________________\n",
      "dense_3 (Dense)              (None, 20)                1020      \n",
      "=================================================================\n",
      "Total params: 13,566,420\n",
      "Trainable params: 71,220\n",
      "Non-trainable params: 13,495,200\n",
      "_________________________________________________________________\n"
     ]
    }
   ],
   "source": [
    "lstm_w2v.summary()"
   ]
  },
  {
   "cell_type": "code",
   "execution_count": 9,
   "metadata": {},
   "outputs": [
    {
     "name": "stdout",
     "output_type": "stream",
     "text": [
      "Word2Vec Avg Accuracy on test : 0.8585337915234822\n",
      "Word2Vec Exact Accuracy on test : 0.06529209621993128\n",
      "Word2Vec Precision on test : 0.4576114086200838\n",
      "Word2Vec Recall on test : 0.2703722831824408\n",
      "Word2Vec Hit Rate on test : 0.7835051546391752\n",
      "Word2VecF1 on test : 0.33991267318803375\n"
     ]
    }
   ],
   "source": [
    "lstm_pred_w2v_test = lstm_w2v.predict(X_w2v_test)\n",
    "# evaluation\n",
    "print('Word2Vec Avg Accuracy on test : {}'.format(score_thres(y_test, lstm_pred_w2v_test, method='avg')))\n",
    "print('Word2Vec Exact Accuracy on test : {}'.format(score_thres(y_test, lstm_pred_w2v_test, method='exact')))\n",
    "print('Word2Vec Precision on test : {}'.format(score_thres(y_test, lstm_pred_w2v_test, method='precision')))\n",
    "print('Word2Vec Recall on test : {}'.format(score_thres(y_test, lstm_pred_w2v_test, method='recall')))\n",
    "print('Word2Vec Hit Rate on test : {}'.format(score_thres(y_test, lstm_pred_w2v_test, method='hit')))\n",
    "print('Word2VecF1 on test : {}'.format(score_thres(y_test, lstm_pred_w2v_test, method='f1')))\n"
   ]
  },
  {
   "cell_type": "code",
   "execution_count": null,
   "metadata": {},
   "outputs": [],
   "source": []
  }
 ],
 "metadata": {
  "kernelspec": {
   "display_name": "Python 3",
   "language": "python",
   "name": "python3"
  },
  "language_info": {
   "codemirror_mode": {
    "name": "ipython",
    "version": 3
   },
   "file_extension": ".py",
   "mimetype": "text/x-python",
   "name": "python",
   "nbconvert_exporter": "python",
   "pygments_lexer": "ipython3",
   "version": "3.6.4"
  }
 },
 "nbformat": 4,
 "nbformat_minor": 1
}
