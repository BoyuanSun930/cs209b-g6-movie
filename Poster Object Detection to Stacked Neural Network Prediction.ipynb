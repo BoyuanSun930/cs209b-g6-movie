{
 "cells": [
  {
   "cell_type": "markdown",
   "metadata": {},
   "source": [
    "# Data Science Final Project: Poster Object Detection\n",
    "## Group Members: Jiacheng Shi, Boyuan Sun, Xiangru"
   ]
  },
  {
   "cell_type": "markdown",
   "metadata": {},
   "source": [
    "## Library Used"
   ]
  },
  {
   "cell_type": "code",
   "execution_count": 64,
   "metadata": {},
   "outputs": [],
   "source": [
    "import pandas as pd\n",
    "import numpy as np\n",
    "from sklearn.naive_bayes import MultinomialNB\n",
    "from sklearn.multiclass import OneVsRestClassifier\n",
    "from sklearn.model_selection import train_test_split\n",
    "from sklearn.feature_extraction.text import CountVectorizer\n",
    "from sklearn.linear_model import LogisticRegressionCV\n",
    "from sklearn.model_selection import GridSearchCV\n",
    "from sklearn import metrics\n",
    "from sklearn.svm import SVC\n",
    "from sklearn.ensemble import RandomForestClassifier\n",
    "from sklearn.multiclass import OneVsRestClassifier\n",
    "from sklearn.externals import joblib\n",
    "import pickle\n",
    "import matplotlib.pyplot as plt\n",
    "%matplotlib inline\n",
    "import string\n",
    "import ast\n",
    "import re\n",
    "import warnings\n",
    "from meter import score, score_thres\n",
    "import seaborn as sns\n",
    "sns.set_style('white')\n",
    "sns.set_context('paper', font_scale=1.5)\n",
    "warnings.filterwarnings('ignore')\n",
    "from tqdm import tqdm\n",
    "from keras.preprocessing.text import Tokenizer\n",
    "from keras.preprocessing.sequence import pad_sequences\n",
    "from keras.utils import to_categorical\n",
    "from keras.layers import Dense, Input, GlobalMaxPooling1D\n",
    "from keras.layers import Conv1D, MaxPooling1D, Embedding, Flatten, LSTM, Dropout, RNN\n",
    "from keras.models import Model, Sequential\n",
    "from keras.optimizers import SGD, RMSprop, Adam"
   ]
  },
  {
   "cell_type": "markdown",
   "metadata": {},
   "source": [
    "## Data Preprocessing"
   ]
  },
  {
   "cell_type": "code",
   "execution_count": 75,
   "metadata": {
    "collapsed": true
   },
   "outputs": [],
   "source": [
    "# read in data\n",
    "imdb_movie = pd.read_csv('data/imdb_multilabel.csv')\n",
    "\n",
    "# drop movies with unknown plot\n",
    "imdb_movie['plot'] = imdb_movie['plot'].apply(lambda sentence: 'drop' if (('plot ' in sentence.lower()) \n",
    "                                              and ('unknown' in sentence.lower()))\n",
    "                                              or (len(sentence.split()) < 100) \n",
    "                                              else sentence.lower())\n",
    "imdb_movie = imdb_movie[imdb_movie['plot'] != 'drop']\n",
    "\n",
    "# single-label encoding\n",
    "genre_dict = dict(zip(imdb_movie.genre.unique(), range(20)))\n",
    "genre_dict['sci-fi'] = 8\n",
    "imdb_movie['genre_code'] = imdb_movie.genre.replace(genre_dict).values\n",
    "\n",
    "# multi-label encoded as an array\n",
    "def multi_label_encoder(all_genre_list):\n",
    "    \"\"\" This function takes a list of genre with a dictionary that keeps track of the index of the genre\n",
    "    INPUTS\n",
    "    ------\n",
    "    all_genre_list: list of genres\n",
    "    genre_dict: dictionary of indexs\n",
    "    \n",
    "    OUTPUTS\n",
    "    -------\n",
    "    np array in {0, 1}\n",
    "    \"\"\"\n",
    "    encode = np.zeros(20)\n",
    "    all_genre_list = ast.literal_eval(all_genre_list)\n",
    "    for genre in all_genre_list:\n",
    "        if genre.lower() in genre_dict:\n",
    "            encode[genre_dict[genre.lower()]] = 1\n",
    "    return list(encode)\n",
    "\n",
    "imdb_movie['all_genre_encode'] = imdb_movie['all_genre'].apply(multi_label_encoder)\n",
    "imdb_movie['plot_list'] = imdb_movie['plot_list'].apply(ast.literal_eval)\n",
    "\n",
    "# train test split\n",
    "X_train, X_test, y_train, y_test = train_test_split(imdb_movie[['plot','imdb_id']], \n",
    "                                                    imdb_movie['all_genre_encode'],\n",
    "                                                    test_size = 0.2,\n",
    "                                                    random_state = 209,\n",
    "                                                    stratify = imdb_movie['genre']\n",
    "                                                    )\n",
    "\n",
    "# reshape y_train and y_test\n",
    "y_train = np.array(list(y_train))\n",
    "y_test = np.array(list(y_test))"
   ]
  },
  {
   "cell_type": "code",
   "execution_count": 76,
   "metadata": {
    "scrolled": false
   },
   "outputs": [
    {
     "data": {
      "text/plain": [
       "array([[1., 0., 1., ..., 0., 1., 1.],\n",
       "       [1., 0., 0., ..., 0., 1., 0.],\n",
       "       [1., 0., 0., ..., 0., 0., 1.],\n",
       "       ...,\n",
       "       [0., 0., 0., ..., 0., 0., 1.],\n",
       "       [0., 0., 0., ..., 0., 0., 1.],\n",
       "       [0., 0., 0., ..., 0., 0., 1.]])"
      ]
     },
     "execution_count": 76,
     "metadata": {},
     "output_type": "execute_result"
    }
   ],
   "source": [
    "# imdb_movie['all_genre_encode'] = imdb_movie['all_genre'].values.apply(multi_label_encoder)\n",
    "all_genre_encode = np.zeros((len(imdb_movie['all_genre_encode']), 20))\n",
    "for idx, val in enumerate(imdb_movie['all_genre_encode'].values):\n",
    "    all_genre_encode[idx] = val\n",
    "all_genre_encode"
   ]
  },
  {
   "cell_type": "markdown",
   "metadata": {},
   "source": [
    "### Preprocessing the Poster Images"
   ]
  },
  {
   "cell_type": "markdown",
   "metadata": {},
   "source": [
    "#### dictionary that keeps track of the poster genre index"
   ]
  },
  {
   "cell_type": "code",
   "execution_count": 22,
   "metadata": {
    "collapsed": true
   },
   "outputs": [],
   "source": [
    "poster_index = dict(zip(imdb_movie.imdb_id.values, range(len(imdb_movie.imdb_id.values))))"
   ]
  },
  {
   "cell_type": "markdown",
   "metadata": {},
   "source": [
    "### YOLO Object Detection"
   ]
  },
  {
   "cell_type": "code",
   "execution_count": 2,
   "metadata": {
    "collapsed": true
   },
   "outputs": [],
   "source": [
    "import cv2\n",
    "from darkflow.net.build import TFNet\n",
    "from sys import exit"
   ]
  },
  {
   "cell_type": "code",
   "execution_count": 3,
   "metadata": {},
   "outputs": [
    {
     "name": "stdout",
     "output_type": "stream",
     "text": [
      "Parsing /Users/jerrysun/Github/darkflow/cfg/yolo.cfg\n",
      "Loading /Users/jerrysun/Github/darkflow/bin/yolo.weights ...\n",
      "Successfully identified 203934260 bytes\n",
      "Finished in 0.030317068099975586s\n",
      "Model has a coco model name, loading coco labels.\n",
      "\n",
      "Building net ...\n",
      "Source | Train? | Layer description                | Output size\n",
      "-------+--------+----------------------------------+---------------\n",
      "       |        | input                            | (?, 608, 608, 3)\n",
      " Load  |  Yep!  | conv 3x3p1_1  +bnorm  leaky      | (?, 608, 608, 32)\n",
      " Load  |  Yep!  | maxp 2x2p0_2                     | (?, 304, 304, 32)\n",
      " Load  |  Yep!  | conv 3x3p1_1  +bnorm  leaky      | (?, 304, 304, 64)\n",
      " Load  |  Yep!  | maxp 2x2p0_2                     | (?, 152, 152, 64)\n",
      " Load  |  Yep!  | conv 3x3p1_1  +bnorm  leaky      | (?, 152, 152, 128)\n",
      " Load  |  Yep!  | conv 1x1p0_1  +bnorm  leaky      | (?, 152, 152, 64)\n",
      " Load  |  Yep!  | conv 3x3p1_1  +bnorm  leaky      | (?, 152, 152, 128)\n",
      " Load  |  Yep!  | maxp 2x2p0_2                     | (?, 76, 76, 128)\n",
      " Load  |  Yep!  | conv 3x3p1_1  +bnorm  leaky      | (?, 76, 76, 256)\n",
      " Load  |  Yep!  | conv 1x1p0_1  +bnorm  leaky      | (?, 76, 76, 128)\n",
      " Load  |  Yep!  | conv 3x3p1_1  +bnorm  leaky      | (?, 76, 76, 256)\n",
      " Load  |  Yep!  | maxp 2x2p0_2                     | (?, 38, 38, 256)\n",
      " Load  |  Yep!  | conv 3x3p1_1  +bnorm  leaky      | (?, 38, 38, 512)\n",
      " Load  |  Yep!  | conv 1x1p0_1  +bnorm  leaky      | (?, 38, 38, 256)\n",
      " Load  |  Yep!  | conv 3x3p1_1  +bnorm  leaky      | (?, 38, 38, 512)\n",
      " Load  |  Yep!  | conv 1x1p0_1  +bnorm  leaky      | (?, 38, 38, 256)\n",
      " Load  |  Yep!  | conv 3x3p1_1  +bnorm  leaky      | (?, 38, 38, 512)\n",
      " Load  |  Yep!  | maxp 2x2p0_2                     | (?, 19, 19, 512)\n",
      " Load  |  Yep!  | conv 3x3p1_1  +bnorm  leaky      | (?, 19, 19, 1024)\n",
      " Load  |  Yep!  | conv 1x1p0_1  +bnorm  leaky      | (?, 19, 19, 512)\n",
      " Load  |  Yep!  | conv 3x3p1_1  +bnorm  leaky      | (?, 19, 19, 1024)\n",
      " Load  |  Yep!  | conv 1x1p0_1  +bnorm  leaky      | (?, 19, 19, 512)\n",
      " Load  |  Yep!  | conv 3x3p1_1  +bnorm  leaky      | (?, 19, 19, 1024)\n",
      " Load  |  Yep!  | conv 3x3p1_1  +bnorm  leaky      | (?, 19, 19, 1024)\n",
      " Load  |  Yep!  | conv 3x3p1_1  +bnorm  leaky      | (?, 19, 19, 1024)\n",
      " Load  |  Yep!  | concat [16]                      | (?, 38, 38, 512)\n",
      " Load  |  Yep!  | conv 1x1p0_1  +bnorm  leaky      | (?, 38, 38, 64)\n",
      " Load  |  Yep!  | local flatten 2x2                | (?, 19, 19, 256)\n",
      " Load  |  Yep!  | concat [27, 24]                  | (?, 19, 19, 1280)\n",
      " Load  |  Yep!  | conv 3x3p1_1  +bnorm  leaky      | (?, 19, 19, 1024)\n",
      " Load  |  Yep!  | conv 1x1p0_1    linear           | (?, 19, 19, 425)\n",
      "-------+--------+----------------------------------+---------------\n",
      "Running entirely on CPU\n",
      "Finished in 13.749345064163208s\n",
      "\n"
     ]
    }
   ],
   "source": [
    "options = {\"load\":\"/Users/jerrysun/Github/darkflow/bin/yolo.weights\", \n",
    "           \"model\":\"/Users/jerrysun/Github/darkflow/cfg/yolo.cfg\",\n",
    "           \"threshold\": 0.1}\n",
    "#options = {\"model\": \"cfg/yolo.cfg\", \"load\": \"bin/yolo.weights\", \"threshold\": 0.1}\n",
    "tfnet = TFNet(options)"
   ]
  },
  {
   "cell_type": "code",
   "execution_count": 28,
   "metadata": {},
   "outputs": [],
   "source": [
    "import os\n",
    "poster_names = os.listdir('posters')[1:]"
   ]
  },
  {
   "cell_type": "code",
   "execution_count": 30,
   "metadata": {},
   "outputs": [],
   "source": [
    "poster_index = dict(zip(imdb_movie.imdb_id.values, range(len(imdb_movie.imdb_id.values))))"
   ]
  },
  {
   "cell_type": "code",
   "execution_count": 44,
   "metadata": {},
   "outputs": [
    {
     "name": "stderr",
     "output_type": "stream",
     "text": [
      "100%|██████████| 6254/6254 [1:46:35<00:00,  1.02s/it]\n"
     ]
    }
   ],
   "source": [
    "yolo_pred = {}\n",
    "for poster_name in tqdm(poster_names):\n",
    "    poster_id = poster_name.strip('.jpg')\n",
    "    image = load_img('posters/' + poster_name)\n",
    "    image = img_to_array(image)\n",
    "    if len(image.shape) == 3:\n",
    "        yolo_pred[poster_id] = tfnet.return_predict(image)"
   ]
  },
  {
   "cell_type": "code",
   "execution_count": 45,
   "metadata": {},
   "outputs": [
    {
     "data": {
      "text/plain": [
       "6254"
      ]
     },
     "execution_count": 45,
     "metadata": {},
     "output_type": "execute_result"
    }
   ],
   "source": [
    "len(yolo_pred)"
   ]
  },
  {
   "cell_type": "code",
   "execution_count": 48,
   "metadata": {},
   "outputs": [],
   "source": [
    "#yolo_np = np.save('yolo_pred.npy', yolo_pred)"
   ]
  },
  {
   "cell_type": "markdown",
   "metadata": {},
   "source": [
    "### Construct the feature vectors\n",
    "79 Objects in the poster were detected by YOLO."
   ]
  },
  {
   "cell_type": "code",
   "execution_count": 98,
   "metadata": {
    "scrolled": true
   },
   "outputs": [],
   "source": [
    "# Count the objects detected by YOLO\n",
    "objects_detected = set()\n",
    "for key, item in yolo_pred.items():\n",
    "    for label_dict in item:\n",
    "        objects_detected.add(label_dict['label'])"
   ]
  },
  {
   "cell_type": "code",
   "execution_count": 99,
   "metadata": {},
   "outputs": [],
   "source": [
    "object_index = dict(zip(list(objects_detected), range(len(objects_detected))))"
   ]
  },
  {
   "cell_type": "code",
   "execution_count": 54,
   "metadata": {},
   "outputs": [
    {
     "data": {
      "text/plain": [
       "[{'bottomright': {'x': 1899, 'y': 2472},\n",
       "  'confidence': 0.83158284,\n",
       "  'label': 'person',\n",
       "  'topleft': {'x': 0, 'y': 158}}]"
      ]
     },
     "execution_count": 54,
     "metadata": {},
     "output_type": "execute_result"
    }
   ],
   "source": [
    "yolo_pred['tt3131050']"
   ]
  },
  {
   "cell_type": "markdown",
   "metadata": {},
   "source": [
    "### Train Set Object Vectorization"
   ]
  },
  {
   "cell_type": "markdown",
   "metadata": {},
   "source": [
    "#### 1. detected objects vectorization"
   ]
  },
  {
   "cell_type": "code",
   "execution_count": 163,
   "metadata": {},
   "outputs": [],
   "source": [
    "train_obj_vec = np.zeros((X_train.shape[0], 79))\n",
    "for index, poster_id in enumerate(X_train.imdb_id.values):\n",
    "    if poster_id in yolo_pred:\n",
    "        list_obj_dict = yolo_pred[poster_id]\n",
    "        for obj_dict in list_obj_dict:\n",
    "            train_obj_vec[index, object_index[obj_dict['label']]] += 1"
   ]
  },
  {
   "cell_type": "code",
   "execution_count": 164,
   "metadata": {
    "collapsed": true
   },
   "outputs": [],
   "source": [
    "test_obj_vec = np.zeros((X_test.shape[0], 79))\n",
    "for index, poster_id in enumerate(X_test.imdb_id.values):\n",
    "    if poster_id in yolo_pred:\n",
    "        list_obj_dict = yolo_pred[poster_id]\n",
    "        for obj_dict in list_obj_dict:\n",
    "            test_obj_vec[index, object_index[obj_dict['label']]] += 1"
   ]
  },
  {
   "cell_type": "code",
   "execution_count": 165,
   "metadata": {},
   "outputs": [
    {
     "data": {
      "text/plain": [
       "(3489, 79)"
      ]
     },
     "execution_count": 165,
     "metadata": {},
     "output_type": "execute_result"
    }
   ],
   "source": [
    "train_obj_vec.shape"
   ]
  },
  {
   "cell_type": "code",
   "execution_count": 166,
   "metadata": {},
   "outputs": [
    {
     "data": {
      "text/plain": [
       "(873, 79)"
      ]
     },
     "execution_count": 166,
     "metadata": {},
     "output_type": "execute_result"
    }
   ],
   "source": [
    "test_obj_vec.shape"
   ]
  },
  {
   "cell_type": "markdown",
   "metadata": {},
   "source": [
    "**Fully-connected Layer**"
   ]
  },
  {
   "cell_type": "code",
   "execution_count": 167,
   "metadata": {},
   "outputs": [],
   "source": [
    "model = Sequential()\n",
    "model.add(Dense(512, input_dim = train_obj_vec.shape[1], activation='relu'))\n",
    "model.add(Dense(256, activation = 'relu'))\n",
    "model.add(Dropout(0.25))\n",
    "model.add(Dense(20, activation='sigmoid'))"
   ]
  },
  {
   "cell_type": "code",
   "execution_count": 168,
   "metadata": {},
   "outputs": [
    {
     "name": "stdout",
     "output_type": "stream",
     "text": [
      "_________________________________________________________________\n",
      "Layer (type)                 Output Shape              Param #   \n",
      "=================================================================\n",
      "dense_16 (Dense)             (None, 512)               40960     \n",
      "_________________________________________________________________\n",
      "dense_17 (Dense)             (None, 256)               131328    \n",
      "_________________________________________________________________\n",
      "dropout_8 (Dropout)          (None, 256)               0         \n",
      "_________________________________________________________________\n",
      "dense_18 (Dense)             (None, 20)                5140      \n",
      "=================================================================\n",
      "Total params: 177,428\n",
      "Trainable params: 177,428\n",
      "Non-trainable params: 0\n",
      "_________________________________________________________________\n"
     ]
    }
   ],
   "source": [
    "model.summary()"
   ]
  },
  {
   "cell_type": "code",
   "execution_count": 169,
   "metadata": {
    "collapsed": true
   },
   "outputs": [],
   "source": [
    "model.compile(optimizer=Adam(lr=0.0005), loss='binary_crossentropy', metrics=['acc'])"
   ]
  },
  {
   "cell_type": "code",
   "execution_count": 170,
   "metadata": {
    "collapsed": true
   },
   "outputs": [
    {
     "name": "stdout",
     "output_type": "stream",
     "text": [
      "Train on 3489 samples, validate on 873 samples\n",
      "Epoch 1/50\n",
      "3489/3489 [==============================] - 1s 156us/step - loss: 0.5671 - acc: 0.7735 - val_loss: 0.4671 - val_acc: 0.8422\n",
      "Epoch 2/50\n",
      "3489/3489 [==============================] - 0s 43us/step - loss: 0.4612 - acc: 0.8370 - val_loss: 0.4373 - val_acc: 0.8431\n",
      "Epoch 3/50\n",
      "3489/3489 [==============================] - 0s 42us/step - loss: 0.4332 - acc: 0.8424 - val_loss: 0.4154 - val_acc: 0.8442\n",
      "Epoch 4/50\n",
      "3489/3489 [==============================] - 0s 42us/step - loss: 0.4110 - acc: 0.8447 - val_loss: 0.3985 - val_acc: 0.8442\n",
      "Epoch 5/50\n",
      "3489/3489 [==============================] - 0s 43us/step - loss: 0.3940 - acc: 0.8462 - val_loss: 0.3893 - val_acc: 0.8451\n",
      "Epoch 6/50\n",
      "3489/3489 [==============================] - 0s 42us/step - loss: 0.3836 - acc: 0.8473 - val_loss: 0.3848 - val_acc: 0.8455\n",
      "Epoch 7/50\n",
      "3489/3489 [==============================] - 0s 48us/step - loss: 0.3780 - acc: 0.8482 - val_loss: 0.3826 - val_acc: 0.8463\n",
      "Epoch 8/50\n",
      "3489/3489 [==============================] - 0s 47us/step - loss: 0.3749 - acc: 0.8491 - val_loss: 0.3809 - val_acc: 0.8466\n",
      "Epoch 9/50\n",
      "3489/3489 [==============================] - 0s 46us/step - loss: 0.3721 - acc: 0.8499 - val_loss: 0.3803 - val_acc: 0.8467\n",
      "Epoch 10/50\n",
      "3489/3489 [==============================] - 0s 51us/step - loss: 0.3700 - acc: 0.8507 - val_loss: 0.3807 - val_acc: 0.8462\n",
      "Epoch 11/50\n",
      "3489/3489 [==============================] - 0s 65us/step - loss: 0.3694 - acc: 0.8509 - val_loss: 0.3802 - val_acc: 0.8465\n",
      "Epoch 12/50\n",
      "3489/3489 [==============================] - 0s 54us/step - loss: 0.3677 - acc: 0.8503 - val_loss: 0.3796 - val_acc: 0.8459\n",
      "Epoch 13/50\n",
      "3489/3489 [==============================] - 0s 47us/step - loss: 0.3657 - acc: 0.8515 - val_loss: 0.3800 - val_acc: 0.8456\n",
      "Epoch 14/50\n",
      "3489/3489 [==============================] - 0s 48us/step - loss: 0.3643 - acc: 0.8523 - val_loss: 0.3798 - val_acc: 0.8460\n",
      "Epoch 15/50\n",
      "3489/3489 [==============================] - 0s 47us/step - loss: 0.3627 - acc: 0.8523 - val_loss: 0.3797 - val_acc: 0.8459\n",
      "Epoch 16/50\n",
      "3489/3489 [==============================] - 0s 48us/step - loss: 0.3619 - acc: 0.8530 - val_loss: 0.3792 - val_acc: 0.8461\n",
      "Epoch 17/50\n",
      "3489/3489 [==============================] - 0s 47us/step - loss: 0.3606 - acc: 0.8532 - val_loss: 0.3799 - val_acc: 0.8459\n",
      "Epoch 18/50\n",
      "3489/3489 [==============================] - 0s 47us/step - loss: 0.3591 - acc: 0.8536 - val_loss: 0.3797 - val_acc: 0.8458\n",
      "Epoch 19/50\n",
      "3489/3489 [==============================] - 0s 48us/step - loss: 0.3585 - acc: 0.8537 - val_loss: 0.3804 - val_acc: 0.8462\n",
      "Epoch 20/50\n",
      "3489/3489 [==============================] - 0s 52us/step - loss: 0.3576 - acc: 0.8539 - val_loss: 0.3804 - val_acc: 0.8460\n",
      "Epoch 21/50\n",
      "3489/3489 [==============================] - 0s 76us/step - loss: 0.3562 - acc: 0.8546 - val_loss: 0.3802 - val_acc: 0.8459\n",
      "Epoch 22/50\n",
      "3489/3489 [==============================] - 0s 73us/step - loss: 0.3551 - acc: 0.8552 - val_loss: 0.3804 - val_acc: 0.8454\n",
      "Epoch 23/50\n",
      "3489/3489 [==============================] - 0s 76us/step - loss: 0.3544 - acc: 0.8547 - val_loss: 0.3808 - val_acc: 0.8459\n",
      "Epoch 24/50\n",
      "3489/3489 [==============================] - 0s 70us/step - loss: 0.3528 - acc: 0.8558 - val_loss: 0.3811 - val_acc: 0.8454\n",
      "Epoch 25/50\n",
      "3489/3489 [==============================] - 0s 52us/step - loss: 0.3512 - acc: 0.8556 - val_loss: 0.3811 - val_acc: 0.8455\n",
      "Epoch 26/50\n",
      "3489/3489 [==============================] - 0s 80us/step - loss: 0.3514 - acc: 0.8567 - val_loss: 0.3825 - val_acc: 0.8448\n",
      "Epoch 27/50\n",
      "3489/3489 [==============================] - 0s 77us/step - loss: 0.3500 - acc: 0.8573 - val_loss: 0.3823 - val_acc: 0.8451\n",
      "Epoch 28/50\n",
      "3489/3489 [==============================] - 0s 75us/step - loss: 0.3490 - acc: 0.8576 - val_loss: 0.3823 - val_acc: 0.8446\n",
      "Epoch 29/50\n",
      "3489/3489 [==============================] - 0s 59us/step - loss: 0.3483 - acc: 0.8577 - val_loss: 0.3828 - val_acc: 0.8444\n",
      "Epoch 30/50\n",
      "3489/3489 [==============================] - 0s 48us/step - loss: 0.3469 - acc: 0.8582 - val_loss: 0.3837 - val_acc: 0.8449\n",
      "Epoch 31/50\n",
      "3489/3489 [==============================] - 0s 70us/step - loss: 0.3456 - acc: 0.8592 - val_loss: 0.3831 - val_acc: 0.8443\n",
      "Epoch 32/50\n",
      "3489/3489 [==============================] - 0s 47us/step - loss: 0.3440 - acc: 0.8598 - val_loss: 0.3832 - val_acc: 0.8450\n",
      "Epoch 33/50\n",
      "3489/3489 [==============================] - 0s 45us/step - loss: 0.3426 - acc: 0.8601 - val_loss: 0.3836 - val_acc: 0.8448\n",
      "Epoch 34/50\n",
      "3489/3489 [==============================] - 0s 46us/step - loss: 0.3422 - acc: 0.8602 - val_loss: 0.3850 - val_acc: 0.8452\n",
      "Epoch 35/50\n",
      "3489/3489 [==============================] - 0s 45us/step - loss: 0.3413 - acc: 0.8610 - val_loss: 0.3845 - val_acc: 0.8451\n",
      "Epoch 36/50\n",
      "3489/3489 [==============================] - 0s 45us/step - loss: 0.3401 - acc: 0.8608 - val_loss: 0.3855 - val_acc: 0.8448\n",
      "Epoch 37/50\n",
      "3489/3489 [==============================] - 0s 45us/step - loss: 0.3383 - acc: 0.8618 - val_loss: 0.3854 - val_acc: 0.8451\n",
      "Epoch 38/50\n",
      "3489/3489 [==============================] - 0s 49us/step - loss: 0.3376 - acc: 0.8619 - val_loss: 0.3862 - val_acc: 0.8452\n",
      "Epoch 39/50\n",
      "3489/3489 [==============================] - 0s 80us/step - loss: 0.3373 - acc: 0.8615 - val_loss: 0.3867 - val_acc: 0.8452\n",
      "Epoch 40/50\n",
      "3489/3489 [==============================] - 0s 56us/step - loss: 0.3350 - acc: 0.8632 - val_loss: 0.3871 - val_acc: 0.8448\n",
      "Epoch 41/50\n",
      "3489/3489 [==============================] - 0s 48us/step - loss: 0.3340 - acc: 0.8634 - val_loss: 0.3878 - val_acc: 0.8439\n",
      "Epoch 42/50\n",
      "3489/3489 [==============================] - 0s 55us/step - loss: 0.3333 - acc: 0.8638 - val_loss: 0.3883 - val_acc: 0.8442\n",
      "Epoch 43/50\n",
      "3489/3489 [==============================] - 0s 63us/step - loss: 0.3318 - acc: 0.8652 - val_loss: 0.3898 - val_acc: 0.8447\n",
      "Epoch 44/50\n",
      "3489/3489 [==============================] - 0s 45us/step - loss: 0.3300 - acc: 0.8650 - val_loss: 0.3900 - val_acc: 0.8444\n",
      "Epoch 45/50\n",
      "3489/3489 [==============================] - 0s 49us/step - loss: 0.3307 - acc: 0.8653 - val_loss: 0.3897 - val_acc: 0.8456\n",
      "Epoch 46/50\n",
      "3489/3489 [==============================] - 0s 46us/step - loss: 0.3293 - acc: 0.8651 - val_loss: 0.3910 - val_acc: 0.8445\n",
      "Epoch 47/50\n",
      "3489/3489 [==============================] - 0s 47us/step - loss: 0.3263 - acc: 0.8675 - val_loss: 0.3914 - val_acc: 0.8440\n",
      "Epoch 48/50\n",
      "3489/3489 [==============================] - 0s 79us/step - loss: 0.3264 - acc: 0.8665 - val_loss: 0.3924 - val_acc: 0.8435\n",
      "Epoch 49/50\n",
      "3489/3489 [==============================] - 0s 86us/step - loss: 0.3246 - acc: 0.8679 - val_loss: 0.3925 - val_acc: 0.8437\n",
      "Epoch 50/50\n",
      "3489/3489 [==============================] - 0s 85us/step - loss: 0.3234 - acc: 0.8696 - val_loss: 0.3934 - val_acc: 0.8443\n"
     ]
    }
   ],
   "source": [
    "dense_history = model.fit(train_obj_vec, y_train,\n",
    "                batch_size=128,\n",
    "                epochs=50, validation_data = (test_obj_vec, y_test))"
   ]
  },
  {
   "cell_type": "markdown",
   "metadata": {},
   "source": [
    "This model with detected objects vectorization does not give accurate predictions so further evaluation is abandoned."
   ]
  },
  {
   "cell_type": "markdown",
   "metadata": {},
   "source": [
    "#### 2. Object confidence vectorization"
   ]
  },
  {
   "cell_type": "code",
   "execution_count": 138,
   "metadata": {
    "collapsed": true
   },
   "outputs": [],
   "source": [
    "train_obj_vec = np.zeros((X_train.shape[0], 79))\n",
    "for index, poster_id in enumerate(X_train.imdb_id.values):\n",
    "    if poster_id in yolo_pred:\n",
    "        list_obj_dict = yolo_pred[poster_id]\n",
    "        for obj_dict in list_obj_dict:\n",
    "            train_obj_vec[index, object_index[obj_dict['label']]] += obj_dict['confidence']"
   ]
  },
  {
   "cell_type": "code",
   "execution_count": 139,
   "metadata": {
    "collapsed": true
   },
   "outputs": [],
   "source": [
    "test_obj_vec = np.zeros((X_test.shape[0], 79))\n",
    "for index, poster_id in enumerate(X_test.imdb_id.values):\n",
    "    if poster_id in yolo_pred:\n",
    "        list_obj_dict = yolo_pred[poster_id]\n",
    "        for obj_dict in list_obj_dict:\n",
    "            test_obj_vec[index, object_index[obj_dict['label']]] += obj_dict['confidence']"
   ]
  },
  {
   "cell_type": "markdown",
   "metadata": {},
   "source": [
    "**Fully-connected Layer**"
   ]
  },
  {
   "cell_type": "code",
   "execution_count": 140,
   "metadata": {
    "collapsed": true
   },
   "outputs": [],
   "source": [
    "model = Sequential()\n",
    "model.add(Dense(512, input_dim = train_obj_vec.shape[1], activation='relu'))\n",
    "model.add(Dense(256, activation = 'relu'))\n",
    "model.add(Dropout(0.25))\n",
    "model.add(Dense(20, activation='sigmoid'))"
   ]
  },
  {
   "cell_type": "code",
   "execution_count": 142,
   "metadata": {
    "collapsed": true
   },
   "outputs": [
    {
     "name": "stdout",
     "output_type": "stream",
     "text": [
      "Train on 3489 samples, validate on 873 samples\n",
      "Epoch 1/50\n",
      "3489/3489 [==============================] - 0s 143us/step - loss: 0.3524 - acc: 0.8565 - val_loss: 0.3806 - val_acc: 0.8447\n",
      "Epoch 2/50\n",
      "3489/3489 [==============================] - 0s 53us/step - loss: 0.3506 - acc: 0.8576 - val_loss: 0.3809 - val_acc: 0.8448\n",
      "Epoch 3/50\n",
      "3489/3489 [==============================] - 0s 48us/step - loss: 0.3502 - acc: 0.8580 - val_loss: 0.3800 - val_acc: 0.8448\n",
      "Epoch 4/50\n",
      "3489/3489 [==============================] - 0s 45us/step - loss: 0.3487 - acc: 0.8583 - val_loss: 0.3808 - val_acc: 0.8459\n",
      "Epoch 5/50\n",
      "3489/3489 [==============================] - 0s 68us/step - loss: 0.3479 - acc: 0.8581 - val_loss: 0.3818 - val_acc: 0.8455\n",
      "Epoch 6/50\n",
      "3489/3489 [==============================] - 0s 67us/step - loss: 0.3485 - acc: 0.8581 - val_loss: 0.3810 - val_acc: 0.8454\n",
      "Epoch 7/50\n",
      "3489/3489 [==============================] - 0s 48us/step - loss: 0.3472 - acc: 0.8578 - val_loss: 0.3812 - val_acc: 0.8443\n",
      "Epoch 8/50\n",
      "3489/3489 [==============================] - 0s 46us/step - loss: 0.3464 - acc: 0.8590 - val_loss: 0.3821 - val_acc: 0.8455\n",
      "Epoch 9/50\n",
      "3489/3489 [==============================] - 0s 45us/step - loss: 0.3450 - acc: 0.8597 - val_loss: 0.3830 - val_acc: 0.8446\n",
      "Epoch 10/50\n",
      "3489/3489 [==============================] - 0s 45us/step - loss: 0.3448 - acc: 0.8596 - val_loss: 0.3824 - val_acc: 0.8442\n",
      "Epoch 11/50\n",
      "3489/3489 [==============================] - 0s 49us/step - loss: 0.3442 - acc: 0.8595 - val_loss: 0.3835 - val_acc: 0.8444\n",
      "Epoch 12/50\n",
      "3489/3489 [==============================] - 0s 68us/step - loss: 0.3437 - acc: 0.8594 - val_loss: 0.3827 - val_acc: 0.8442\n",
      "Epoch 13/50\n",
      "3489/3489 [==============================] - 0s 64us/step - loss: 0.3421 - acc: 0.8602 - val_loss: 0.3841 - val_acc: 0.8448\n",
      "Epoch 14/50\n",
      "3489/3489 [==============================] - 0s 46us/step - loss: 0.3409 - acc: 0.8607 - val_loss: 0.3847 - val_acc: 0.8443\n",
      "Epoch 15/50\n",
      "3489/3489 [==============================] - 0s 46us/step - loss: 0.3411 - acc: 0.8607 - val_loss: 0.3844 - val_acc: 0.8447\n",
      "Epoch 16/50\n",
      "3489/3489 [==============================] - 0s 46us/step - loss: 0.3400 - acc: 0.8611 - val_loss: 0.3845 - val_acc: 0.8448\n",
      "Epoch 17/50\n",
      "3489/3489 [==============================] - 0s 72us/step - loss: 0.3387 - acc: 0.8624 - val_loss: 0.3854 - val_acc: 0.8450\n",
      "Epoch 18/50\n",
      "3489/3489 [==============================] - 0s 79us/step - loss: 0.3393 - acc: 0.8612 - val_loss: 0.3881 - val_acc: 0.8426\n",
      "Epoch 19/50\n",
      "3489/3489 [==============================] - 0s 78us/step - loss: 0.3392 - acc: 0.8608 - val_loss: 0.3884 - val_acc: 0.8437\n",
      "Epoch 20/50\n",
      "3489/3489 [==============================] - 0s 47us/step - loss: 0.3375 - acc: 0.8621 - val_loss: 0.3892 - val_acc: 0.8451\n",
      "Epoch 21/50\n",
      "3489/3489 [==============================] - 0s 47us/step - loss: 0.3355 - acc: 0.8637 - val_loss: 0.3888 - val_acc: 0.8444\n",
      "Epoch 22/50\n",
      "3489/3489 [==============================] - 0s 48us/step - loss: 0.3357 - acc: 0.8633 - val_loss: 0.3871 - val_acc: 0.8436\n",
      "Epoch 23/50\n",
      "3489/3489 [==============================] - 0s 68us/step - loss: 0.3341 - acc: 0.8629 - val_loss: 0.3900 - val_acc: 0.8433\n",
      "Epoch 24/50\n",
      "3489/3489 [==============================] - 0s 47us/step - loss: 0.3346 - acc: 0.8627 - val_loss: 0.3899 - val_acc: 0.8431\n",
      "Epoch 25/50\n",
      "3489/3489 [==============================] - 0s 47us/step - loss: 0.3323 - acc: 0.8638 - val_loss: 0.3892 - val_acc: 0.8436\n",
      "Epoch 26/50\n",
      "3489/3489 [==============================] - 0s 47us/step - loss: 0.3320 - acc: 0.8655 - val_loss: 0.3912 - val_acc: 0.8438\n",
      "Epoch 27/50\n",
      "3489/3489 [==============================] - 0s 48us/step - loss: 0.3311 - acc: 0.8648 - val_loss: 0.3915 - val_acc: 0.8410\n",
      "Epoch 28/50\n",
      "3489/3489 [==============================] - 0s 76us/step - loss: 0.3313 - acc: 0.8644 - val_loss: 0.3910 - val_acc: 0.8433\n",
      "Epoch 29/50\n",
      "3489/3489 [==============================] - 0s 84us/step - loss: 0.3304 - acc: 0.8651 - val_loss: 0.3919 - val_acc: 0.8436\n",
      "Epoch 30/50\n",
      "3489/3489 [==============================] - 0s 59us/step - loss: 0.3298 - acc: 0.8650 - val_loss: 0.3926 - val_acc: 0.8411\n",
      "Epoch 31/50\n",
      "3489/3489 [==============================] - 0s 48us/step - loss: 0.3284 - acc: 0.8651 - val_loss: 0.3936 - val_acc: 0.8421\n",
      "Epoch 32/50\n",
      "3489/3489 [==============================] - 0s 57us/step - loss: 0.3289 - acc: 0.8662 - val_loss: 0.3945 - val_acc: 0.8432\n",
      "Epoch 33/50\n",
      "3489/3489 [==============================] - 0s 63us/step - loss: 0.3277 - acc: 0.8668 - val_loss: 0.3943 - val_acc: 0.8430\n",
      "Epoch 34/50\n",
      "3489/3489 [==============================] - 0s 93us/step - loss: 0.3253 - acc: 0.8669 - val_loss: 0.3959 - val_acc: 0.8411\n",
      "Epoch 35/50\n",
      "3489/3489 [==============================] - 0s 92us/step - loss: 0.3244 - acc: 0.8678 - val_loss: 0.3964 - val_acc: 0.8422\n",
      "Epoch 36/50\n",
      "3489/3489 [==============================] - 0s 77us/step - loss: 0.3244 - acc: 0.8680 - val_loss: 0.3979 - val_acc: 0.8403\n",
      "Epoch 37/50\n",
      "3489/3489 [==============================] - 0s 65us/step - loss: 0.3243 - acc: 0.8670 - val_loss: 0.3961 - val_acc: 0.8422\n",
      "Epoch 38/50\n",
      "3489/3489 [==============================] - 0s 51us/step - loss: 0.3218 - acc: 0.8682 - val_loss: 0.3976 - val_acc: 0.8419\n",
      "Epoch 39/50\n",
      "3489/3489 [==============================] - 0s 55us/step - loss: 0.3227 - acc: 0.8681 - val_loss: 0.3988 - val_acc: 0.8421\n",
      "Epoch 40/50\n",
      "3489/3489 [==============================] - 0s 57us/step - loss: 0.3209 - acc: 0.8683 - val_loss: 0.3983 - val_acc: 0.8408\n",
      "Epoch 41/50\n",
      "3489/3489 [==============================] - 0s 63us/step - loss: 0.3206 - acc: 0.8691 - val_loss: 0.4035 - val_acc: 0.8432\n",
      "Epoch 42/50\n",
      "3489/3489 [==============================] - ETA: 0s - loss: 0.3201 - acc: 0.869 - 0s 75us/step - loss: 0.3201 - acc: 0.8690 - val_loss: 0.4068 - val_acc: 0.8397\n",
      "Epoch 43/50\n",
      "3489/3489 [==============================] - 0s 78us/step - loss: 0.3191 - acc: 0.8703 - val_loss: 0.4011 - val_acc: 0.8426\n",
      "Epoch 44/50\n",
      "3489/3489 [==============================] - 0s 71us/step - loss: 0.3186 - acc: 0.8702 - val_loss: 0.4028 - val_acc: 0.8420\n",
      "Epoch 45/50\n",
      "3489/3489 [==============================] - 0s 58us/step - loss: 0.3178 - acc: 0.8701 - val_loss: 0.4048 - val_acc: 0.8420\n",
      "Epoch 46/50\n",
      "3489/3489 [==============================] - 0s 59us/step - loss: 0.3163 - acc: 0.8714 - val_loss: 0.4032 - val_acc: 0.8420\n",
      "Epoch 47/50\n",
      "3489/3489 [==============================] - 0s 69us/step - loss: 0.3155 - acc: 0.8716 - val_loss: 0.4042 - val_acc: 0.8407\n",
      "Epoch 48/50\n",
      "3489/3489 [==============================] - 0s 55us/step - loss: 0.3154 - acc: 0.8716 - val_loss: 0.4075 - val_acc: 0.8383\n",
      "Epoch 49/50\n",
      "3489/3489 [==============================] - 0s 58us/step - loss: 0.3148 - acc: 0.8717 - val_loss: 0.4064 - val_acc: 0.8392\n",
      "Epoch 50/50\n",
      "3489/3489 [==============================] - 0s 60us/step - loss: 0.3122 - acc: 0.8718 - val_loss: 0.4068 - val_acc: 0.8389\n"
     ]
    }
   ],
   "source": [
    "model.compile(optimizer=Adam(lr=0.001), loss='binary_crossentropy', metrics=['acc'])\n",
    "\n",
    "dense_history = model.fit(train_obj_vec, y_train,\n",
    "                batch_size=128,\n",
    "                epochs=50, validation_data = (test_obj_vec, y_test))"
   ]
  },
  {
   "cell_type": "code",
   "execution_count": 144,
   "metadata": {},
   "outputs": [],
   "source": [
    "dense_train = model.predict(train_obj_vec)\n",
    "dense_test = model.predict(test_obj_vec)"
   ]
  },
  {
   "cell_type": "code",
   "execution_count": 145,
   "metadata": {},
   "outputs": [
    {
     "name": "stdout",
     "output_type": "stream",
     "text": [
      "Fully-connected Avg Accuracy on train : 0.8765978790484379\n",
      "Fully-connected Exact Accuracy on train : 0.09171682430495844\n",
      "Fully-connected Precision on train : 0.8446919371188703\n",
      "Fully-connected Recall on train : 0.23126702935505888\n",
      "Fully-connected Hit Rate on train : 0.702493551160791\n",
      "Fully-connected F1 score on train : 0.3631168122662505\n"
     ]
    }
   ],
   "source": [
    "# evaluation\n",
    "print('Fully-connected Avg Accuracy on train : {}'.format(score_thres(y_train, dense_train, method = 'avg')))\n",
    "print('Fully-connected Exact Accuracy on train : {}'.format(score_thres(y_train, dense_train, method = 'exact')))\n",
    "print('Fully-connected Precision on train : {}'.format(score_thres(y_train, dense_train, method = 'precision')))\n",
    "print('Fully-connected Recall on train : {}'.format(score_thres(y_train, dense_train, method = 'recall')))\n",
    "print('Fully-connected Hit Rate on train : {}'.format(score_thres(y_train, dense_train, method = 'hit')))\n",
    "print('Fully-connected F1 score on train : {}'.format(score_thres(y_train, dense_train, method = 'f1')))"
   ]
  },
  {
   "cell_type": "code",
   "execution_count": 146,
   "metadata": {
    "scrolled": false
   },
   "outputs": [
    {
     "name": "stdout",
     "output_type": "stream",
     "text": [
      "Fully-connected Avg Accuracy on train : 0.8389461626575029\n",
      "Fully-connected Exact Accuracy on train : 0.029782359679266894\n",
      "Fully-connected Precision on train : 0.30417947605390855\n",
      "Fully-connected Recall on train : 0.11908359073408085\n",
      "Fully-connected Hit Rate on train : 0.572737686139748\n",
      "Fully-connected F1 score on train : 0.17115967386899184\n"
     ]
    }
   ],
   "source": [
    "# evaluation\n",
    "print('Fully-connected Avg Accuracy on train : {}'.format(score_thres(y_test, dense_test, method = 'avg')))\n",
    "print('Fully-connected Exact Accuracy on train : {}'.format(score_thres(y_test, dense_test, method = 'exact')))\n",
    "print('Fully-connected Precision on train : {}'.format(score_thres(y_test, dense_test, method = 'precision')))\n",
    "print('Fully-connected Recall on train : {}'.format(score_thres(y_test, dense_test, method = 'recall')))\n",
    "print('Fully-connected Hit Rate on train : {}'.format(score_thres(y_test, dense_test, method = 'hit')))\n",
    "print('Fully-connected F1 score on train : {}'.format(score_thres(y_test, dense_test, method = 'f1')))"
   ]
  },
  {
   "cell_type": "code",
   "execution_count": 235,
   "metadata": {},
   "outputs": [],
   "source": [
    "obj_metrics = metrics_thres_df(y_train, y_test, dense_train, dense_test)"
   ]
  },
  {
   "cell_type": "markdown",
   "metadata": {},
   "source": [
    "### Stack Prediction : Bag Of Words + Poster Objects Vectorization"
   ]
  },
  {
   "cell_type": "code",
   "execution_count": 186,
   "metadata": {
    "collapsed": true
   },
   "outputs": [],
   "source": [
    "# read in data\n",
    "imdb_movie = pd.read_csv('data/imdb_multilabel.csv')\n",
    "\n",
    "# drop movies with unknown plot\n",
    "imdb_movie['plot'] = imdb_movie['plot'].apply(lambda sentence: 'drop' if (('plot ' in sentence.lower()) \n",
    "                                              and ('unknown' in sentence.lower()))\n",
    "                                              or (len(sentence.split()) < 100) \n",
    "                                              else sentence.lower())\n",
    "imdb_movie = imdb_movie[imdb_movie['plot'] != 'drop']\n",
    "\n",
    "# single-label encoding\n",
    "genre_dict = dict(zip(imdb_movie.genre.unique(), range(20)))\n",
    "genre_dict['sci-fi'] = 8\n",
    "imdb_movie['genre_code'] = imdb_movie.genre.replace(genre_dict).values\n",
    "\n",
    "# multi-label encoded as an array\n",
    "def multi_label_encoder(all_genre_list):\n",
    "    \"\"\" This function takes a list of genre with a dictionary that keeps track of the index of the genre\n",
    "    INPUTS\n",
    "    ------\n",
    "    all_genre_list: list of genres\n",
    "    genre_dict: dictionary of indexs\n",
    "    \n",
    "    OUTPUTS\n",
    "    -------\n",
    "    np array in {0, 1}\n",
    "    \"\"\"\n",
    "    encode = np.zeros(20)\n",
    "    all_genre_list = ast.literal_eval(all_genre_list)\n",
    "    for genre in all_genre_list:\n",
    "        if genre.lower() in genre_dict:\n",
    "            encode[genre_dict[genre.lower()]] = 1\n",
    "    return list(encode)\n",
    "\n",
    "imdb_movie['all_genre_encode'] = imdb_movie['all_genre'].apply(multi_label_encoder)\n",
    "imdb_movie['plot_list'] = imdb_movie['plot_list'].apply(ast.literal_eval)\n",
    "\n",
    "# train test split\n",
    "X_train, X_test, y_train, y_test = train_test_split(imdb_movie['plot'], \n",
    "                                                    imdb_movie['all_genre_encode'],\n",
    "                                                    test_size = 0.2,\n",
    "                                                    random_state = 209,\n",
    "                                                    stratify = imdb_movie['genre']\n",
    "                                                    )\n",
    "\n",
    "# reshape y_train and y_test\n",
    "y_train = np.array(list(y_train))\n",
    "y_test = np.array(list(y_test))"
   ]
  },
  {
   "cell_type": "code",
   "execution_count": 187,
   "metadata": {
    "collapsed": true
   },
   "outputs": [],
   "source": [
    "# bag of words representation\n",
    "vectorizer = CountVectorizer(stop_words='english')\n",
    "\n",
    "bag_X_train = vectorizer.fit_transform(X_train)\n",
    "bag_X_test = vectorizer.transform(X_test)"
   ]
  },
  {
   "cell_type": "code",
   "execution_count": 188,
   "metadata": {},
   "outputs": [
    {
     "data": {
      "text/plain": [
       "(3489, 38075)"
      ]
     },
     "execution_count": 188,
     "metadata": {},
     "output_type": "execute_result"
    }
   ],
   "source": [
    "bag_X_train.shape"
   ]
  },
  {
   "cell_type": "code",
   "execution_count": 189,
   "metadata": {},
   "outputs": [
    {
     "data": {
      "text/plain": [
       "(3489, 79)"
      ]
     },
     "execution_count": 189,
     "metadata": {},
     "output_type": "execute_result"
    }
   ],
   "source": [
    "train_obj_vec.shape"
   ]
  },
  {
   "cell_type": "code",
   "execution_count": 208,
   "metadata": {},
   "outputs": [],
   "source": [
    "stack_X_train = np.concatenate((bag_X_train.toarray(), train_obj_vec), axis = 1)\n",
    "stack_X_test = np.concatenate((bag_X_test.toarray(), test_obj_vec), axis = 1)"
   ]
  },
  {
   "cell_type": "code",
   "execution_count": 226,
   "metadata": {},
   "outputs": [
    {
     "name": "stdout",
     "output_type": "stream",
     "text": [
      "_________________________________________________________________\n",
      "Layer (type)                 Output Shape              Param #   \n",
      "=================================================================\n",
      "dense_28 (Dense)             (None, 512)               19535360  \n",
      "_________________________________________________________________\n",
      "dropout_13 (Dropout)         (None, 512)               0         \n",
      "_________________________________________________________________\n",
      "dense_29 (Dense)             (None, 256)               131328    \n",
      "_________________________________________________________________\n",
      "dropout_14 (Dropout)         (None, 256)               0         \n",
      "_________________________________________________________________\n",
      "dense_30 (Dense)             (None, 20)                5140      \n",
      "=================================================================\n",
      "Total params: 19,671,828\n",
      "Trainable params: 19,671,828\n",
      "Non-trainable params: 0\n",
      "_________________________________________________________________\n"
     ]
    }
   ],
   "source": [
    "stack_dense = Sequential()\n",
    "stack_dense.add(Dense(512, input_dim = train_obj_vec.shape[1] + bag_X_train.shape[1], activation='relu'))\n",
    "stack_dense.add(Dropout(0.25))\n",
    "stack_dense.add(Dense(256, activation = 'relu'))\n",
    "stack_dense.add(Dropout(0.5))\n",
    "stack_dense.add(Dense(20, activation='sigmoid'))\n",
    "\n",
    "stack_dense.summary()\n",
    "\n",
    "stack_dense.compile(optimizer=Adam(lr=0.0005), loss='binary_crossentropy', metrics=['acc'])"
   ]
  },
  {
   "cell_type": "code",
   "execution_count": 227,
   "metadata": {},
   "outputs": [
    {
     "name": "stdout",
     "output_type": "stream",
     "text": [
      "Train on 3489 samples, validate on 873 samples\n",
      "Epoch 1/10\n",
      "3489/3489 [==============================] - 13s 4ms/step - loss: 0.4895 - acc: 0.8022 - val_loss: 0.3817 - val_acc: 0.8525\n",
      "Epoch 2/10\n",
      "3489/3489 [==============================] - 11s 3ms/step - loss: 0.3427 - acc: 0.8693 - val_loss: 0.3138 - val_acc: 0.8812\n",
      "Epoch 3/10\n",
      "3489/3489 [==============================] - 14s 4ms/step - loss: 0.2480 - acc: 0.9053 - val_loss: 0.2739 - val_acc: 0.8948\n",
      "Epoch 4/10\n",
      "3489/3489 [==============================] - 12s 3ms/step - loss: 0.1803 - acc: 0.9335 - val_loss: 0.2567 - val_acc: 0.9014\n",
      "Epoch 5/10\n",
      "3489/3489 [==============================] - 12s 3ms/step - loss: 0.1318 - acc: 0.9525 - val_loss: 0.2511 - val_acc: 0.9046\n",
      "Epoch 6/10\n",
      "3489/3489 [==============================] - 11s 3ms/step - loss: 0.1001 - acc: 0.9660 - val_loss: 0.2570 - val_acc: 0.9058\n",
      "Epoch 7/10\n",
      "3489/3489 [==============================] - 12s 3ms/step - loss: 0.0769 - acc: 0.9755 - val_loss: 0.2697 - val_acc: 0.9049\n",
      "Epoch 8/10\n",
      "3489/3489 [==============================] - 12s 3ms/step - loss: 0.0615 - acc: 0.9809 - val_loss: 0.2796 - val_acc: 0.9065\n",
      "Epoch 9/10\n",
      "3489/3489 [==============================] - 12s 3ms/step - loss: 0.0518 - acc: 0.9844 - val_loss: 0.2862 - val_acc: 0.9066\n",
      "Epoch 10/10\n",
      "3489/3489 [==============================] - 12s 3ms/step - loss: 0.0448 - acc: 0.9868 - val_loss: 0.2993 - val_acc: 0.9060\n"
     ]
    }
   ],
   "source": [
    "dense_history = stack_dense.fit(stack_X_train, y_train,\n",
    "                batch_size=128,\n",
    "                epochs=10, validation_data = (stack_X_test, y_test))"
   ]
  },
  {
   "cell_type": "markdown",
   "metadata": {},
   "source": [
    "#### convergence check"
   ]
  },
  {
   "cell_type": "code",
   "execution_count": 231,
   "metadata": {},
   "outputs": [
    {
     "data": {
      "image/png": "[encoded data removed]",
      "text/plain": [
       "<matplotlib.figure.Figure at 0x1c88146ba8>"
      ]
     },
     "metadata": {},
     "output_type": "display_data"
    }
   ],
   "source": [
    "fig, ax = plt.subplots(figsize = (8, 8))\n",
    "plot_learning_curve(dense_history, ax)"
   ]
  },
  {
   "cell_type": "code",
   "execution_count": 222,
   "metadata": {},
   "outputs": [],
   "source": [
    "stack_train_pred = stack_dense.predict(stack_X_train)\n",
    "stack_test_pred = stack_dense.predict(stack_X_test)"
   ]
  },
  {
   "cell_type": "code",
   "execution_count": 224,
   "metadata": {},
   "outputs": [
    {
     "name": "stdout",
     "output_type": "stream",
     "text": [
      "Fully-connected Avg Accuracy on train : 0.9998996847234165\n",
      "Fully-connected Exact Accuracy on train : 0.998280309544282\n",
      "Fully-connected Precision on train : 0.9999732477260567\n",
      "Fully-connected Recall on train : 0.9989564163075706\n",
      "Fully-connected Hit Rate on train : 1.0\n",
      "Fully-connected F1 score on train : 0.9994645733918726\n"
     ]
    }
   ],
   "source": [
    "# evaluation\n",
    "print('Fully-connected Avg Accuracy on train : {}'.format(score_thres(y_train, stack_train_pred, method = 'avg')))\n",
    "print('Fully-connected Exact Accuracy on train : {}'.format(score_thres(y_train, stack_train_pred, method = 'exact')))\n",
    "print('Fully-connected Precision on train : {}'.format(score_thres(y_train, stack_train_pred, method = 'precision')))\n",
    "print('Fully-connected Recall on train : {}'.format(score_thres(y_train, stack_train_pred, method = 'recall')))\n",
    "print('Fully-connected Hit Rate on train : {}'.format(score_thres(y_train, stack_train_pred, method = 'hit')))\n",
    "print('Fully-connected F1 score on train : {}'.format(score_thres(y_train, stack_train_pred, method = 'f1')))"
   ]
  },
  {
   "cell_type": "code",
   "execution_count": 225,
   "metadata": {},
   "outputs": [
    {
     "name": "stdout",
     "output_type": "stream",
     "text": [
      "Fully-connected Avg Accuracy on train : 0.9050973654066438\n",
      "Fully-connected Exact Accuracy on train : 0.14891179839633448\n",
      "Fully-connected Precision on train : 0.795204487961708\n",
      "Fully-connected Recall on train : 0.5168061567721981\n",
      "Fully-connected Hit Rate on train : 0.9484536082474226\n",
      "Fully-connected F1 score on train : 0.6264683551479014\n"
     ]
    }
   ],
   "source": [
    "# evaluation\n",
    "print('Fully-connected Avg Accuracy on train : {}'.format(score_thres(y_test, stack_test_pred, method = 'avg')))\n",
    "print('Fully-connected Exact Accuracy on train : {}'.format(score_thres(y_test, stack_test_pred, method = 'exact')))\n",
    "print('Fully-connected Precision on train : {}'.format(score_thres(y_test, stack_test_pred, method = 'precision')))\n",
    "print('Fully-connected Recall on train : {}'.format(score_thres(y_test, stack_test_pred, method = 'recall')))\n",
    "print('Fully-connected Hit Rate on train : {}'.format(score_thres(y_test, stack_test_pred, method = 'hit')))\n",
    "print('Fully-connected F1 score on train : {}'.format(score_thres(y_test, stack_test_pred, method = 'f1')))"
   ]
  },
  {
   "cell_type": "code",
   "execution_count": 228,
   "metadata": {
    "collapsed": true
   },
   "outputs": [],
   "source": [
    "### save the stacked model\n",
    "stack_dense.save('stack.h5')"
   ]
  },
  {
   "cell_type": "code",
   "execution_count": 236,
   "metadata": {
    "collapsed": true
   },
   "outputs": [],
   "source": [
    "stack_metrics = metrics_thres_df(y_train, y_test, stack_train_pred, stack_test_pred)"
   ]
  },
  {
   "cell_type": "markdown",
   "metadata": {},
   "source": [
    "### Plot"
   ]
  },
  {
   "cell_type": "code",
   "execution_count": 241,
   "metadata": {
    "collapsed": true
   },
   "outputs": [],
   "source": [
    "score_df = pd.DataFrame({'Object Vectorization': obj_metrics,\n",
    "                         'Stack Predictor': stack_metrics\n",
    "                        })"
   ]
  },
  {
   "cell_type": "code",
   "execution_count": 245,
   "metadata": {},
   "outputs": [
    {
     "data": {
      "image/png": "[encoded data removed]",
      "text/plain": [
       "<matplotlib.figure.Figure at 0x1c89951cc0>"
      ]
     },
     "metadata": {},
     "output_type": "display_data"
    }
   ],
   "source": [
    "bar_width = 0.1\n",
    "plt.figure(figsize = (12,8))\n",
    "for idx,col in enumerate(score_df.columns):\n",
    "    plt.bar(np.arange(len(score_df.index[:6]))+idx*bar_width, score_df[[col]].values[6:12], \n",
    "            bar_width, color=sns.color_palette(\"Set3\")[idx], label=col)\n",
    "plt.xticks(np.arange(len(score_df.index[6:12]))+0.15, score_df.index[6:12])\n",
    "plt.ylabel('Overall Classification Accuracy on Test', fontsize = 20)\n",
    "plt.xlabel('Metrics', fontsize = 20)\n",
    "plt.legend(loc='upper right', bbox_to_anchor=(1.3, 1))\n",
    "plt.ylim(0,1)\n",
    "plt.title('Stack Network with train metrics', fontsize = 32)\n",
    "plt.show()"
   ]
  },
  {
   "cell_type": "code",
   "execution_count": 243,
   "metadata": {},
   "outputs": [
    {
     "data": {
      "image/png": "[encoded data removed]",
      "text/plain": [
       "<matplotlib.figure.Figure at 0x1c88d4c1d0>"
      ]
     },
     "metadata": {},
     "output_type": "display_data"
    }
   ],
   "source": [
    "bar_width = 0.1\n",
    "plt.figure(figsize = (12,8))\n",
    "for idx,col in enumerate(score_df.columns):\n",
    "    plt.bar(np.arange(len(score_df.index[6:12]))+idx*bar_width, score_df[[col]].values[6:12], \n",
    "            bar_width, color=sns.color_palette(\"Set3\")[idx], label=col)\n",
    "plt.xticks(np.arange(len(score_df.index[6:12]))+0.15, score_df.index[6:12])\n",
    "plt.ylabel('Overall Classification Accuracy on Test', fontsize = 20)\n",
    "plt.xlabel('Metrics', fontsize = 20)\n",
    "plt.legend(loc='upper right', bbox_to_anchor=(1.3, 1))\n",
    "plt.ylim(0,1)\n",
    "plt.title('Stack Network with test metrics', fontsize = 32)\n",
    "plt.show()"
   ]
  },
  {
   "cell_type": "code",
   "execution_count": null,
   "metadata": {
    "collapsed": true
   },
   "outputs": [],
   "source": []
  }
 ],
 "metadata": {
  "kernelspec": {
   "display_name": "Python 3",
   "language": "python",
   "name": "python3"
  },
  "language_info": {
   "codemirror_mode": {
    "name": "ipython",
    "version": 3
   },
   "file_extension": ".py",
   "mimetype": "text/x-python",
   "name": "python",
   "nbconvert_exporter": "python",
   "pygments_lexer": "ipython3",
   "version": "3.6.1"
  }
 },
 "nbformat": 4,
 "nbformat_minor": 2
}
