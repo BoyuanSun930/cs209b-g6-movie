{
 "cells": [
  {
   "cell_type": "markdown",
   "metadata": {},
   "source": [
    "## Data Science Final Project : Exploratory Data Analysis\n",
    "### Group Members : Jiachang Shi, Boyuan Sun, Xiangru Shu"
   ]
  },
  {
   "cell_type": "markdown",
   "metadata": {},
   "source": [
    "### Library Used"
   ]
  },
  {
   "cell_type": "code",
   "execution_count": 73,
   "metadata": {
    "collapsed": true
   },
   "outputs": [],
   "source": [
    "import pandas as pd\n",
    "import numpy as np\n",
    "import matplotlib.pyplot as plt\n",
    "import seaborn as sns\n",
    "import ast\n",
    "from nltk.corpus import stopwords\n",
    "from collections import Counter\n",
    "%matplotlib inline"
   ]
  },
  {
   "cell_type": "markdown",
   "metadata": {},
   "source": [
    "## Exploratory Data Analysis"
   ]
  },
  {
   "cell_type": "code",
   "execution_count": 52,
   "metadata": {
    "collapsed": true
   },
   "outputs": [],
   "source": [
    "imdb_movie = pd.read_csv('data/imdb_data.csv', index_col = 0)\n",
    "tmdb_movie = pd.read_csv('data/tmdb_data.csv', index_col = 0)"
   ]
  },
  {
   "cell_type": "code",
   "execution_count": 53,
   "metadata": {
    "scrolled": true
   },
   "outputs": [
    {
     "data": {
      "text/html": [
       "<div>\n",
       "<style>\n",
       "    .dataframe thead tr:only-child th {\n",
       "        text-align: right;\n",
       "    }\n",
       "\n",
       "    .dataframe thead th {\n",
       "        text-align: left;\n",
       "    }\n",
       "\n",
       "    .dataframe tbody tr th {\n",
       "        vertical-align: top;\n",
       "    }\n",
       "</style>\n",
       "<table border=\"1\" class=\"dataframe\">\n",
       "  <thead>\n",
       "    <tr style=\"text-align: right;\">\n",
       "      <th></th>\n",
       "      <th>title</th>\n",
       "      <th>imdb_id</th>\n",
       "      <th>topRank</th>\n",
       "      <th>bottomRank</th>\n",
       "      <th>metaScore</th>\n",
       "      <th>plot</th>\n",
       "      <th>rating</th>\n",
       "      <th>ratingCount</th>\n",
       "      <th>reviewCount</th>\n",
       "      <th>runningTimeInMinutes</th>\n",
       "      <th>userRatingCount</th>\n",
       "      <th>userScore</th>\n",
       "      <th>year</th>\n",
       "      <th>all_genre</th>\n",
       "      <th>genre</th>\n",
       "    </tr>\n",
       "  </thead>\n",
       "  <tbody>\n",
       "    <tr>\n",
       "      <th>0</th>\n",
       "      <td>I, Tonya</td>\n",
       "      <td>tt5580036</td>\n",
       "      <td>930.0</td>\n",
       "      <td>17643.0</td>\n",
       "      <td>77.0</td>\n",
       "      <td>{'outline': {'author': 'david_ash99', 'id': '/...</td>\n",
       "      <td>7.6</td>\n",
       "      <td>67667.0</td>\n",
       "      <td>46</td>\n",
       "      <td>120.0</td>\n",
       "      <td>235</td>\n",
       "      <td>7.8</td>\n",
       "      <td>2017.0</td>\n",
       "      <td>['Biography', 'Comedy', 'Drama', 'Sport']</td>\n",
       "      <td>sport</td>\n",
       "    </tr>\n",
       "    <tr>\n",
       "      <th>1</th>\n",
       "      <td>Cars 3</td>\n",
       "      <td>tt3606752</td>\n",
       "      <td>2256.0</td>\n",
       "      <td>11547.0</td>\n",
       "      <td>59.0</td>\n",
       "      <td>{'outline': {'id': '/title/tt3606752/plot/po21...</td>\n",
       "      <td>6.8</td>\n",
       "      <td>41896.0</td>\n",
       "      <td>41</td>\n",
       "      <td>102.0</td>\n",
       "      <td>232</td>\n",
       "      <td>6.9</td>\n",
       "      <td>2017.0</td>\n",
       "      <td>['Animation', 'Adventure', 'Comedy', 'Family',...</td>\n",
       "      <td>sport</td>\n",
       "    </tr>\n",
       "    <tr>\n",
       "      <th>2</th>\n",
       "      <td>Creed</td>\n",
       "      <td>tt3076658</td>\n",
       "      <td>847.0</td>\n",
       "      <td>17840.0</td>\n",
       "      <td>82.0</td>\n",
       "      <td>{'outline': {'author': 'Anonymous', 'id': '/ti...</td>\n",
       "      <td>7.6</td>\n",
       "      <td>193206.0</td>\n",
       "      <td>42</td>\n",
       "      <td>133.0</td>\n",
       "      <td>614</td>\n",
       "      <td>8.0</td>\n",
       "      <td>2015.0</td>\n",
       "      <td>['Drama', 'Sport']</td>\n",
       "      <td>sport</td>\n",
       "    </tr>\n",
       "    <tr>\n",
       "      <th>3</th>\n",
       "      <td>Battle of the Sexes</td>\n",
       "      <td>tt4622512</td>\n",
       "      <td>2303.0</td>\n",
       "      <td>11228.0</td>\n",
       "      <td>73.0</td>\n",
       "      <td>{'outline': {'author': 'Fox Searchlight Pictur...</td>\n",
       "      <td>6.8</td>\n",
       "      <td>27960.0</td>\n",
       "      <td>46</td>\n",
       "      <td>121.0</td>\n",
       "      <td>102</td>\n",
       "      <td>6.3</td>\n",
       "      <td>2017.0</td>\n",
       "      <td>['Biography', 'Comedy', 'Drama', 'Sport']</td>\n",
       "      <td>sport</td>\n",
       "    </tr>\n",
       "    <tr>\n",
       "      <th>4</th>\n",
       "      <td>Borg McEnroe</td>\n",
       "      <td>tt5727282</td>\n",
       "      <td>NaN</td>\n",
       "      <td>12891.0</td>\n",
       "      <td>57.0</td>\n",
       "      <td>{'outline': {'author': 'Anonymous', 'id': '/ti...</td>\n",
       "      <td>7.0</td>\n",
       "      <td>9800.0</td>\n",
       "      <td>13</td>\n",
       "      <td>107.0</td>\n",
       "      <td>0</td>\n",
       "      <td>NaN</td>\n",
       "      <td>2017.0</td>\n",
       "      <td>['Biography', 'Drama', 'Sport']</td>\n",
       "      <td>sport</td>\n",
       "    </tr>\n",
       "  </tbody>\n",
       "</table>\n",
       "</div>"
      ],
      "text/plain": [
       "                 title    imdb_id  topRank  bottomRank  metaScore  \\\n",
       "0             I, Tonya  tt5580036    930.0     17643.0       77.0   \n",
       "1               Cars 3  tt3606752   2256.0     11547.0       59.0   \n",
       "2                Creed  tt3076658    847.0     17840.0       82.0   \n",
       "3  Battle of the Sexes  tt4622512   2303.0     11228.0       73.0   \n",
       "4         Borg McEnroe  tt5727282      NaN     12891.0       57.0   \n",
       "\n",
       "                                                plot  rating  ratingCount  \\\n",
       "0  {'outline': {'author': 'david_ash99', 'id': '/...     7.6      67667.0   \n",
       "1  {'outline': {'id': '/title/tt3606752/plot/po21...     6.8      41896.0   \n",
       "2  {'outline': {'author': 'Anonymous', 'id': '/ti...     7.6     193206.0   \n",
       "3  {'outline': {'author': 'Fox Searchlight Pictur...     6.8      27960.0   \n",
       "4  {'outline': {'author': 'Anonymous', 'id': '/ti...     7.0       9800.0   \n",
       "\n",
       "   reviewCount  runningTimeInMinutes  userRatingCount  userScore    year  \\\n",
       "0           46                 120.0              235        7.8  2017.0   \n",
       "1           41                 102.0              232        6.9  2017.0   \n",
       "2           42                 133.0              614        8.0  2015.0   \n",
       "3           46                 121.0              102        6.3  2017.0   \n",
       "4           13                 107.0                0        NaN  2017.0   \n",
       "\n",
       "                                           all_genre  genre  \n",
       "0          ['Biography', 'Comedy', 'Drama', 'Sport']  sport  \n",
       "1  ['Animation', 'Adventure', 'Comedy', 'Family',...  sport  \n",
       "2                                 ['Drama', 'Sport']  sport  \n",
       "3          ['Biography', 'Comedy', 'Drama', 'Sport']  sport  \n",
       "4                    ['Biography', 'Drama', 'Sport']  sport  "
      ]
     },
     "execution_count": 53,
     "metadata": {},
     "output_type": "execute_result"
    }
   ],
   "source": [
    "imdb_movie.head()"
   ]
  },
  {
   "cell_type": "code",
   "execution_count": 54,
   "metadata": {
    "scrolled": false
   },
   "outputs": [
    {
     "data": {
      "text/html": [
       "<div>\n",
       "<style>\n",
       "    .dataframe thead tr:only-child th {\n",
       "        text-align: right;\n",
       "    }\n",
       "\n",
       "    .dataframe thead th {\n",
       "        text-align: left;\n",
       "    }\n",
       "\n",
       "    .dataframe tbody tr th {\n",
       "        vertical-align: top;\n",
       "    }\n",
       "</style>\n",
       "<table border=\"1\" class=\"dataframe\">\n",
       "  <thead>\n",
       "    <tr style=\"text-align: right;\">\n",
       "      <th></th>\n",
       "      <th>adult</th>\n",
       "      <th>backdrop_path</th>\n",
       "      <th>genre_ids</th>\n",
       "      <th>id</th>\n",
       "      <th>original_language</th>\n",
       "      <th>original_title</th>\n",
       "      <th>overview</th>\n",
       "      <th>popularity</th>\n",
       "      <th>poster_path</th>\n",
       "      <th>release_date</th>\n",
       "      <th>title</th>\n",
       "      <th>video</th>\n",
       "      <th>vote_average</th>\n",
       "      <th>vote_count</th>\n",
       "    </tr>\n",
       "  </thead>\n",
       "  <tbody>\n",
       "    <tr>\n",
       "      <th>0</th>\n",
       "      <td>False</td>\n",
       "      <td>/jDai0rdlBHhcY8vpJ4XmTIDQU5i.jpg</td>\n",
       "      <td>[18]</td>\n",
       "      <td>389015</td>\n",
       "      <td>en</td>\n",
       "      <td>I, Tonya</td>\n",
       "      <td>Competitive ice skater Tonya Harding rises amo...</td>\n",
       "      <td>34.312342</td>\n",
       "      <td>/6gNXwSHxaksR1PjVZRqNapmkgj3.jpg</td>\n",
       "      <td>2017-12-08</td>\n",
       "      <td>I, Tonya</td>\n",
       "      <td>False</td>\n",
       "      <td>7.5</td>\n",
       "      <td>930</td>\n",
       "    </tr>\n",
       "    <tr>\n",
       "      <th>1</th>\n",
       "      <td>False</td>\n",
       "      <td>/36h3Sw4y4COqMeNg31ST0h5xRae.jpg</td>\n",
       "      <td>[12, 16, 35, 10751]</td>\n",
       "      <td>260514</td>\n",
       "      <td>en</td>\n",
       "      <td>Cars 3</td>\n",
       "      <td>Blindsided by a new generation of blazing-fast...</td>\n",
       "      <td>29.586654</td>\n",
       "      <td>/fyy1nDC8wm553FCiBDojkJmKLCs.jpg</td>\n",
       "      <td>2017-06-15</td>\n",
       "      <td>Cars 3</td>\n",
       "      <td>False</td>\n",
       "      <td>6.8</td>\n",
       "      <td>1441</td>\n",
       "    </tr>\n",
       "    <tr>\n",
       "      <th>2</th>\n",
       "      <td>False</td>\n",
       "      <td>/nF4kmc4gDRQU4OJiJgk6sZtbJbl.jpg</td>\n",
       "      <td>[18]</td>\n",
       "      <td>312221</td>\n",
       "      <td>en</td>\n",
       "      <td>Creed</td>\n",
       "      <td>The former World Heavyweight Champion Rocky Ba...</td>\n",
       "      <td>30.031372</td>\n",
       "      <td>/hKzhV274pkZBSpXfCjUyzbyYKLl.jpg</td>\n",
       "      <td>2015-11-25</td>\n",
       "      <td>Creed</td>\n",
       "      <td>False</td>\n",
       "      <td>7.3</td>\n",
       "      <td>2569</td>\n",
       "    </tr>\n",
       "    <tr>\n",
       "      <th>3</th>\n",
       "      <td>False</td>\n",
       "      <td>/eR5335pOlOpY0sNsmKmuJJG4MnU.jpg</td>\n",
       "      <td>[35, 18, 36]</td>\n",
       "      <td>369192</td>\n",
       "      <td>en</td>\n",
       "      <td>Battle of the Sexes</td>\n",
       "      <td>The true story of the 1973 tennis match betwee...</td>\n",
       "      <td>15.467041</td>\n",
       "      <td>/fWy0A3VojTCb0S2MKtEJjpquubF.jpg</td>\n",
       "      <td>2017-09-22</td>\n",
       "      <td>Battle of the Sexes</td>\n",
       "      <td>False</td>\n",
       "      <td>7.0</td>\n",
       "      <td>516</td>\n",
       "    </tr>\n",
       "    <tr>\n",
       "      <th>4</th>\n",
       "      <td>False</td>\n",
       "      <td>/rfhnEYubWD4hnUUm8xXmotpqffb.jpg</td>\n",
       "      <td>[28, 12, 18, 10751]</td>\n",
       "      <td>38575</td>\n",
       "      <td>en</td>\n",
       "      <td>The Karate Kid</td>\n",
       "      <td>12-year-old Dre Parker could have been the mos...</td>\n",
       "      <td>13.104559</td>\n",
       "      <td>/l13emtM0cz0HyJeWSxb6ml5RvzT.jpg</td>\n",
       "      <td>2010-06-10</td>\n",
       "      <td>The Karate Kid</td>\n",
       "      <td>False</td>\n",
       "      <td>6.2</td>\n",
       "      <td>2108</td>\n",
       "    </tr>\n",
       "  </tbody>\n",
       "</table>\n",
       "</div>"
      ],
      "text/plain": [
       "   adult                     backdrop_path            genre_ids      id  \\\n",
       "0  False  /jDai0rdlBHhcY8vpJ4XmTIDQU5i.jpg                 [18]  389015   \n",
       "1  False  /36h3Sw4y4COqMeNg31ST0h5xRae.jpg  [12, 16, 35, 10751]  260514   \n",
       "2  False  /nF4kmc4gDRQU4OJiJgk6sZtbJbl.jpg                 [18]  312221   \n",
       "3  False  /eR5335pOlOpY0sNsmKmuJJG4MnU.jpg         [35, 18, 36]  369192   \n",
       "4  False  /rfhnEYubWD4hnUUm8xXmotpqffb.jpg  [28, 12, 18, 10751]   38575   \n",
       "\n",
       "  original_language       original_title  \\\n",
       "0                en             I, Tonya   \n",
       "1                en               Cars 3   \n",
       "2                en                Creed   \n",
       "3                en  Battle of the Sexes   \n",
       "4                en       The Karate Kid   \n",
       "\n",
       "                                            overview  popularity  \\\n",
       "0  Competitive ice skater Tonya Harding rises amo...   34.312342   \n",
       "1  Blindsided by a new generation of blazing-fast...   29.586654   \n",
       "2  The former World Heavyweight Champion Rocky Ba...   30.031372   \n",
       "3  The true story of the 1973 tennis match betwee...   15.467041   \n",
       "4  12-year-old Dre Parker could have been the mos...   13.104559   \n",
       "\n",
       "                        poster_path release_date                title  video  \\\n",
       "0  /6gNXwSHxaksR1PjVZRqNapmkgj3.jpg   2017-12-08             I, Tonya  False   \n",
       "1  /fyy1nDC8wm553FCiBDojkJmKLCs.jpg   2017-06-15               Cars 3  False   \n",
       "2  /hKzhV274pkZBSpXfCjUyzbyYKLl.jpg   2015-11-25                Creed  False   \n",
       "3  /fWy0A3VojTCb0S2MKtEJjpquubF.jpg   2017-09-22  Battle of the Sexes  False   \n",
       "4  /l13emtM0cz0HyJeWSxb6ml5RvzT.jpg   2010-06-10       The Karate Kid  False   \n",
       "\n",
       "   vote_average  vote_count  \n",
       "0           7.5         930  \n",
       "1           6.8        1441  \n",
       "2           7.3        2569  \n",
       "3           7.0         516  \n",
       "4           6.2        2108  "
      ]
     },
     "execution_count": 54,
     "metadata": {},
     "output_type": "execute_result"
    }
   ],
   "source": [
    "tmdb_movie.head()"
   ]
  },
  {
   "cell_type": "markdown",
   "metadata": {},
   "source": [
    "#### drop rows where there is no plot description found in the imdb database"
   ]
  },
  {
   "cell_type": "code",
   "execution_count": 55,
   "metadata": {},
   "outputs": [
    {
     "data": {
      "text/plain": [
       "13"
      ]
     },
     "execution_count": 55,
     "metadata": {},
     "output_type": "execute_result"
    }
   ],
   "source": [
    "sum(imdb_movie['plot'].isnull())"
   ]
  },
  {
   "cell_type": "code",
   "execution_count": 56,
   "metadata": {
    "collapsed": true
   },
   "outputs": [],
   "source": [
    "imdb_movie = imdb_movie.dropna(subset = ['plot'])"
   ]
  },
  {
   "cell_type": "code",
   "execution_count": 57,
   "metadata": {
    "scrolled": true
   },
   "outputs": [
    {
     "data": {
      "text/plain": [
       "0"
      ]
     },
     "execution_count": 57,
     "metadata": {},
     "output_type": "execute_result"
    }
   ],
   "source": [
    "sum(imdb_movie['plot'].isnull())"
   ]
  },
  {
   "cell_type": "markdown",
   "metadata": {},
   "source": [
    "#### plot string cleaning"
   ]
  },
  {
   "cell_type": "code",
   "execution_count": 58,
   "metadata": {
    "collapsed": true
   },
   "outputs": [],
   "source": [
    "def plot_cleaning(plot_str, all_plots = True):\n",
    "    \"\"\" Function to clean up the string representation of dictionary documenting the plot in the plot field in the\n",
    "        dataframe\n",
    "    INPUTS\n",
    "    ------\n",
    "    plot_str: string representation of a dictionary scrape from imdb\n",
    "    all_plots : True if all the plot description from every author is wanted\n",
    "                False if only the longest plot description is wanted\n",
    "    OUTPUTS\n",
    "    -------\n",
    "    str representation of the plot\n",
    "    \"\"\"\n",
    "    plot_dict = ast.literal_eval(plot_str)\n",
    "    plot_str = ''\n",
    "    \n",
    "    if 'summaries' in plot_dict:\n",
    "        plot_summary = plot_dict['summaries']\n",
    "    else:\n",
    "        plot_summary = [{'text':plot_dict['outline']['text']}]\n",
    "    # parse the dictionary\n",
    "    if all_plots:\n",
    "        for i in range(len(plot_summary)):\n",
    "            plot_str += plot_summary[i]['text'] + '\\n'\n",
    "    else:\n",
    "        max_len = 0\n",
    "        for i in range(len(plot_summary)):\n",
    "            cur_text = plot_summary[i]['text']\n",
    "            if len(cur_text) > max_len:\n",
    "                plot_str = cur_text\n",
    "                max_len = len(cur_text)\n",
    "    return plot_str"
   ]
  },
  {
   "cell_type": "code",
   "execution_count": 59,
   "metadata": {
    "collapsed": true,
    "scrolled": false
   },
   "outputs": [],
   "source": [
    "imdb_movie['plot'] = imdb_movie['plot'].apply(plot_cleaning)"
   ]
  },
  {
   "cell_type": "code",
   "execution_count": 60,
   "metadata": {
    "scrolled": false
   },
   "outputs": [
    {
     "data": {
      "text/html": [
       "<div>\n",
       "<style>\n",
       "    .dataframe thead tr:only-child th {\n",
       "        text-align: right;\n",
       "    }\n",
       "\n",
       "    .dataframe thead th {\n",
       "        text-align: left;\n",
       "    }\n",
       "\n",
       "    .dataframe tbody tr th {\n",
       "        vertical-align: top;\n",
       "    }\n",
       "</style>\n",
       "<table border=\"1\" class=\"dataframe\">\n",
       "  <thead>\n",
       "    <tr style=\"text-align: right;\">\n",
       "      <th></th>\n",
       "      <th>title</th>\n",
       "      <th>imdb_id</th>\n",
       "      <th>topRank</th>\n",
       "      <th>bottomRank</th>\n",
       "      <th>metaScore</th>\n",
       "      <th>plot</th>\n",
       "      <th>rating</th>\n",
       "      <th>ratingCount</th>\n",
       "      <th>reviewCount</th>\n",
       "      <th>runningTimeInMinutes</th>\n",
       "      <th>userRatingCount</th>\n",
       "      <th>userScore</th>\n",
       "      <th>year</th>\n",
       "      <th>all_genre</th>\n",
       "      <th>genre</th>\n",
       "    </tr>\n",
       "  </thead>\n",
       "  <tbody>\n",
       "    <tr>\n",
       "      <th>0</th>\n",
       "      <td>I, Tonya</td>\n",
       "      <td>tt5580036</td>\n",
       "      <td>930.0</td>\n",
       "      <td>17643.0</td>\n",
       "      <td>77.0</td>\n",
       "      <td>From the proverbial wrong side of the tracks i...</td>\n",
       "      <td>7.6</td>\n",
       "      <td>67667.0</td>\n",
       "      <td>46</td>\n",
       "      <td>120.0</td>\n",
       "      <td>235</td>\n",
       "      <td>7.8</td>\n",
       "      <td>2017.0</td>\n",
       "      <td>['Biography', 'Comedy', 'Drama', 'Sport']</td>\n",
       "      <td>sport</td>\n",
       "    </tr>\n",
       "    <tr>\n",
       "      <th>1</th>\n",
       "      <td>Cars 3</td>\n",
       "      <td>tt3606752</td>\n",
       "      <td>2256.0</td>\n",
       "      <td>11547.0</td>\n",
       "      <td>59.0</td>\n",
       "      <td>Blindsided by a new generation of blazing-fast...</td>\n",
       "      <td>6.8</td>\n",
       "      <td>41896.0</td>\n",
       "      <td>41</td>\n",
       "      <td>102.0</td>\n",
       "      <td>232</td>\n",
       "      <td>6.9</td>\n",
       "      <td>2017.0</td>\n",
       "      <td>['Animation', 'Adventure', 'Comedy', 'Family',...</td>\n",
       "      <td>sport</td>\n",
       "    </tr>\n",
       "    <tr>\n",
       "      <th>2</th>\n",
       "      <td>Creed</td>\n",
       "      <td>tt3076658</td>\n",
       "      <td>847.0</td>\n",
       "      <td>17840.0</td>\n",
       "      <td>82.0</td>\n",
       "      <td>Adonis Johnson is the son of the famous boxing...</td>\n",
       "      <td>7.6</td>\n",
       "      <td>193206.0</td>\n",
       "      <td>42</td>\n",
       "      <td>133.0</td>\n",
       "      <td>614</td>\n",
       "      <td>8.0</td>\n",
       "      <td>2015.0</td>\n",
       "      <td>['Drama', 'Sport']</td>\n",
       "      <td>sport</td>\n",
       "    </tr>\n",
       "    <tr>\n",
       "      <th>3</th>\n",
       "      <td>Battle of the Sexes</td>\n",
       "      <td>tt4622512</td>\n",
       "      <td>2303.0</td>\n",
       "      <td>11228.0</td>\n",
       "      <td>73.0</td>\n",
       "      <td>In the wake of the sexual revolution and the r...</td>\n",
       "      <td>6.8</td>\n",
       "      <td>27960.0</td>\n",
       "      <td>46</td>\n",
       "      <td>121.0</td>\n",
       "      <td>102</td>\n",
       "      <td>6.3</td>\n",
       "      <td>2017.0</td>\n",
       "      <td>['Biography', 'Comedy', 'Drama', 'Sport']</td>\n",
       "      <td>sport</td>\n",
       "    </tr>\n",
       "    <tr>\n",
       "      <th>4</th>\n",
       "      <td>Borg McEnroe</td>\n",
       "      <td>tt5727282</td>\n",
       "      <td>NaN</td>\n",
       "      <td>12891.0</td>\n",
       "      <td>57.0</td>\n",
       "      <td>The story of the 1980s tennis rivalry between ...</td>\n",
       "      <td>7.0</td>\n",
       "      <td>9800.0</td>\n",
       "      <td>13</td>\n",
       "      <td>107.0</td>\n",
       "      <td>0</td>\n",
       "      <td>NaN</td>\n",
       "      <td>2017.0</td>\n",
       "      <td>['Biography', 'Drama', 'Sport']</td>\n",
       "      <td>sport</td>\n",
       "    </tr>\n",
       "  </tbody>\n",
       "</table>\n",
       "</div>"
      ],
      "text/plain": [
       "                 title    imdb_id  topRank  bottomRank  metaScore  \\\n",
       "0             I, Tonya  tt5580036    930.0     17643.0       77.0   \n",
       "1               Cars 3  tt3606752   2256.0     11547.0       59.0   \n",
       "2                Creed  tt3076658    847.0     17840.0       82.0   \n",
       "3  Battle of the Sexes  tt4622512   2303.0     11228.0       73.0   \n",
       "4         Borg McEnroe  tt5727282      NaN     12891.0       57.0   \n",
       "\n",
       "                                                plot  rating  ratingCount  \\\n",
       "0  From the proverbial wrong side of the tracks i...     7.6      67667.0   \n",
       "1  Blindsided by a new generation of blazing-fast...     6.8      41896.0   \n",
       "2  Adonis Johnson is the son of the famous boxing...     7.6     193206.0   \n",
       "3  In the wake of the sexual revolution and the r...     6.8      27960.0   \n",
       "4  The story of the 1980s tennis rivalry between ...     7.0       9800.0   \n",
       "\n",
       "   reviewCount  runningTimeInMinutes  userRatingCount  userScore    year  \\\n",
       "0           46                 120.0              235        7.8  2017.0   \n",
       "1           41                 102.0              232        6.9  2017.0   \n",
       "2           42                 133.0              614        8.0  2015.0   \n",
       "3           46                 121.0              102        6.3  2017.0   \n",
       "4           13                 107.0                0        NaN  2017.0   \n",
       "\n",
       "                                           all_genre  genre  \n",
       "0          ['Biography', 'Comedy', 'Drama', 'Sport']  sport  \n",
       "1  ['Animation', 'Adventure', 'Comedy', 'Family',...  sport  \n",
       "2                                 ['Drama', 'Sport']  sport  \n",
       "3          ['Biography', 'Comedy', 'Drama', 'Sport']  sport  \n",
       "4                    ['Biography', 'Drama', 'Sport']  sport  "
      ]
     },
     "execution_count": 60,
     "metadata": {},
     "output_type": "execute_result"
    }
   ],
   "source": [
    "imdb_movie.head()"
   ]
  },
  {
   "cell_type": "code",
   "execution_count": 61,
   "metadata": {},
   "outputs": [],
   "source": [
    "imdb_movie['plot_list'] = imdb_movie['plot'].apply(lambda x: x.split())"
   ]
  },
  {
   "cell_type": "code",
   "execution_count": 62,
   "metadata": {},
   "outputs": [
    {
     "data": {
      "text/html": [
       "<div>\n",
       "<style>\n",
       "    .dataframe thead tr:only-child th {\n",
       "        text-align: right;\n",
       "    }\n",
       "\n",
       "    .dataframe thead th {\n",
       "        text-align: left;\n",
       "    }\n",
       "\n",
       "    .dataframe tbody tr th {\n",
       "        vertical-align: top;\n",
       "    }\n",
       "</style>\n",
       "<table border=\"1\" class=\"dataframe\">\n",
       "  <thead>\n",
       "    <tr style=\"text-align: right;\">\n",
       "      <th></th>\n",
       "      <th>title</th>\n",
       "      <th>imdb_id</th>\n",
       "      <th>topRank</th>\n",
       "      <th>bottomRank</th>\n",
       "      <th>metaScore</th>\n",
       "      <th>plot</th>\n",
       "      <th>rating</th>\n",
       "      <th>ratingCount</th>\n",
       "      <th>reviewCount</th>\n",
       "      <th>runningTimeInMinutes</th>\n",
       "      <th>userRatingCount</th>\n",
       "      <th>userScore</th>\n",
       "      <th>year</th>\n",
       "      <th>all_genre</th>\n",
       "      <th>genre</th>\n",
       "      <th>plot_list</th>\n",
       "    </tr>\n",
       "  </thead>\n",
       "  <tbody>\n",
       "    <tr>\n",
       "      <th>0</th>\n",
       "      <td>I, Tonya</td>\n",
       "      <td>tt5580036</td>\n",
       "      <td>930.0</td>\n",
       "      <td>17643.0</td>\n",
       "      <td>77.0</td>\n",
       "      <td>From the proverbial wrong side of the tracks i...</td>\n",
       "      <td>7.6</td>\n",
       "      <td>67667.0</td>\n",
       "      <td>46</td>\n",
       "      <td>120.0</td>\n",
       "      <td>235</td>\n",
       "      <td>7.8</td>\n",
       "      <td>2017.0</td>\n",
       "      <td>['Biography', 'Comedy', 'Drama', 'Sport']</td>\n",
       "      <td>sport</td>\n",
       "      <td>[From, the, proverbial, wrong, side, of, the, ...</td>\n",
       "    </tr>\n",
       "    <tr>\n",
       "      <th>1</th>\n",
       "      <td>Cars 3</td>\n",
       "      <td>tt3606752</td>\n",
       "      <td>2256.0</td>\n",
       "      <td>11547.0</td>\n",
       "      <td>59.0</td>\n",
       "      <td>Blindsided by a new generation of blazing-fast...</td>\n",
       "      <td>6.8</td>\n",
       "      <td>41896.0</td>\n",
       "      <td>41</td>\n",
       "      <td>102.0</td>\n",
       "      <td>232</td>\n",
       "      <td>6.9</td>\n",
       "      <td>2017.0</td>\n",
       "      <td>['Animation', 'Adventure', 'Comedy', 'Family',...</td>\n",
       "      <td>sport</td>\n",
       "      <td>[Blindsided, by, a, new, generation, of, blazi...</td>\n",
       "    </tr>\n",
       "    <tr>\n",
       "      <th>2</th>\n",
       "      <td>Creed</td>\n",
       "      <td>tt3076658</td>\n",
       "      <td>847.0</td>\n",
       "      <td>17840.0</td>\n",
       "      <td>82.0</td>\n",
       "      <td>Adonis Johnson is the son of the famous boxing...</td>\n",
       "      <td>7.6</td>\n",
       "      <td>193206.0</td>\n",
       "      <td>42</td>\n",
       "      <td>133.0</td>\n",
       "      <td>614</td>\n",
       "      <td>8.0</td>\n",
       "      <td>2015.0</td>\n",
       "      <td>['Drama', 'Sport']</td>\n",
       "      <td>sport</td>\n",
       "      <td>[Adonis, Johnson, is, the, son, of, the, famou...</td>\n",
       "    </tr>\n",
       "    <tr>\n",
       "      <th>3</th>\n",
       "      <td>Battle of the Sexes</td>\n",
       "      <td>tt4622512</td>\n",
       "      <td>2303.0</td>\n",
       "      <td>11228.0</td>\n",
       "      <td>73.0</td>\n",
       "      <td>In the wake of the sexual revolution and the r...</td>\n",
       "      <td>6.8</td>\n",
       "      <td>27960.0</td>\n",
       "      <td>46</td>\n",
       "      <td>121.0</td>\n",
       "      <td>102</td>\n",
       "      <td>6.3</td>\n",
       "      <td>2017.0</td>\n",
       "      <td>['Biography', 'Comedy', 'Drama', 'Sport']</td>\n",
       "      <td>sport</td>\n",
       "      <td>[In, the, wake, of, the, sexual, revolution, a...</td>\n",
       "    </tr>\n",
       "    <tr>\n",
       "      <th>4</th>\n",
       "      <td>Borg McEnroe</td>\n",
       "      <td>tt5727282</td>\n",
       "      <td>NaN</td>\n",
       "      <td>12891.0</td>\n",
       "      <td>57.0</td>\n",
       "      <td>The story of the 1980s tennis rivalry between ...</td>\n",
       "      <td>7.0</td>\n",
       "      <td>9800.0</td>\n",
       "      <td>13</td>\n",
       "      <td>107.0</td>\n",
       "      <td>0</td>\n",
       "      <td>NaN</td>\n",
       "      <td>2017.0</td>\n",
       "      <td>['Biography', 'Drama', 'Sport']</td>\n",
       "      <td>sport</td>\n",
       "      <td>[The, story, of, the, 1980s, tennis, rivalry, ...</td>\n",
       "    </tr>\n",
       "  </tbody>\n",
       "</table>\n",
       "</div>"
      ],
      "text/plain": [
       "                 title    imdb_id  topRank  bottomRank  metaScore  \\\n",
       "0             I, Tonya  tt5580036    930.0     17643.0       77.0   \n",
       "1               Cars 3  tt3606752   2256.0     11547.0       59.0   \n",
       "2                Creed  tt3076658    847.0     17840.0       82.0   \n",
       "3  Battle of the Sexes  tt4622512   2303.0     11228.0       73.0   \n",
       "4         Borg McEnroe  tt5727282      NaN     12891.0       57.0   \n",
       "\n",
       "                                                plot  rating  ratingCount  \\\n",
       "0  From the proverbial wrong side of the tracks i...     7.6      67667.0   \n",
       "1  Blindsided by a new generation of blazing-fast...     6.8      41896.0   \n",
       "2  Adonis Johnson is the son of the famous boxing...     7.6     193206.0   \n",
       "3  In the wake of the sexual revolution and the r...     6.8      27960.0   \n",
       "4  The story of the 1980s tennis rivalry between ...     7.0       9800.0   \n",
       "\n",
       "   reviewCount  runningTimeInMinutes  userRatingCount  userScore    year  \\\n",
       "0           46                 120.0              235        7.8  2017.0   \n",
       "1           41                 102.0              232        6.9  2017.0   \n",
       "2           42                 133.0              614        8.0  2015.0   \n",
       "3           46                 121.0              102        6.3  2017.0   \n",
       "4           13                 107.0                0        NaN  2017.0   \n",
       "\n",
       "                                           all_genre  genre  \\\n",
       "0          ['Biography', 'Comedy', 'Drama', 'Sport']  sport   \n",
       "1  ['Animation', 'Adventure', 'Comedy', 'Family',...  sport   \n",
       "2                                 ['Drama', 'Sport']  sport   \n",
       "3          ['Biography', 'Comedy', 'Drama', 'Sport']  sport   \n",
       "4                    ['Biography', 'Drama', 'Sport']  sport   \n",
       "\n",
       "                                           plot_list  \n",
       "0  [From, the, proverbial, wrong, side, of, the, ...  \n",
       "1  [Blindsided, by, a, new, generation, of, blazi...  \n",
       "2  [Adonis, Johnson, is, the, son, of, the, famou...  \n",
       "3  [In, the, wake, of, the, sexual, revolution, a...  \n",
       "4  [The, story, of, the, 1980s, tennis, rivalry, ...  "
      ]
     },
     "execution_count": 62,
     "metadata": {},
     "output_type": "execute_result"
    }
   ],
   "source": [
    "imdb_movie.head()"
   ]
  },
  {
   "cell_type": "markdown",
   "metadata": {},
   "source": [
    "#### visualization of length of the plot description in each genre"
   ]
  },
  {
   "cell_type": "code",
   "execution_count": 66,
   "metadata": {
    "scrolled": false
   },
   "outputs": [],
   "source": [
    "genre_names = []\n",
    "avg_plot_len = []\n",
    "std_plot_len = []\n",
    "for name, grouped in imdb_movie.groupby('genre'):\n",
    "    genre_names.append(name)\n",
    "    avg_plot_len.append(np.mean(grouped['plot_list'].apply(len)))\n",
    "    std_plot_len.append(np.std(grouped['plot_list'].apply(len)))"
   ]
  },
  {
   "cell_type": "code",
   "execution_count": 67,
   "metadata": {
    "collapsed": true
   },
   "outputs": [],
   "source": [
    "avg_plot_len = np.array(avg_plot_len)\n",
    "std_plot_len = np.array(std_plot_len)"
   ]
  },
  {
   "cell_type": "code",
   "execution_count": 70,
   "metadata": {},
   "outputs": [
    {
     "data": {
      "image/png": "[encoded data removed]",
      "text/plain": [
       "<matplotlib.figure.Figure at 0x1a25ccfa20>"
      ]
     },
     "metadata": {},
     "output_type": "display_data"
    }
   ],
   "source": [
    "fig, ax = plt.subplots(1, 1, figsize = (8, 8));\n",
    "ax.scatter(np.arange(len(genre_names)), avg_plot_len, alpha = 0.5, s = 80, edgecolor = 'black', facecolor = 'green');\n",
    "ax.vlines(np.arange(len(genre_names)), avg_plot_len - std_plot_len, avg_plot_len + std_plot_len, linewidth = 1);\n",
    "ax.scatter(np.arange(len(genre_names)), avg_plot_len - std_plot_len, marker = 'x', color = 'green');\n",
    "ax.scatter(np.arange(len(genre_names)), avg_plot_len + std_plot_len, marker = 'x', color = 'green');\n",
    "ax.set_xticks(np.arange(len(genre_names)));\n",
    "ax.set_xticklabels(genre_names, rotation = 90, fontsize = 15);\n",
    "ax.set_ylim([0, 600]);\n",
    "ax.set_ylabel('Averate Plot Length')\n",
    "ax.set_title('Average Plot Length in Genre with Standard Deviation', fontsize = 15);"
   ]
  },
  {
   "cell_type": "markdown",
   "metadata": {},
   "source": [
    "#### visualization of the most frequent words in each genre"
   ]
  },
  {
   "cell_type": "code",
   "execution_count": 35,
   "metadata": {
    "scrolled": false
   },
   "outputs": [],
   "source": [
    "stopwords_set = set(stopwords.words('english'))"
   ]
  },
  {
   "cell_type": "code",
   "execution_count": 124,
   "metadata": {
    "scrolled": false
   },
   "outputs": [
    {
     "data": {
      "image/png": "[encoded data removed]",
      "text/plain": [
       "<matplotlib.figure.Figure at 0x1a26201ac8>"
      ]
     },
     "metadata": {},
     "output_type": "display_data"
    }
   ],
   "source": [
    "fig, ax = plt.subplots(4, 5, figsize = (20, 20))\n",
    "ax = ax.flatten()\n",
    "for index, genre_name in enumerate(genre_names):\n",
    "    \n",
    "    # group the df by genre\n",
    "    cur_df = imdb_movie[imdb_movie['genre'] == genre_name]\n",
    "    \n",
    "    # count the number of occurances of each word\n",
    "    counter = Counter(word for sublist in cur_df['plot_list'] for word in sublist if word.lower() not in stopwords_set)\n",
    "    \n",
    "    # visualize name of the top words and count in each genre\n",
    "    labels, counts = zip(*counter.most_common(5))\n",
    "    ax[index].bar(np.arange(5), counts, edgecolor = 'gold', alpha = 0.5)\n",
    "    ax[index].set_title('Most Frequent Words in : ' + str(genre_name))\n",
    "    ax[index].set_xticks(np.arange(len(labels)));\n",
    "    ax[index].set_xticklabels(labels, fontsize = 10);"
   ]
  },
  {
   "cell_type": "markdown",
   "metadata": {},
   "source": [
    "#### Genre Histogram : balanced - genre dataset"
   ]
  },
  {
   "cell_type": "code",
   "execution_count": 14,
   "metadata": {
    "scrolled": false
   },
   "outputs": [
    {
     "data": {
      "image/png": "[encoded data removed]",
      "text/plain": [
       "<matplotlib.figure.Figure at 0x1a0fe034a8>"
      ]
     },
     "metadata": {},
     "output_type": "display_data"
    }
   ],
   "source": [
    "from collections import Counter\n",
    "fig, ax = plt.subplots(figsize = (8, 8))\n",
    "genre_counter = Counter(imdb_movie.genre)\n",
    "ax.bar(np.arange(len(genre_counter)), genre_counter.values(), alpha = 0.5, edgecolor = 'gold');\n",
    "ax.set_xticks(np.arange(len(genre_counter)));\n",
    "ax.set_xticklabels(list(genre_counter.keys()), rotation = 90, fontsize = 15);\n",
    "ax.set_ylabel('Frequency')\n",
    "ax.set_title('Genre Counts', fontsize = 15);"
   ]
  },
  {
   "cell_type": "markdown",
   "metadata": {
    "collapsed": true
   },
   "source": [
    "## Baseline Model - Naive Bayes "
   ]
  },
  {
   "cell_type": "code",
   "execution_count": 15,
   "metadata": {
    "collapsed": true
   },
   "outputs": [],
   "source": [
    "from sklearn.naive_bayes import MultinomialNB\n",
    "from sklearn.model_selection import train_test_split\n",
    "from sklearn.feature_extraction.text import CountVectorizer\n",
    "from sklearn.model_selection import GridSearchCV\n",
    "from sklearn import metrics"
   ]
  },
  {
   "cell_type": "markdown",
   "metadata": {},
   "source": [
    "### code the genre and vectorize the plot"
   ]
  },
  {
   "cell_type": "code",
   "execution_count": 24,
   "metadata": {},
   "outputs": [],
   "source": [
    "naive_X_train, naive_X_test, naive_y_train, naive_y_test = train_test_split(imdb_movie['plot'], \n",
    "                                                                            imdb_movie['genre'],\n",
    "                                                                            test_size = 0.2,\n",
    "                                                                            random_state = 209,\n",
    "                                                                            stratify = imdb_movie['genre'])"
   ]
  },
  {
   "cell_type": "code",
   "execution_count": 25,
   "metadata": {},
   "outputs": [],
   "source": [
    "genre_dict = dict(zip(naive_y_train.unique(), range(len(naive_X_test.unique()))))"
   ]
  },
  {
   "cell_type": "code",
   "execution_count": 26,
   "metadata": {
    "collapsed": true,
    "scrolled": true
   },
   "outputs": [],
   "source": [
    "imdb_movie['genre_code'] = imdb_movie.genre.replace(genre_dict).values"
   ]
  },
  {
   "cell_type": "code",
   "execution_count": 28,
   "metadata": {
    "scrolled": true
   },
   "outputs": [
    {
     "data": {
      "text/html": [
       "<div>\n",
       "<style>\n",
       "    .dataframe thead tr:only-child th {\n",
       "        text-align: right;\n",
       "    }\n",
       "\n",
       "    .dataframe thead th {\n",
       "        text-align: left;\n",
       "    }\n",
       "\n",
       "    .dataframe tbody tr th {\n",
       "        vertical-align: top;\n",
       "    }\n",
       "</style>\n",
       "<table border=\"1\" class=\"dataframe\">\n",
       "  <thead>\n",
       "    <tr style=\"text-align: right;\">\n",
       "      <th></th>\n",
       "      <th>title</th>\n",
       "      <th>imdb_id</th>\n",
       "      <th>topRank</th>\n",
       "      <th>bottomRank</th>\n",
       "      <th>metaScore</th>\n",
       "      <th>plot</th>\n",
       "      <th>rating</th>\n",
       "      <th>ratingCount</th>\n",
       "      <th>reviewCount</th>\n",
       "      <th>runningTimeInMinutes</th>\n",
       "      <th>userRatingCount</th>\n",
       "      <th>userScore</th>\n",
       "      <th>year</th>\n",
       "      <th>all_genre</th>\n",
       "      <th>genre</th>\n",
       "      <th>genre_code</th>\n",
       "    </tr>\n",
       "  </thead>\n",
       "  <tbody>\n",
       "    <tr>\n",
       "      <th>0</th>\n",
       "      <td>I, Tonya</td>\n",
       "      <td>tt5580036</td>\n",
       "      <td>930.0</td>\n",
       "      <td>17643.0</td>\n",
       "      <td>77.0</td>\n",
       "      <td>From the proverbial wrong side of the tracks i...</td>\n",
       "      <td>7.6</td>\n",
       "      <td>67667.0</td>\n",
       "      <td>46</td>\n",
       "      <td>120.0</td>\n",
       "      <td>235</td>\n",
       "      <td>7.8</td>\n",
       "      <td>2017.0</td>\n",
       "      <td>['Biography', 'Comedy', 'Drama', 'Sport']</td>\n",
       "      <td>sport</td>\n",
       "      <td>8</td>\n",
       "    </tr>\n",
       "    <tr>\n",
       "      <th>1</th>\n",
       "      <td>Cars 3</td>\n",
       "      <td>tt3606752</td>\n",
       "      <td>2256.0</td>\n",
       "      <td>11547.0</td>\n",
       "      <td>59.0</td>\n",
       "      <td>Blindsided by a new generation of blazing-fast...</td>\n",
       "      <td>6.8</td>\n",
       "      <td>41896.0</td>\n",
       "      <td>41</td>\n",
       "      <td>102.0</td>\n",
       "      <td>232</td>\n",
       "      <td>6.9</td>\n",
       "      <td>2017.0</td>\n",
       "      <td>['Animation', 'Adventure', 'Comedy', 'Family',...</td>\n",
       "      <td>sport</td>\n",
       "      <td>8</td>\n",
       "    </tr>\n",
       "    <tr>\n",
       "      <th>2</th>\n",
       "      <td>Creed</td>\n",
       "      <td>tt3076658</td>\n",
       "      <td>847.0</td>\n",
       "      <td>17840.0</td>\n",
       "      <td>82.0</td>\n",
       "      <td>Adonis Johnson is the son of the famous boxing...</td>\n",
       "      <td>7.6</td>\n",
       "      <td>193206.0</td>\n",
       "      <td>42</td>\n",
       "      <td>133.0</td>\n",
       "      <td>614</td>\n",
       "      <td>8.0</td>\n",
       "      <td>2015.0</td>\n",
       "      <td>['Drama', 'Sport']</td>\n",
       "      <td>sport</td>\n",
       "      <td>8</td>\n",
       "    </tr>\n",
       "  </tbody>\n",
       "</table>\n",
       "</div>"
      ],
      "text/plain": [
       "      title    imdb_id  topRank  bottomRank  metaScore  \\\n",
       "0  I, Tonya  tt5580036    930.0     17643.0       77.0   \n",
       "1    Cars 3  tt3606752   2256.0     11547.0       59.0   \n",
       "2     Creed  tt3076658    847.0     17840.0       82.0   \n",
       "\n",
       "                                                plot  rating  ratingCount  \\\n",
       "0  From the proverbial wrong side of the tracks i...     7.6      67667.0   \n",
       "1  Blindsided by a new generation of blazing-fast...     6.8      41896.0   \n",
       "2  Adonis Johnson is the son of the famous boxing...     7.6     193206.0   \n",
       "\n",
       "   reviewCount  runningTimeInMinutes  userRatingCount  userScore    year  \\\n",
       "0           46                 120.0              235        7.8  2017.0   \n",
       "1           41                 102.0              232        6.9  2017.0   \n",
       "2           42                 133.0              614        8.0  2015.0   \n",
       "\n",
       "                                           all_genre  genre  genre_code  \n",
       "0          ['Biography', 'Comedy', 'Drama', 'Sport']  sport           8  \n",
       "1  ['Animation', 'Adventure', 'Comedy', 'Family',...  sport           8  \n",
       "2                                 ['Drama', 'Sport']  sport           8  "
      ]
     },
     "execution_count": 28,
     "metadata": {},
     "output_type": "execute_result"
    }
   ],
   "source": [
    "imdb_movie.head(3)"
   ]
  },
  {
   "cell_type": "code",
   "execution_count": 29,
   "metadata": {
    "collapsed": true
   },
   "outputs": [],
   "source": [
    "vectorizer = CountVectorizer()"
   ]
  },
  {
   "cell_type": "code",
   "execution_count": 30,
   "metadata": {
    "collapsed": true,
    "scrolled": false
   },
   "outputs": [],
   "source": [
    "naive_X_train = vectorizer.fit_transform(naive_X_train)\n",
    "naive_X_test = vectorizer.transform(naive_X_test)"
   ]
  },
  {
   "cell_type": "markdown",
   "metadata": {},
   "source": [
    "### Construct the Naive Bayes Model"
   ]
  },
  {
   "cell_type": "code",
   "execution_count": 31,
   "metadata": {},
   "outputs": [
    {
     "data": {
      "text/plain": [
       "GridSearchCV(cv=5, error_score='raise',\n",
       "       estimator=MultinomialNB(alpha=1.0, class_prior=None, fit_prior=True),\n",
       "       fit_params=None, iid=True, n_jobs=1,\n",
       "       param_grid={'alpha': [0.1, 0.5, 1, 2, 5]}, pre_dispatch='2*n_jobs',\n",
       "       refit=True, return_train_score='warn', scoring=None, verbose=0)"
      ]
     },
     "execution_count": 31,
     "metadata": {},
     "output_type": "execute_result"
    }
   ],
   "source": [
    "nb_tuning_parameter = {'alpha' : [0.1, 0.5, 1, 2, 5]}\n",
    "nb = GridSearchCV(MultinomialNB(), nb_tuning_parameter, cv = 5)\n",
    "nb.fit(naive_X_train, naive_y_train)"
   ]
  },
  {
   "cell_type": "code",
   "execution_count": 32,
   "metadata": {},
   "outputs": [
    {
     "name": "stdout",
     "output_type": "stream",
     "text": [
      "Naive Bayes Accuracy on Train : 0.9580405932864949\n",
      "Naive Bayes Accuracy on Test : 0.3790951638065523\n"
     ]
    }
   ],
   "source": [
    "naive_train_pred = nb.predict(naive_X_train)\n",
    "naive_test_pred = nb.predict(naive_X_test)\n",
    "print('Naive Bayes Accuracy on Train : {}'.format(metrics.accuracy_score(naive_y_train, naive_train_pred)))\n",
    "print('Naive Bayes Accuracy on Test : {}'.format(metrics.accuracy_score(naive_y_test, naive_test_pred)))"
   ]
  },
  {
   "cell_type": "code",
   "execution_count": null,
   "metadata": {
    "collapsed": true
   },
   "outputs": [],
   "source": []
  }
 ],
 "metadata": {
  "kernelspec": {
   "display_name": "Python 3",
   "language": "python",
   "name": "python3"
  },
  "language_info": {
   "codemirror_mode": {
    "name": "ipython",
    "version": 3
   },
   "file_extension": ".py",
   "mimetype": "text/x-python",
   "name": "python",
   "nbconvert_exporter": "python",
   "pygments_lexer": "ipython3",
   "version": "3.6.1"
  }
 },
 "nbformat": 4,
 "nbformat_minor": 2
}
