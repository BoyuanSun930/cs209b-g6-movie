{
 "cells": [
  {
   "cell_type": "markdown",
   "metadata": {},
   "source": [
    "## Data Science Final Project : Glove\n",
    "### Group Members : Jiachang Shi, Boyuan Sun, Xiangru Shu"
   ]
  },
  {
   "cell_type": "markdown",
   "metadata": {},
   "source": [
    "### Library Used"
   ]
  },
  {
   "cell_type": "code",
   "execution_count": 56,
   "metadata": {},
   "outputs": [],
   "source": [
    "import pandas as pd\n",
    "import numpy as np\n",
    "from sklearn.linear_model import LogisticRegressionCV\n",
    "from sklearn.naive_bayes import MultinomialNB\n",
    "from sklearn.multiclass import OneVsRestClassifier\n",
    "from sklearn.svm import SVC\n",
    "from sklearn.model_selection import train_test_split\n",
    "from sklearn.feature_extraction.text import CountVectorizer, TfidfVectorizer\n",
    "from sklearn.model_selection import GridSearchCV\n",
    "from sklearn.multiclass import OneVsRestClassifier\n",
    "from sklearn.ensemble import RandomForestClassifier\n",
    "\n",
    "import string\n",
    "import ast\n",
    "import re\n",
    "import warnings\n",
    "import pickle\n",
    "import matplotlib.pyplot as plt\n",
    "%matplotlib inline\n",
    "from meter import *\n",
    "import seaborn as sns\n",
    "warnings.filterwarnings('ignore')\n",
    "\n",
    "from keras.models import load_model\n",
    "from keras.preprocessing.text import Tokenizer\n",
    "from keras.preprocessing.sequence import pad_sequences\n",
    "from keras.utils import to_categorical\n",
    "from keras.layers import Dense, Input, GlobalMaxPooling1D\n",
    "from keras.layers import Conv1D, MaxPooling1D, Embedding, Flatten, LSTM, Dropout, RNN\n",
    "from keras.models import Model, Sequential\n",
    "from keras.optimizers import SGD, RMSprop, Adam\n",
    "\n",
    "sns.set_style('white')"
   ]
  },
  {
   "cell_type": "markdown",
   "metadata": {},
   "source": [
    "### Data Proprocessing"
   ]
  },
  {
   "cell_type": "code",
   "execution_count": 7,
   "metadata": {
    "collapsed": true
   },
   "outputs": [],
   "source": [
    "# read in data\n",
    "imdb_movie = pd.read_csv('data/imdb_multilabel.csv')\n",
    "\n",
    "# drop movies with unknown plot\n",
    "imdb_movie['plot'] = imdb_movie['plot'].apply(lambda sentence: 'drop' if (('plot ' in sentence.lower()) \n",
    "                                              and ('unknown' in sentence.lower()))\n",
    "                                              or (len(sentence.split()) < 100) \n",
    "                                              else sentence)\n",
    "imdb_movie = imdb_movie[imdb_movie['plot'] != 'drop']\n",
    "\n",
    "# single-label encoding\n",
    "genre_dict = dict(zip(imdb_movie.genre.unique(), range(20)))\n",
    "genre_dict['sci-fi'] = 8\n",
    "imdb_movie['genre_code'] = imdb_movie.genre.replace(genre_dict).values\n",
    "\n",
    "# multi-label encoded as an array\n",
    "def multi_label_encoder(all_genre_list):\n",
    "    \"\"\" This function takes a list of genre with a dictionary that keeps track of the index of the genre\n",
    "    INPUTS\n",
    "    ------\n",
    "    all_genre_list: list of genres\n",
    "    genre_dict: dictionary of indexs\n",
    "    \n",
    "    OUTPUTS\n",
    "    -------\n",
    "    np array in {0, 1}\n",
    "    \"\"\"\n",
    "    encode = np.zeros(20)\n",
    "    all_genre_list = ast.literal_eval(all_genre_list)\n",
    "    for genre in all_genre_list:\n",
    "        if genre.lower() in genre_dict:\n",
    "            encode[genre_dict[genre.lower()]] = 1\n",
    "    return list(encode)\n",
    "\n",
    "imdb_movie['all_genre_encode'] = imdb_movie['all_genre'].apply(multi_label_encoder)\n",
    "imdb_movie['plot_list'] = imdb_movie['plot_list'].apply(ast.literal_eval)\n",
    "\n",
    "# train test split\n",
    "X_train, X_test, y_train, y_test = train_test_split(imdb_movie['plot'], \n",
    "                                                    imdb_movie['all_genre_encode'],\n",
    "                                                    test_size = 0.2,\n",
    "                                                    random_state = 209,\n",
    "                                                    stratify = imdb_movie['genre'],\n",
    "                                                    shuffle = True\n",
    "                                                    )\n",
    "\n",
    "# reshape y_train and y_test\n",
    "y_train = np.array(list(y_train))\n",
    "y_test = np.array(list(y_test))"
   ]
  },
  {
   "cell_type": "markdown",
   "metadata": {},
   "source": [
    "##  Models - Glove Representation of Words"
   ]
  },
  {
   "cell_type": "code",
   "execution_count": 8,
   "metadata": {
    "collapsed": true
   },
   "outputs": [],
   "source": [
    "with open(\"glove.6B.300d.txt\", \"rb\") as lines:\n",
    "    w2v = {line.decode(\"utf-8\").split()[0]: np.array(line.split()[1:]).astype(float)\n",
    "           for line in lines}"
   ]
  },
  {
   "cell_type": "code",
   "execution_count": 9,
   "metadata": {},
   "outputs": [],
   "source": [
    "class MeanEmbeddingVectorizer(object):\n",
    "    def __init__(self, word2vec):\n",
    "        self.word2vec = word2vec\n",
    "        self.dim = 300\n",
    "\n",
    "\n",
    "    def transform(self, X):\n",
    "        return np.array([\n",
    "            np.mean([self.word2vec[w] for w in re.sub('['+string.punctuation+']', '', words.strip()) if w in self.word2vec] or [np.zeros(self.dim)], axis=0)\n",
    "            for words in X\n",
    "        ])\n",
    "\n",
    "mean_embed = MeanEmbeddingVectorizer(w2v)\n",
    "glove_X_train = mean_embed.transform(X_train)\n",
    "glove_X_test = mean_embed.transform(X_test)"
   ]
  },
  {
   "cell_type": "code",
   "execution_count": 10,
   "metadata": {
    "scrolled": false
   },
   "outputs": [
    {
     "data": {
      "text/plain": [
       "(3489, 300)"
      ]
     },
     "execution_count": 10,
     "metadata": {},
     "output_type": "execute_result"
    }
   ],
   "source": [
    "glove_X_train.shape"
   ]
  },
  {
   "cell_type": "markdown",
   "metadata": {},
   "source": [
    "### Random Forests"
   ]
  },
  {
   "cell_type": "code",
   "execution_count": 8,
   "metadata": {
    "collapsed": true
   },
   "outputs": [],
   "source": [
    "rf_tuning_parameters = {'estimator__n_estimators':[50, 100, 200], \n",
    "                        'estimator__max_depth':[100, 200, 500]}"
   ]
  },
  {
   "cell_type": "code",
   "execution_count": 10,
   "metadata": {},
   "outputs": [
    {
     "data": {
      "text/plain": [
       "GridSearchCV(cv=5, error_score='raise',\n",
       "       estimator=OneVsRestClassifier(estimator=RandomForestClassifier(bootstrap=True, class_weight=None, criterion='gini',\n",
       "            max_depth=None, max_features='auto', max_leaf_nodes=None,\n",
       "            min_impurity_decrease=0.0, min_impurity_split=None,\n",
       "            min_samples_leaf=1, min_samples_split=2,\n",
       "            min_weight_fraction_leaf=0.0, n_estimators=10, n_jobs=1,\n",
       "            oob_score=False, random_state=None, verbose=0,\n",
       "            warm_start=False),\n",
       "          n_jobs=1),\n",
       "       fit_params=None, iid=True, n_jobs=-1,\n",
       "       param_grid={'estimator__n_estimators': [50, 100, 200], 'estimator__max_depth': [100, 200, 500]},\n",
       "       pre_dispatch='2*n_jobs', refit=True, return_train_score='warn',\n",
       "       scoring=None, verbose=0)"
      ]
     },
     "execution_count": 10,
     "metadata": {},
     "output_type": "execute_result"
    }
   ],
   "source": [
    "rf = OneVsRestClassifier(RandomForestClassifier())\n",
    "rf = GridSearchCV(rf, param_grid = rf_tuning_parameters, cv=5, n_jobs=-1)\n",
    "rf.fit(glove_X_train, y_train)"
   ]
  },
  {
   "cell_type": "code",
   "execution_count": 18,
   "metadata": {},
   "outputs": [
    {
     "data": {
      "text/plain": [
       "{'estimator__max_depth': 100, 'estimator__n_estimators': 200}"
      ]
     },
     "execution_count": 18,
     "metadata": {},
     "output_type": "execute_result"
    }
   ],
   "source": [
    "rf.best_params_"
   ]
  },
  {
   "cell_type": "code",
   "execution_count": 13,
   "metadata": {
    "collapsed": true
   },
   "outputs": [],
   "source": [
    "# save model\n",
    "filename = 'rf_glove.pkl'\n",
    "pickle.dump(rf, open(filename, 'wb'))"
   ]
  },
  {
   "cell_type": "code",
   "execution_count": 11,
   "metadata": {
    "collapsed": true
   },
   "outputs": [],
   "source": [
    "# load the model from disk\n",
    "filename = 'rf_glove.pkl'\n",
    "loaded_rf = pickle.load(open(filename, 'rb'))"
   ]
  },
  {
   "cell_type": "code",
   "execution_count": 12,
   "metadata": {},
   "outputs": [],
   "source": [
    "rf_train_pred = loaded_rf.predict(glove_X_train)\n",
    "rf_test_pred = loaded_rf.predict(glove_X_test)"
   ]
  },
  {
   "cell_type": "code",
   "execution_count": 13,
   "metadata": {},
   "outputs": [
    {
     "name": "stdout",
     "output_type": "stream",
     "text": [
      "Random Forest Avg Accuracy on train : 1.0\n",
      "Random Forest Exact Accuracy on train : 1.0\n",
      "Random Forest Precision on train : 1.0\n",
      "Random Forest Recall on train : 1.0\n",
      "Random Forest Hit Rate on train : 1.0\n",
      "Random Forest F1 Score on train : 1.0\n"
     ]
    }
   ],
   "source": [
    "# evaluation\n",
    "print('Random Forest Avg Accuracy on train : {}'.format(score(y_train, rf_train_pred, 'avg')))\n",
    "print('Random Forest Exact Accuracy on train : {}'.format(score(y_train, rf_train_pred, 'exact')))\n",
    "print('Random Forest Precision on train : {}'.format(score(y_train, rf_train_pred, 'precision')))\n",
    "print('Random Forest Recall on train : {}'.format(score(y_train, rf_train_pred, 'recall')))\n",
    "print('Random Forest Hit Rate on train : {}'.format(score(y_train, rf_train_pred, 'hit')))\n",
    "print('Random Forest F1 Score on train : {}'.format(score(y_train, rf_train_pred, 'f1')))"
   ]
  },
  {
   "cell_type": "code",
   "execution_count": 14,
   "metadata": {
    "scrolled": true
   },
   "outputs": [
    {
     "name": "stdout",
     "output_type": "stream",
     "text": [
      "Random Forest Avg Accuracy on test : 0.8443298969072164\n",
      "Random Forest Exact Accuracy on test : 0.022909507445589918\n",
      "Random Forest Precision on test : 0.38128799482128695\n",
      "Random Forest Recall on test : 0.05117877454390081\n",
      "Random Forest Hit Rate on test : 0.434135166093929\n",
      "Random Forest F1 Score on test : 0.09024440121445072\n"
     ]
    }
   ],
   "source": [
    "# evaluation\n",
    "print('Random Forest Avg Accuracy on test : {}'.format(score(y_test, rf_test_pred, 'avg')))\n",
    "print('Random Forest Exact Accuracy on test : {}'.format(score(y_test, rf_test_pred, 'exact')))\n",
    "print('Random Forest Precision on test : {}'.format(score(y_test, rf_test_pred, 'precision')))\n",
    "print('Random Forest Recall on test : {}'.format(score(y_test, rf_test_pred, 'recall')))\n",
    "print('Random Forest Hit Rate on test : {}'.format(score(y_test, rf_test_pred, 'hit')))\n",
    "print('Random Forest F1 Score on test : {}'.format(score(y_test, rf_test_pred, 'f1')))"
   ]
  },
  {
   "cell_type": "code",
   "execution_count": 17,
   "metadata": {},
   "outputs": [],
   "source": [
    "rf_metrics = metrics_df(y_train, y_test, rf_train_pred, rf_test_pred)"
   ]
  },
  {
   "cell_type": "markdown",
   "metadata": {},
   "source": [
    "### Logistic Regression"
   ]
  },
  {
   "cell_type": "code",
   "execution_count": 19,
   "metadata": {
    "collapsed": true
   },
   "outputs": [],
   "source": [
    "lr = OneVsRestClassifier(LogisticRegressionCV(cv = 5))\n",
    "lr.fit(glove_X_train, y_train)\n",
    "lr_train_pred = lr.predict(glove_X_train)\n",
    "lr_test_pred = lr.predict(glove_X_test)"
   ]
  },
  {
   "cell_type": "code",
   "execution_count": 20,
   "metadata": {
    "collapsed": true
   },
   "outputs": [],
   "source": [
    "# save model\n",
    "filename = 'lr_glove.pkl'\n",
    "pickle.dump(lr, open(filename, 'wb'))"
   ]
  },
  {
   "cell_type": "code",
   "execution_count": 19,
   "metadata": {
    "collapsed": true
   },
   "outputs": [],
   "source": [
    "# load the model from disk\n",
    "filename = 'lr_glove.pkl'\n",
    "loaded_lr = pickle.load(open(filename, 'rb'))"
   ]
  },
  {
   "cell_type": "code",
   "execution_count": 21,
   "metadata": {
    "collapsed": true
   },
   "outputs": [],
   "source": [
    "lr_train_pred = loaded_lr.predict(glove_X_train)\n",
    "lr_test_pred = loaded_lr.predict(glove_X_test)"
   ]
  },
  {
   "cell_type": "code",
   "execution_count": 22,
   "metadata": {},
   "outputs": [
    {
     "name": "stdout",
     "output_type": "stream",
     "text": [
      "Logistic Regression Avg Accuracy on train : 0.850902837489252\n",
      "Logistic Regression Exact Accuracy on train : 0.025508741759816565\n",
      "Logistic Regression Precision on train : 0.49102516368430926\n",
      "Logistic Regression Recall on train : 0.06456805635475486\n",
      "Logistic Regression Hit Rate on test : 0.49297793063915163\n",
      "Logistic Regression F1 Score on test : 0.11412860811419565\n"
     ]
    }
   ],
   "source": [
    "# evaluation\n",
    "print('Logistic Regression Avg Accuracy on train : {}'.format(score(y_train, lr_train_pred, 'avg')))\n",
    "print('Logistic Regression Exact Accuracy on train : {}'.format(score(y_train, lr_train_pred, 'exact')))\n",
    "print('Logistic Regression Precision on train : {}'.format(score(y_train, lr_train_pred, 'precision')))\n",
    "print('Logistic Regression Recall on train : {}'.format(score(y_train, lr_train_pred, 'recall')))\n",
    "print('Logistic Regression Hit Rate on test : {}'.format(score(y_train,lr_train_pred, 'hit')))\n",
    "print('Logistic Regression F1 Score on test : {}'.format(score(y_train, lr_train_pred, 'f1')))"
   ]
  },
  {
   "cell_type": "code",
   "execution_count": 23,
   "metadata": {
    "scrolled": true
   },
   "outputs": [
    {
     "name": "stdout",
     "output_type": "stream",
     "text": [
      "Logistic Regression Avg Accuracy on test : 0.8460481099656357\n",
      "Logistic Regression Exact Accuracy on test : 0.024054982817869417\n",
      "Logistic Regression Precision on test : 0.2552112387653064\n",
      "Logistic Regression Recall on test : 0.059678851243138896\n",
      "Logistic Regression Hit Rate on test : 0.47308132875143183\n",
      "Logistic Regression F1 Score on test : 0.09673669662607318\n"
     ]
    }
   ],
   "source": [
    "# evaluation\n",
    "print('Logistic Regression Avg Accuracy on test : {}'.format(score(y_test, lr_test_pred, 'avg')))\n",
    "print('Logistic Regression Exact Accuracy on test : {}'.format(score(y_test, lr_test_pred, 'exact')))\n",
    "print('Logistic Regression Precision on test : {}'.format(score(y_test, lr_test_pred, 'precision')))\n",
    "print('Logistic Regression Recall on test : {}'.format(score(y_test, lr_test_pred, 'recall')))\n",
    "print('Logistic Regression Hit Rate on test : {}'.format(score(y_test, lr_test_pred, 'hit')))\n",
    "print('Logistic Regression F1 Score on test : {}'.format(score(y_test, lr_test_pred, 'f1')))"
   ]
  },
  {
   "cell_type": "code",
   "execution_count": 24,
   "metadata": {},
   "outputs": [],
   "source": [
    "lr_metrics = metrics_df(y_train, y_test, lr_train_pred, lr_test_pred)"
   ]
  },
  {
   "cell_type": "markdown",
   "metadata": {},
   "source": [
    "### SVM"
   ]
  },
  {
   "cell_type": "code",
   "execution_count": 66,
   "metadata": {
    "collapsed": true
   },
   "outputs": [],
   "source": [
    "svm_tuning_parameters = {'estimator__C': [0.1, 5, 50, 100, 1000],\n",
    "                         'estimator__kernel': ['rbf']}\n",
    "svm = OneVsRestClassifier(SVC())\n",
    "svm = GridSearchCV(svm, param_grid = svm_tuning_parameters, cv=5, n_jobs=-1)"
   ]
  },
  {
   "cell_type": "code",
   "execution_count": 67,
   "metadata": {},
   "outputs": [
    {
     "data": {
      "text/plain": [
       "GridSearchCV(cv=5, error_score='raise',\n",
       "       estimator=OneVsRestClassifier(estimator=SVC(C=1.0, cache_size=200, class_weight=None, coef0=0.0,\n",
       "  decision_function_shape='ovr', degree=3, gamma='auto', kernel='rbf',\n",
       "  max_iter=-1, probability=False, random_state=None, shrinking=True,\n",
       "  tol=0.001, verbose=False),\n",
       "          n_jobs=1),\n",
       "       fit_params=None, iid=True, n_jobs=-1,\n",
       "       param_grid={'estimator__C': [0.1, 5, 50, 100, 1000], 'estimator__kernel': ['rbf']},\n",
       "       pre_dispatch='2*n_jobs', refit=True, return_train_score='warn',\n",
       "       scoring=None, verbose=0)"
      ]
     },
     "execution_count": 67,
     "metadata": {},
     "output_type": "execute_result"
    }
   ],
   "source": [
    "svm.fit(glove_X_train, y_train)"
   ]
  },
  {
   "cell_type": "code",
   "execution_count": 68,
   "metadata": {
    "collapsed": true
   },
   "outputs": [],
   "source": [
    "# save model\n",
    "filename = 'svm_glove.pkl'\n",
    "pickle.dump(svm, open(filename, 'wb'))"
   ]
  },
  {
   "cell_type": "code",
   "execution_count": 25,
   "metadata": {
    "collapsed": true
   },
   "outputs": [],
   "source": [
    "filename = 'svm_glove.pkl'\n",
    "loaded_svm = pickle.load(open(filename, 'rb'))"
   ]
  },
  {
   "cell_type": "code",
   "execution_count": 26,
   "metadata": {
    "collapsed": true,
    "scrolled": false
   },
   "outputs": [],
   "source": [
    "svm_train_pred = loaded_svm.predict(glove_X_train)\n",
    "svm_test_pred = loaded_svm.predict(glove_X_test)"
   ]
  },
  {
   "cell_type": "code",
   "execution_count": 27,
   "metadata": {},
   "outputs": [
    {
     "name": "stdout",
     "output_type": "stream",
     "text": [
      "SVM Avg Accuracy on train : 0.8427199770707939\n",
      "SVM Exact Accuracy on train : 0.02722843221553454\n",
      "SVM Precision on train : 0.026769848094009747\n",
      "SVM Recall on train : 0.05\n",
      "SVM Hit Rate on train : 0.49297793063915163\n",
      "SVM F1 Score on train : 0.11412860811419565\n"
     ]
    }
   ],
   "source": [
    "# evaluation\n",
    "print('SVM Avg Accuracy on train : {}'.format(score(y_train, svm_train_pred, 'avg')))\n",
    "print('SVM Exact Accuracy on train : {}'.format(score(y_train, svm_train_pred, 'exact')))\n",
    "print('SVM Precision on train : {}'.format(score(y_train, svm_train_pred, 'precision')))\n",
    "print('SVM Recall on train : {}'.format(score(y_train, svm_train_pred, 'recall')))\n",
    "print('SVM Hit Rate on train : {}'.format(score(y_train,lr_train_pred, 'hit')))\n",
    "print('SVM F1 Score on train : {}'.format(score(y_train, lr_train_pred, 'f1')))"
   ]
  },
  {
   "cell_type": "code",
   "execution_count": 28,
   "metadata": {
    "scrolled": true
   },
   "outputs": [
    {
     "name": "stdout",
     "output_type": "stream",
     "text": [
      "SVM Avg Accuracy on test : 0.8403780068728522\n",
      "SVM Exact Accuracy on test : 0.026345933562428408\n",
      "SVM Precision on test : 0.026403207331042382\n",
      "SVM Recall on test : 0.05\n",
      "SVM Hit Rate on test : 0.5280641466208477\n",
      "SVM F1 Score on test : 0.034557721139430286\n"
     ]
    }
   ],
   "source": [
    "# evaluation\n",
    "print('SVM Avg Accuracy on test : {}'.format(score(y_test, svm_test_pred, 'avg')))\n",
    "print('SVM Exact Accuracy on test : {}'.format(score(y_test, svm_test_pred, 'exact')))\n",
    "print('SVM Precision on test : {}'.format(score(y_test, svm_test_pred, 'precision')))\n",
    "print('SVM Recall on test : {}'.format(score(y_test, svm_test_pred, 'recall')))\n",
    "print('SVM Hit Rate on test : {}'.format(score(y_test, svm_test_pred, 'hit')))\n",
    "print('SVM F1 Score on test : {}'.format(score(y_test, svm_test_pred, 'f1')))"
   ]
  },
  {
   "cell_type": "code",
   "execution_count": 36,
   "metadata": {
    "collapsed": true
   },
   "outputs": [],
   "source": [
    "svm_metrics = metrics_df(y_train, y_test, svm_train_pred, svm_test_pred)"
   ]
  },
  {
   "cell_type": "markdown",
   "metadata": {},
   "source": [
    "### Embedding Layer"
   ]
  },
  {
   "cell_type": "code",
   "execution_count": 29,
   "metadata": {
    "collapsed": true
   },
   "outputs": [],
   "source": [
    "embeddings_index = {}\n",
    "with open(\"glove.6B.300d.txt\", \"rb\") as f:\n",
    "    for line in f:\n",
    "        values = line.decode(\"utf-8\").split()\n",
    "        word = values[0]\n",
    "        coefs = np.asarray(values[1:], dtype='float32')\n",
    "        embeddings_index[word] = coefs"
   ]
  },
  {
   "cell_type": "code",
   "execution_count": 30,
   "metadata": {
    "collapsed": true
   },
   "outputs": [],
   "source": [
    "# MAX_WORDS = 40000\n",
    "MAX_SEQUENCE_LENGTH = 300\n",
    "EMBEDDING_DIM = 300"
   ]
  },
  {
   "cell_type": "code",
   "execution_count": 31,
   "metadata": {
    "collapsed": true
   },
   "outputs": [],
   "source": [
    "train_texts = X_train.apply(lambda x: \n",
    "                            re.sub('['+string.punctuation+']', \n",
    "                                   '', x.strip())).values"
   ]
  },
  {
   "cell_type": "code",
   "execution_count": 32,
   "metadata": {
    "collapsed": true
   },
   "outputs": [],
   "source": [
    "tokenizer = Tokenizer(num_words=None)\n",
    "tokenizer.fit_on_texts(train_texts)\n",
    "word_index = tokenizer.word_index"
   ]
  },
  {
   "cell_type": "code",
   "execution_count": 33,
   "metadata": {
    "collapsed": true
   },
   "outputs": [],
   "source": [
    "sequences = tokenizer.texts_to_sequences(train_texts)\n",
    "X_glove_train = pad_sequences(sequences, maxlen=MAX_SEQUENCE_LENGTH)"
   ]
  },
  {
   "cell_type": "code",
   "execution_count": 34,
   "metadata": {
    "collapsed": true
   },
   "outputs": [],
   "source": [
    "#\n",
    "test_texts = X_test.apply(lambda x: \n",
    "                           re.sub('['+string.punctuation+']', \n",
    "                                  '', x.strip())).values\n",
    "test_sequences = tokenizer.texts_to_sequences(test_texts)\n",
    "X_glove_test = pad_sequences(test_sequences, \n",
    "                             maxlen=MAX_SEQUENCE_LENGTH)"
   ]
  },
  {
   "cell_type": "code",
   "execution_count": 35,
   "metadata": {
    "collapsed": true
   },
   "outputs": [],
   "source": [
    "num_words = len(word_index) + 1\n",
    "embedding_matrix = np.zeros((num_words, EMBEDDING_DIM))\n",
    "\n",
    "for word, i in word_index.items():\n",
    "#     if i >= MAX_WORDS:\n",
    "#         continue\n",
    "    embedding_vector = embeddings_index.get(word)\n",
    "    if embedding_vector is not None:\n",
    "        # words not found in embedding index will be all-zeros.\n",
    "        embedding_matrix[i] = embedding_vector"
   ]
  },
  {
   "cell_type": "code",
   "execution_count": 12,
   "metadata": {},
   "outputs": [
    {
     "data": {
      "text/plain": [
       "(3489, 300)"
      ]
     },
     "execution_count": 12,
     "metadata": {},
     "output_type": "execute_result"
    }
   ],
   "source": [
    "X_glove_train.shape"
   ]
  },
  {
   "cell_type": "markdown",
   "metadata": {},
   "source": [
    "### GPU Data Preparation"
   ]
  },
  {
   "cell_type": "code",
   "execution_count": 132,
   "metadata": {
    "collapsed": true
   },
   "outputs": [],
   "source": [
    "np.save('embedding_matrix.npy', embedding_matrix)\n",
    "np.save('X_glove_train.npy', X_glove_train)\n",
    "np.save('y_train.npy', y_train)\n",
    "np.save('X_glove_test.npy', X_glove_test)\n",
    "np.save('y_test.npy', y_test)"
   ]
  },
  {
   "cell_type": "markdown",
   "metadata": {},
   "source": [
    "### load data"
   ]
  },
  {
   "cell_type": "code",
   "execution_count": 133,
   "metadata": {
    "collapsed": true
   },
   "outputs": [],
   "source": [
    "embedding_matrix = np.load('embedding_matrix.npy')\n",
    "X_glove_train = np.load('X_glove_train.npy')\n",
    "y_train = np.load('y_train.npy')\n",
    "X_glove_test = np.load('X_glove_test.npy')\n",
    "y_test = np.load('y_test.npy')"
   ]
  },
  {
   "cell_type": "code",
   "execution_count": 134,
   "metadata": {
    "collapsed": true
   },
   "outputs": [],
   "source": [
    "# MAX_WORDS = 40000\n",
    "MAX_SEQUENCE_LENGTH = 300\n",
    "EMBEDDING_DIM = 300"
   ]
  },
  {
   "cell_type": "code",
   "execution_count": 136,
   "metadata": {
    "collapsed": true
   },
   "outputs": [],
   "source": [
    "num_words = 44984"
   ]
  },
  {
   "cell_type": "markdown",
   "metadata": {},
   "source": [
    "## CNN"
   ]
  },
  {
   "cell_type": "code",
   "execution_count": 27,
   "metadata": {
    "collapsed": true
   },
   "outputs": [],
   "source": [
    "cnn = Sequential()\n",
    "e = Embedding(num_words, EMBEDDING_DIM, \n",
    "              weights=[embedding_matrix], \n",
    "              input_length=MAX_SEQUENCE_LENGTH, \n",
    "              trainable=False)\n",
    "cnn.add(e)\n",
    "cnn.add(Dropout(0.5))\n",
    "cnn.add(Conv1D(32, 3, activation='relu'))\n",
    "cnn.add(MaxPooling1D(pool_size=3))\n",
    "cnn.add(Flatten())\n",
    "cnn.add(Dense(256, activation='relu'))\n",
    "cnn.add(Dropout(0.5))\n",
    "cnn.add(Dense(20, activation='sigmoid'))"
   ]
  },
  {
   "cell_type": "code",
   "execution_count": 28,
   "metadata": {
    "collapsed": true
   },
   "outputs": [],
   "source": [
    "# compile the model\n",
    "cnn.compile(optimizer=Adam(lr=0.0005), loss='binary_crossentropy', metrics=['acc'])"
   ]
  },
  {
   "cell_type": "code",
   "execution_count": 29,
   "metadata": {
    "collapsed": true
   },
   "outputs": [
    {
     "name": "stdout",
     "output_type": "stream",
     "text": [
      "Train on 3489 samples, validate on 873 samples\n",
      "Epoch 1/20\n",
      "3489/3489 [==============================] - 7s 2ms/step - loss: 0.4800 - acc: 0.8014 - val_loss: 0.4578 - val_acc: 0.8407\n",
      "Epoch 2/20\n",
      "3489/3489 [==============================] - 7s 2ms/step - loss: 0.4256 - acc: 0.8294 - val_loss: 0.4728 - val_acc: 0.8418\n",
      "Epoch 3/20\n",
      "3489/3489 [==============================] - 7s 2ms/step - loss: 0.4103 - acc: 0.8373 - val_loss: 0.4534 - val_acc: 0.8428\n",
      "Epoch 4/20\n",
      "3489/3489 [==============================] - 7s 2ms/step - loss: 0.3968 - acc: 0.8409 - val_loss: 0.4340 - val_acc: 0.8450\n",
      "Epoch 5/20\n",
      "3489/3489 [==============================] - 7s 2ms/step - loss: 0.3804 - acc: 0.8457 - val_loss: 0.4108 - val_acc: 0.8510\n",
      "Epoch 6/20\n",
      "3489/3489 [==============================] - 7s 2ms/step - loss: 0.3671 - acc: 0.8524 - val_loss: 0.4023 - val_acc: 0.8565\n",
      "Epoch 7/20\n",
      "3489/3489 [==============================] - 7s 2ms/step - loss: 0.3525 - acc: 0.8566 - val_loss: 0.3775 - val_acc: 0.8604\n",
      "Epoch 8/20\n",
      "3489/3489 [==============================] - 8s 2ms/step - loss: 0.3368 - acc: 0.8624 - val_loss: 0.3679 - val_acc: 0.8643\n",
      "Epoch 9/20\n",
      "3489/3489 [==============================] - 7s 2ms/step - loss: 0.3240 - acc: 0.8668 - val_loss: 0.3396 - val_acc: 0.8688\n",
      "Epoch 10/20\n",
      "3489/3489 [==============================] - 7s 2ms/step - loss: 0.3162 - acc: 0.8686 - val_loss: 0.3298 - val_acc: 0.8691\n",
      "Epoch 11/20\n",
      "3489/3489 [==============================] - 7s 2ms/step - loss: 0.3035 - acc: 0.8738 - val_loss: 0.3231 - val_acc: 0.8720\n",
      "Epoch 12/20\n",
      "3489/3489 [==============================] - 7s 2ms/step - loss: 0.2967 - acc: 0.8754 - val_loss: 0.3184 - val_acc: 0.8739\n",
      "Epoch 13/20\n",
      "3489/3489 [==============================] - 6s 2ms/step - loss: 0.2908 - acc: 0.8769 - val_loss: 0.3134 - val_acc: 0.8743\n",
      "Epoch 14/20\n",
      "3489/3489 [==============================] - 7s 2ms/step - loss: 0.2847 - acc: 0.8805 - val_loss: 0.3092 - val_acc: 0.8768\n",
      "Epoch 15/20\n",
      "3489/3489 [==============================] - 7s 2ms/step - loss: 0.2774 - acc: 0.8836 - val_loss: 0.3031 - val_acc: 0.8780\n",
      "Epoch 16/20\n",
      "3489/3489 [==============================] - 8s 2ms/step - loss: 0.2750 - acc: 0.8846 - val_loss: 0.3072 - val_acc: 0.8756\n",
      "Epoch 17/20\n",
      "3489/3489 [==============================] - 8s 2ms/step - loss: 0.2682 - acc: 0.8861 - val_loss: 0.2997 - val_acc: 0.8773\n",
      "Epoch 18/20\n",
      "3489/3489 [==============================] - 7s 2ms/step - loss: 0.2624 - acc: 0.8885 - val_loss: 0.2962 - val_acc: 0.8770\n",
      "Epoch 19/20\n",
      "3489/3489 [==============================] - 7s 2ms/step - loss: 0.2595 - acc: 0.8893 - val_loss: 0.2902 - val_acc: 0.8807\n",
      "Epoch 20/20\n",
      "3489/3489 [==============================] - 6s 2ms/step - loss: 0.2532 - acc: 0.8923 - val_loss: 0.2844 - val_acc: 0.8820\n"
     ]
    }
   ],
   "source": [
    "cnn_history = cnn.fit(X_glove_train, y_train,\n",
    "                        batch_size=128,\n",
    "                        epochs=20, validation_data = (X_glove_test, y_test))"
   ]
  },
  {
   "cell_type": "markdown",
   "metadata": {},
   "source": [
    "#### convergence check"
   ]
  },
  {
   "cell_type": "code",
   "execution_count": 67,
   "metadata": {
    "scrolled": false
   },
   "outputs": [
    {
     "data": {
      "image/png": "[encoded data removed]",
      "text/plain": [
       "<matplotlib.figure.Figure at 0x1a4df9f080>"
      ]
     },
     "metadata": {},
     "output_type": "display_data"
    }
   ],
   "source": [
    "fig, ax = plt.subplots(figsize = (8, 8))\n",
    "plot_learning_curve(cnn_history, ax)"
   ]
  },
  {
   "cell_type": "code",
   "execution_count": 96,
   "metadata": {
    "collapsed": true
   },
   "outputs": [],
   "source": [
    "# save the model\n",
    "cnn.save('cnn_glove.h5')"
   ]
  },
  {
   "cell_type": "code",
   "execution_count": 40,
   "metadata": {},
   "outputs": [],
   "source": [
    "cnn = load_model('cnn_glove.h5')\n",
    "pred_glove_test = cnn.predict(X_glove_test)\n",
    "pred_glove_train = cnn.predict(X_glove_train)"
   ]
  },
  {
   "cell_type": "code",
   "execution_count": 41,
   "metadata": {
    "scrolled": true
   },
   "outputs": [
    {
     "name": "stdout",
     "output_type": "stream",
     "text": [
      "CNN Accuracy on train : 0.9145313843508168\n",
      "CNN Exact Accuracy on train : 0.1877328747492118\n",
      "CNN Precision on train : 0.8009106780749745\n",
      "CNN Recall on train : 0.47824222616468\n",
      "CNN Hit Rate on train : 0.9352249928346231\n",
      "CNN F1 on train : 0.5988796247455919\n"
     ]
    }
   ],
   "source": [
    "# evaluation\n",
    "print('CNN Accuracy on train : {}'.format(score_thres(y_train, pred_glove_train, method='avg')))\n",
    "print('CNN Exact Accuracy on train : {}'.format(score_thres(y_train, pred_glove_train, method='exact')))\n",
    "print('CNN Precision on train : {}'.format(score_thres(y_train, pred_glove_train, method='precision')))\n",
    "print('CNN Recall on train : {}'.format(score_thres(y_train, pred_glove_train, method='recall')))\n",
    "print('CNN Hit Rate on train : {}'.format(score_thres(y_train, pred_glove_train, method='hit')))\n",
    "print('CNN F1 on train : {}'.format(score_thres(y_train, pred_glove_train, method='f1')))"
   ]
  },
  {
   "cell_type": "code",
   "execution_count": 42,
   "metadata": {},
   "outputs": [
    {
     "name": "stdout",
     "output_type": "stream",
     "text": [
      "GloVE Embedding Accuracy on test : 0.881958762886598\n",
      "GloVE Embedding Exact Accuracy on test : 0.0836197021764032\n",
      "GloVE Embedding Precision on test : 0.546963316146316\n",
      "GloVE Embedding Recall on test : 0.3412455007995804\n",
      "GloVE Embedding Hit Rate on train : 0.8625429553264605\n",
      "GloVE Embedding F1 on train : 0.4202812833566325\n"
     ]
    }
   ],
   "source": [
    "# evaluation\n",
    "print('GloVE Embedding Accuracy on test : {}'.format(score_thres(y_test, pred_glove_test, method='avg')))\n",
    "print('GloVE Embedding Exact Accuracy on test : {}'.format(score_thres(y_test, pred_glove_test, method='exact')))\n",
    "print('GloVE Embedding Precision on test : {}'.format(score_thres(y_test, pred_glove_test, method='precision')))\n",
    "print('GloVE Embedding Recall on test : {}'.format(score_thres(y_test, pred_glove_test, method='recall')))\n",
    "print('GloVE Embedding Hit Rate on train : {}'.format(score_thres(y_test, pred_glove_test, method='hit')))\n",
    "print('GloVE Embedding F1 on train : {}'.format(score_thres(y_test, pred_glove_test, method='f1')))"
   ]
  },
  {
   "cell_type": "code",
   "execution_count": 44,
   "metadata": {},
   "outputs": [],
   "source": [
    "cnn_metrics = metrics_thres_df(y_train, y_test, pred_glove_train, pred_glove_test)"
   ]
  },
  {
   "cell_type": "markdown",
   "metadata": {},
   "source": [
    "## LSTM"
   ]
  },
  {
   "cell_type": "code",
   "execution_count": 43,
   "metadata": {
    "collapsed": true
   },
   "outputs": [],
   "source": [
    "lstm_glove = Sequential()\n",
    "e = Embedding(num_words, EMBEDDING_DIM, \n",
    "              weights=[embedding_matrix], \n",
    "              input_length=MAX_SEQUENCE_LENGTH, \n",
    "              trainable=False)\n",
    "lstm_glove.add(e)\n",
    "lstm_glove.add(LSTM(100, dropout = 0.2, recurrent_dropout=0.2))\n",
    "lstm_glove.add(Dense(20, activation='sigmoid'))"
   ]
  },
  {
   "cell_type": "code",
   "execution_count": 44,
   "metadata": {},
   "outputs": [
    {
     "name": "stdout",
     "output_type": "stream",
     "text": [
      "_________________________________________________________________\n",
      "Layer (type)                 Output Shape              Param #   \n",
      "=================================================================\n",
      "embedding_6 (Embedding)      (None, 300, 300)          13495200  \n",
      "_________________________________________________________________\n",
      "lstm_1 (LSTM)                (None, 100)               160400    \n",
      "_________________________________________________________________\n",
      "dense_11 (Dense)             (None, 20)                2020      \n",
      "=================================================================\n",
      "Total params: 13,657,620\n",
      "Trainable params: 162,420\n",
      "Non-trainable params: 13,495,200\n",
      "_________________________________________________________________\n"
     ]
    }
   ],
   "source": [
    "lstm_glove.summary()"
   ]
  },
  {
   "cell_type": "code",
   "execution_count": 45,
   "metadata": {
    "collapsed": true
   },
   "outputs": [],
   "source": [
    "lstm_glove.compile(optimizer=Adam(lr=0.0005), loss='binary_crossentropy', metrics=['acc'])"
   ]
  },
  {
   "cell_type": "code",
   "execution_count": 50,
   "metadata": {
    "scrolled": false
   },
   "outputs": [
    {
     "name": "stdout",
     "output_type": "stream",
     "text": [
      "Train on 3489 samples, validate on 873 samples\n",
      "Epoch 1/10\n",
      "3489/3489 [==============================] - 17s 5ms/step - loss: 0.1769 - acc: 0.9282 - val_loss: 0.2437 - val_acc: 0.8987\n",
      "Epoch 2/10\n",
      "3489/3489 [==============================] - 17s 5ms/step - loss: 0.1760 - acc: 0.9297 - val_loss: 0.2458 - val_acc: 0.8979\n",
      "Epoch 3/10\n",
      "3489/3489 [==============================] - 17s 5ms/step - loss: 0.1748 - acc: 0.9294 - val_loss: 0.2445 - val_acc: 0.8981\n",
      "Epoch 4/10\n",
      "3489/3489 [==============================] - 17s 5ms/step - loss: 0.1734 - acc: 0.9310 - val_loss: 0.2453 - val_acc: 0.8985\n",
      "Epoch 5/10\n",
      "3489/3489 [==============================] - 17s 5ms/step - loss: 0.1715 - acc: 0.9307 - val_loss: 0.2453 - val_acc: 0.8983\n",
      "Epoch 6/10\n",
      "3489/3489 [==============================] - 17s 5ms/step - loss: 0.1686 - acc: 0.9319 - val_loss: 0.2460 - val_acc: 0.8979\n",
      "Epoch 7/10\n",
      "3489/3489 [==============================] - 17s 5ms/step - loss: 0.1669 - acc: 0.9330 - val_loss: 0.2465 - val_acc: 0.8971\n",
      "Epoch 8/10\n",
      "3489/3489 [==============================] - 17s 5ms/step - loss: 0.1676 - acc: 0.9321 - val_loss: 0.2456 - val_acc: 0.8990\n",
      "Epoch 9/10\n",
      "3489/3489 [==============================] - 19s 5ms/step - loss: 0.1658 - acc: 0.9333 - val_loss: 0.2470 - val_acc: 0.8977\n",
      "Epoch 10/10\n",
      "3489/3489 [==============================] - 17s 5ms/step - loss: 0.1632 - acc: 0.9352 - val_loss: 0.2470 - val_acc: 0.8977\n"
     ]
    }
   ],
   "source": [
    "lstm_history = lstm_glove.fit(X_glove_train, y_train, validation_data= (X_glove_test, y_test),\n",
    "                              batch_size=128,\n",
    "                              epochs=10)"
   ]
  },
  {
   "cell_type": "markdown",
   "metadata": {},
   "source": [
    "#### convergence check\n",
    "Iteratively trained, this network is able to converge after 30 epochs."
   ]
  },
  {
   "cell_type": "code",
   "execution_count": 68,
   "metadata": {},
   "outputs": [
    {
     "data": {
      "image/png": "[encoded data removed]",
      "text/plain": [
       "<matplotlib.figure.Figure at 0x1a45302198>"
      ]
     },
     "metadata": {},
     "output_type": "display_data"
    }
   ],
   "source": [
    "fig, ax = plt.subplots(figsize = (8, 8))\n",
    "plot_learning_curve(lstm_history, ax)"
   ]
  },
  {
   "cell_type": "code",
   "execution_count": 101,
   "metadata": {
    "collapsed": true
   },
   "outputs": [],
   "source": [
    "# save the model\n",
    "lstm_glove.save('lstm_glove.h5')"
   ]
  },
  {
   "cell_type": "code",
   "execution_count": 45,
   "metadata": {
    "collapsed": true
   },
   "outputs": [],
   "source": [
    "lstm_glove = load_model('lstm_glove.h5')\n",
    "lstm_pred_glove_train = lstm_glove.predict(X_glove_train)\n",
    "lstm_pred_glove_test = lstm_glove.predict(X_glove_test)"
   ]
  },
  {
   "cell_type": "code",
   "execution_count": 46,
   "metadata": {},
   "outputs": [
    {
     "name": "stdout",
     "output_type": "stream",
     "text": [
      "LSTM Accuracy on train : 0.9488822012037832\n",
      "LSTM Exact Accuracy on train : 0.36256807108053885\n",
      "LSTM Precision on train : 0.8772255234739378\n",
      "LSTM Recall on train : 0.7631563928555043\n",
      "LSTM Hit rate on train : 0.9936944683290341\n",
      "LSTM F1 on train : 0.8162248797684287\n"
     ]
    }
   ],
   "source": [
    "# evaluation\n",
    "print('LSTM Accuracy on train : {}'.format(score_thres(y_train, lstm_pred_glove_train, method='avg')))\n",
    "print('LSTM Exact Accuracy on train : {}'.format(score_thres(y_train, lstm_pred_glove_train, method='exact')))\n",
    "print('LSTM Precision on train : {}'.format(score_thres(y_train, lstm_pred_glove_train, method='precision')))\n",
    "print('LSTM Recall on train : {}'.format(score_thres(y_train, lstm_pred_glove_train, method='recall')))\n",
    "print('LSTM Hit rate on train : {}'.format(score_thres(y_train, lstm_pred_glove_train, method='hit')))\n",
    "print('LSTM F1 on train : {}'.format(score_thres(y_train, lstm_pred_glove_train, method='f1')))"
   ]
  },
  {
   "cell_type": "code",
   "execution_count": 47,
   "metadata": {},
   "outputs": [
    {
     "name": "stdout",
     "output_type": "stream",
     "text": [
      "LSTM Accuracy on test : 0.897709049255441\n",
      "LSTM Exact Accuracy on test : 0.143184421534937\n",
      "LSTM Precision on test : 0.6978929279911439\n",
      "LSTM Recall on test : 0.560980370571585\n",
      "LSTM Hit rate on test : 0.9369988545246277\n",
      "LSTM F1 on test : 0.6219914804940984\n"
     ]
    }
   ],
   "source": [
    "# evaluation\n",
    "print('LSTM Accuracy on test : {}'.format(score_thres(y_test, lstm_pred_glove_test, method='avg')))\n",
    "print('LSTM Exact Accuracy on test : {}'.format(score_thres(y_test, lstm_pred_glove_test, method='exact')))\n",
    "print('LSTM Precision on test : {}'.format(score_thres(y_test, lstm_pred_glove_test, method='precision')))\n",
    "print('LSTM Recall on test : {}'.format(score_thres(y_test, lstm_pred_glove_test, method='recall')))\n",
    "print('LSTM Hit rate on test : {}'.format(score_thres(y_test, lstm_pred_glove_test, method='hit')))\n",
    "print('LSTM F1 on test : {}'.format(score_thres(y_test, lstm_pred_glove_test, method='f1')))"
   ]
  },
  {
   "cell_type": "code",
   "execution_count": 48,
   "metadata": {
    "collapsed": true
   },
   "outputs": [],
   "source": [
    "lstm_metrics = metrics_thres_df(y_train, y_test, lstm_pred_glove_train, lstm_pred_glove_test)"
   ]
  },
  {
   "cell_type": "markdown",
   "metadata": {
    "collapsed": true
   },
   "source": [
    "## CNN + LSTM : RCNN"
   ]
  },
  {
   "cell_type": "code",
   "execution_count": 73,
   "metadata": {
    "collapsed": true
   },
   "outputs": [],
   "source": [
    "rcnn = Sequential()\n",
    "e = Embedding(num_words, EMBEDDING_DIM, \n",
    "              weights=[embedding_matrix], \n",
    "              input_length=MAX_SEQUENCE_LENGTH, \n",
    "              trainable=False)\n",
    "rcnn.add(e)\n",
    "rcnn.add(Dropout(0.2))\n",
    "rcnn.add(Conv1D(32, 5, activation='relu'))\n",
    "rcnn.add(LSTM(100, recurrent_dropout=0.2))\n",
    "rcnn.add(Dense(20, activation='sigmoid'))"
   ]
  },
  {
   "cell_type": "code",
   "execution_count": 74,
   "metadata": {
    "scrolled": true
   },
   "outputs": [
    {
     "name": "stdout",
     "output_type": "stream",
     "text": [
      "_________________________________________________________________\n",
      "Layer (type)                 Output Shape              Param #   \n",
      "=================================================================\n",
      "embedding_9 (Embedding)      (None, 300, 300)          13495200  \n",
      "_________________________________________________________________\n",
      "dropout_13 (Dropout)         (None, 300, 300)          0         \n",
      "_________________________________________________________________\n",
      "conv1d_8 (Conv1D)            (None, 296, 32)           48032     \n",
      "_________________________________________________________________\n",
      "lstm_4 (LSTM)                (None, 100)               53200     \n",
      "_________________________________________________________________\n",
      "dense_14 (Dense)             (None, 20)                2020      \n",
      "=================================================================\n",
      "Total params: 13,598,452\n",
      "Trainable params: 103,252\n",
      "Non-trainable params: 13,495,200\n",
      "_________________________________________________________________\n"
     ]
    }
   ],
   "source": [
    "rcnn.summary()"
   ]
  },
  {
   "cell_type": "code",
   "execution_count": 77,
   "metadata": {
    "scrolled": true
   },
   "outputs": [
    {
     "name": "stdout",
     "output_type": "stream",
     "text": [
      "Train on 3489 samples, validate on 873 samples\n",
      "Epoch 1/20\n",
      "3489/3489 [==============================] - 18s 5ms/step - loss: 0.2222 - acc: 0.9070 - val_loss: 0.2691 - val_acc: 0.8854\n",
      "Epoch 2/20\n",
      "3489/3489 [==============================] - 17s 5ms/step - loss: 0.2187 - acc: 0.9079 - val_loss: 0.2685 - val_acc: 0.8856\n",
      "Epoch 3/20\n",
      "3489/3489 [==============================] - 18s 5ms/step - loss: 0.2174 - acc: 0.9088 - val_loss: 0.2675 - val_acc: 0.8862\n",
      "Epoch 4/20\n",
      "3489/3489 [==============================] - 19s 5ms/step - loss: 0.2158 - acc: 0.9093 - val_loss: 0.2711 - val_acc: 0.8844\n",
      "Epoch 5/20\n",
      "3489/3489 [==============================] - 17s 5ms/step - loss: 0.2138 - acc: 0.9107 - val_loss: 0.2684 - val_acc: 0.8853\n",
      "Epoch 6/20\n",
      "3489/3489 [==============================] - 17s 5ms/step - loss: 0.2143 - acc: 0.9102 - val_loss: 0.2691 - val_acc: 0.8867\n",
      "Epoch 7/20\n",
      "3489/3489 [==============================] - 17s 5ms/step - loss: 0.2111 - acc: 0.9123 - val_loss: 0.2662 - val_acc: 0.8871\n",
      "Epoch 8/20\n",
      "3489/3489 [==============================] - 17s 5ms/step - loss: 0.2088 - acc: 0.9141 - val_loss: 0.2679 - val_acc: 0.8853\n",
      "Epoch 9/20\n",
      "3489/3489 [==============================] - 17s 5ms/step - loss: 0.2064 - acc: 0.9146 - val_loss: 0.2680 - val_acc: 0.8871\n",
      "Epoch 10/20\n",
      "3489/3489 [==============================] - 17s 5ms/step - loss: 0.2064 - acc: 0.9148 - val_loss: 0.2692 - val_acc: 0.8874\n",
      "Epoch 11/20\n",
      "3489/3489 [==============================] - 16s 5ms/step - loss: 0.2036 - acc: 0.9151 - val_loss: 0.2677 - val_acc: 0.8888\n",
      "Epoch 12/20\n",
      "3489/3489 [==============================] - 18s 5ms/step - loss: 0.2027 - acc: 0.9166 - val_loss: 0.2665 - val_acc: 0.8868\n",
      "Epoch 13/20\n",
      "3489/3489 [==============================] - 18s 5ms/step - loss: 0.2008 - acc: 0.9174 - val_loss: 0.2687 - val_acc: 0.8860\n",
      "Epoch 14/20\n",
      "3489/3489 [==============================] - 18s 5ms/step - loss: 0.1998 - acc: 0.9174 - val_loss: 0.2671 - val_acc: 0.8877\n",
      "Epoch 15/20\n",
      "3489/3489 [==============================] - 18s 5ms/step - loss: 0.1978 - acc: 0.9173 - val_loss: 0.2675 - val_acc: 0.8873\n",
      "Epoch 16/20\n",
      "3489/3489 [==============================] - 17s 5ms/step - loss: 0.1958 - acc: 0.9189 - val_loss: 0.2688 - val_acc: 0.8860\n",
      "Epoch 17/20\n",
      "3489/3489 [==============================] - 17s 5ms/step - loss: 0.1940 - acc: 0.9200 - val_loss: 0.2674 - val_acc: 0.8871\n",
      "Epoch 18/20\n",
      "3489/3489 [==============================] - 17s 5ms/step - loss: 0.1928 - acc: 0.9212 - val_loss: 0.2684 - val_acc: 0.8879\n",
      "Epoch 19/20\n",
      "3489/3489 [==============================] - 17s 5ms/step - loss: 0.1922 - acc: 0.9208 - val_loss: 0.2703 - val_acc: 0.8876\n",
      "Epoch 20/20\n",
      "3489/3489 [==============================] - 17s 5ms/step - loss: 0.1913 - acc: 0.9217 - val_loss: 0.2680 - val_acc: 0.8871\n"
     ]
    }
   ],
   "source": [
    "rcnn.compile(optimizer=Adam(lr=0.0005), loss='binary_crossentropy', metrics=['acc'])\n",
    "rcnn_history = rcnn.fit(X_glove_train, y_train, validation_data= (X_glove_test, y_test),\n",
    "               batch_size=128,\n",
    "               epochs=20)"
   ]
  },
  {
   "cell_type": "markdown",
   "metadata": {},
   "source": [
    "#### convergence check\n",
    "Iteratively trained, this network is able to converge after 30 epochs."
   ]
  },
  {
   "cell_type": "code",
   "execution_count": 81,
   "metadata": {
    "scrolled": false
   },
   "outputs": [
    {
     "data": {
      "image/png": "[encoded data removed]",
      "text/plain": [
       "<matplotlib.figure.Figure at 0x1a4f34bcf8>"
      ]
     },
     "metadata": {},
     "output_type": "display_data"
    }
   ],
   "source": [
    "fig, ax = plt.subplots(figsize = (8, 8))\n",
    "plot_learning_curve(rcnn_history, ax)"
   ]
  },
  {
   "cell_type": "code",
   "execution_count": 105,
   "metadata": {
    "collapsed": true
   },
   "outputs": [],
   "source": [
    "# save the model\n",
    "rcnn.save('rcnn_glove.h5')"
   ]
  },
  {
   "cell_type": "code",
   "execution_count": 49,
   "metadata": {
    "collapsed": true
   },
   "outputs": [],
   "source": [
    "rcnn = load_model('rcnn_glove.h5')\n",
    "rcnn_pred_glove_train = rcnn.predict(X_glove_train)\n",
    "rcnn_pred_glove_test = rcnn.predict(X_glove_test)"
   ]
  },
  {
   "cell_type": "code",
   "execution_count": 50,
   "metadata": {},
   "outputs": [
    {
     "name": "stdout",
     "output_type": "stream",
     "text": [
      "RCNN Accuracy on train : 0.9319575809687588\n",
      "RCNN Exact Accuracy on train : 0.2530811120664947\n",
      "RCNN Precision on train : 0.8266839342102775\n",
      "RCNN Recall on train : 0.6342326961657299\n",
      "RCNN Hit rate on train : 0.9862424763542562\n",
      "RCNN F1 on train : 0.7177822054584064\n"
     ]
    }
   ],
   "source": [
    "# evaluation\n",
    "print('RCNN Accuracy on train : {}'.format(score_thres(y_train, rcnn_pred_glove_train, method='avg')))\n",
    "print('RCNN Exact Accuracy on train : {}'.format(score_thres(y_train, rcnn_pred_glove_train, method='exact')))\n",
    "print('RCNN Precision on train : {}'.format(score_thres(y_train, rcnn_pred_glove_train, method='precision')))\n",
    "print('RCNN Recall on train : {}'.format(score_thres(y_train, rcnn_pred_glove_train, method='recall')))\n",
    "print('RCNN Hit rate on train : {}'.format(score_thres(y_train, rcnn_pred_glove_train, method='hit')))\n",
    "print('RCNN F1 on train : {}'.format(score_thres(y_train, rcnn_pred_glove_train, method='f1')))"
   ]
  },
  {
   "cell_type": "code",
   "execution_count": 51,
   "metadata": {},
   "outputs": [
    {
     "name": "stdout",
     "output_type": "stream",
     "text": [
      "RCNN Accuracy on test : 0.8870561282932417\n",
      "RCNN Exact Accuracy on test : 0.09507445589919816\n",
      "RCNN Precision on test : 0.6500647052772193\n",
      "RCNN Recall on test : 0.4494455377547125\n",
      "RCNN Hit rate on test : 0.9014891179839634\n",
      "RCNN F1 on test : 0.531452404177727\n"
     ]
    }
   ],
   "source": [
    "# evaluation\n",
    "print('RCNN Accuracy on test : {}'.format(score_thres(y_test, rcnn_pred_glove_test, method='avg')))\n",
    "print('RCNN Exact Accuracy on test : {}'.format(score_thres(y_test, rcnn_pred_glove_test, method='exact')))\n",
    "print('RCNN Precision on test : {}'.format(score_thres(y_test, rcnn_pred_glove_test, method='precision')))\n",
    "print('RCNN Recall on test : {}'.format(score_thres(y_test, rcnn_pred_glove_test, method='recall')))\n",
    "print('RCNN Hit rate on test : {}'.format(score_thres(y_test, rcnn_pred_glove_test, method='hit')))\n",
    "print('RCNN F1 on test : {}'.format(score_thres(y_test, rcnn_pred_glove_test, method='f1')))"
   ]
  },
  {
   "cell_type": "code",
   "execution_count": 52,
   "metadata": {
    "collapsed": true
   },
   "outputs": [],
   "source": [
    "rcnn_metrics = metrics_thres_df(y_train, y_test, rcnn_pred_glove_train, rcnn_pred_glove_test)"
   ]
  },
  {
   "cell_type": "markdown",
   "metadata": {},
   "source": [
    "### Plot"
   ]
  },
  {
   "cell_type": "code",
   "execution_count": 60,
   "metadata": {
    "collapsed": true
   },
   "outputs": [],
   "source": [
    "score_df = pd.DataFrame({'Random Forest': rf_metrics, \n",
    "                         'SVM': svm_metrics,\n",
    "                         'Logistic Regression': lr_metrics,\n",
    "                         'CNN': cnn_metrics,\n",
    "                         'LSTM': lstm_metrics,  \n",
    "                         'RCNN': rcnn_metrics})"
   ]
  },
  {
   "cell_type": "code",
   "execution_count": 62,
   "metadata": {},
   "outputs": [
    {
     "data": {
      "image/png": "[encoded data removed]",
      "text/plain": [
       "<matplotlib.figure.Figure at 0x1a471a4400>"
      ]
     },
     "metadata": {},
     "output_type": "display_data"
    }
   ],
   "source": [
    "bar_width = 0.1\n",
    "plt.figure(figsize = (12,8))\n",
    "for idx,col in enumerate(score_df.columns):\n",
    "    plt.bar(np.arange(len(score_df.index[:6]))+idx*bar_width, score_df[[col]].values[:6], \n",
    "            bar_width, color=sns.color_palette(\"Set3\")[idx], label=col)\n",
    "plt.xticks(np.arange(len(score_df.index[:6]))+0.15, score_df.index[:6])\n",
    "plt.ylabel('Overall Classification Accuracy on Train')\n",
    "plt.xlabel('Classifiers')\n",
    "plt.legend(loc='upper right', bbox_to_anchor=(1.3, 1))\n",
    "plt.ylim(0,1)\n",
    "plt.title('Glove with test metrics')\n",
    "plt.show()"
   ]
  },
  {
   "cell_type": "markdown",
   "metadata": {},
   "source": [
    "### Test"
   ]
  },
  {
   "cell_type": "code",
   "execution_count": 54,
   "metadata": {},
   "outputs": [],
   "source": [
    "score_df = pd.DataFrame({'Random Forest': rf_metrics, \n",
    "                         'SVM': svm_metrics,\n",
    "                         'Logistic Regression': lr_metrics,\n",
    "                         'CNN': cnn_metrics,\n",
    "                         'LSTM': lstm_metrics,  \n",
    "                         'RCNN': rcnn_metrics})"
   ]
  },
  {
   "cell_type": "code",
   "execution_count": 58,
   "metadata": {},
   "outputs": [
    {
     "data": {
      "image/png": "[encoded data removed]",
      "text/plain": [
       "<matplotlib.figure.Figure at 0x1a4289ad68>"
      ]
     },
     "metadata": {},
     "output_type": "display_data"
    }
   ],
   "source": [
    "bar_width = 0.1\n",
    "plt.figure(figsize = (12,8))\n",
    "for idx,col in enumerate(score_df.columns):\n",
    "    plt.bar(np.arange(len(score_df.index[6:12]))+idx*bar_width, score_df[[col]].values[6:12], \n",
    "            bar_width, color=sns.color_palette(\"Set3\")[idx], label=col)\n",
    "plt.xticks(np.arange(len(score_df.index[6:12]))+0.15, score_df.index[6:12])\n",
    "plt.ylabel('Overall Classification Accuracy on Test')\n",
    "plt.xlabel('Classifiers')\n",
    "plt.legend(loc='upper right', bbox_to_anchor=(1.3, 1))\n",
    "plt.ylim(0,1)\n",
    "plt.title('Glove with test metrics')\n",
    "plt.show()"
   ]
  },
  {
   "cell_type": "markdown",
   "metadata": {},
   "source": [
    "From the above visualization we can find that LSTM is the best model of all scores."
   ]
  },
  {
   "cell_type": "code",
   "execution_count": 169,
   "metadata": {},
   "outputs": [
    {
     "name": "stdout",
     "output_type": "stream",
     "text": [
      "Genre sport: 154 correct out of 168\n",
      "Genre music: 127 correct out of 173\n",
      "Genre biography: 155 correct out of 271\n",
      "Genre animation: 160 correct out of 227\n",
      "Genre history: 154 correct out of 242\n",
      "Genre war: 248 correct out of 274\n",
      "Genre western: 124 correct out of 159\n",
      "Genre musical: 114 correct out of 235\n",
      "Genre sci_fi: 374 correct out of 448\n",
      "Genre fantasy: 370 correct out of 503\n",
      "Genre family: 398 correct out of 515\n",
      "Genre mystery: 241 correct out of 387\n",
      "Genre adventure: 680 correct out of 842\n",
      "Genre horror: 282 correct out of 343\n",
      "Genre crime: 471 correct out of 583\n",
      "Genre thriller: 881 correct out of 1042\n",
      "Genre action: 828 correct out of 964\n",
      "Genre romance: 586 correct out of 822\n",
      "Genre comedy: 948 correct out of 1156\n",
      "Genre drama: 1659 correct out of 1868\n"
     ]
    },
    {
     "data": {
      "image/png": "[encoded data removed]",
      "text/plain": [
       "<matplotlib.figure.Figure at 0x1a4716dc18>"
      ]
     },
     "metadata": {},
     "output_type": "display_data"
    }
   ],
   "source": [
    "genre_acc(y_train, lstm_pred_glove_train,'LSTM Train True Positive', is_neural_net = True)"
   ]
  },
  {
   "cell_type": "code",
   "execution_count": 168,
   "metadata": {},
   "outputs": [
    {
     "name": "stdout",
     "output_type": "stream",
     "text": [
      "Genre sport: 28 correct out of 42\n",
      "Genre music: 24 correct out of 43\n",
      "Genre biography: 36 correct out of 80\n",
      "Genre animation: 22 correct out of 62\n",
      "Genre history: 24 correct out of 56\n",
      "Genre war: 47 correct out of 69\n",
      "Genre western: 23 correct out of 43\n",
      "Genre musical: 14 correct out of 57\n",
      "Genre sci_fi: 78 correct out of 120\n",
      "Genre fantasy: 73 correct out of 128\n",
      "Genre family: 70 correct out of 125\n",
      "Genre mystery: 28 correct out of 89\n",
      "Genre adventure: 149 correct out of 230\n",
      "Genre horror: 55 correct out of 89\n",
      "Genre crime: 96 correct out of 156\n",
      "Genre thriller: 169 correct out of 254\n",
      "Genre action: 166 correct out of 233\n",
      "Genre romance: 108 correct out of 197\n",
      "Genre comedy: 181 correct out of 302\n",
      "Genre drama: 368 correct out of 461\n"
     ]
    },
    {
     "data": {
      "image/png": "[encoded data removed]",
      "text/plain": [
       "<matplotlib.figure.Figure at 0x1a48a447f0>"
      ]
     },
     "metadata": {},
     "output_type": "display_data"
    }
   ],
   "source": [
    "genre_acc(y_test, lstm_pred_glove_test,'LSTM Test True Positive', is_neural_net = True)"
   ]
  },
  {
   "cell_type": "code",
   "execution_count": null,
   "metadata": {
    "collapsed": true
   },
   "outputs": [],
   "source": []
  }
 ],
 "metadata": {
  "kernelspec": {
   "display_name": "Python 3",
   "language": "python",
   "name": "python3"
  },
  "language_info": {
   "codemirror_mode": {
    "name": "ipython",
    "version": 3
   },
   "file_extension": ".py",
   "mimetype": "text/x-python",
   "name": "python",
   "nbconvert_exporter": "python",
   "pygments_lexer": "ipython3",
   "version": "3.6.1"
  }
 },
 "nbformat": 4,
 "nbformat_minor": 2
}
