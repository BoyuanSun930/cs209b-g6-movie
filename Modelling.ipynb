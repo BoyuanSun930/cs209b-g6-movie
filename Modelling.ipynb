{
 "cells": [
  {
   "cell_type": "markdown",
   "metadata": {},
   "source": [
    "# Models"
   ]
  },
  {
   "cell_type": "code",
   "execution_count": 24,
   "metadata": {},
   "outputs": [],
   "source": [
    "import pandas as pd\n",
    "import numpy as np\n",
    "from sklearn.naive_bayes import MultinomialNB\n",
    "from sklearn.model_selection import train_test_split\n",
    "from sklearn.feature_extraction.text import CountVectorizer\n",
    "from sklearn.model_selection import GridSearchCV\n",
    "from sklearn import metrics"
   ]
  },
  {
   "cell_type": "code",
   "execution_count": 4,
   "metadata": {},
   "outputs": [],
   "source": [
    "# read in data\n",
    "imdb_movie = pd.read_csv('data/imdb_multilabel.csv')"
   ]
  },
  {
   "cell_type": "code",
   "execution_count": 5,
   "metadata": {},
   "outputs": [
    {
     "data": {
      "text/html": [
       "<div>\n",
       "<style>\n",
       "    .dataframe thead tr:only-child th {\n",
       "        text-align: right;\n",
       "    }\n",
       "\n",
       "    .dataframe thead th {\n",
       "        text-align: left;\n",
       "    }\n",
       "\n",
       "    .dataframe tbody tr th {\n",
       "        vertical-align: top;\n",
       "    }\n",
       "</style>\n",
       "<table border=\"1\" class=\"dataframe\">\n",
       "  <thead>\n",
       "    <tr style=\"text-align: right;\">\n",
       "      <th></th>\n",
       "      <th>Unnamed: 0</th>\n",
       "      <th>title</th>\n",
       "      <th>imdb_id</th>\n",
       "      <th>topRank</th>\n",
       "      <th>bottomRank</th>\n",
       "      <th>metaScore</th>\n",
       "      <th>plot</th>\n",
       "      <th>rating</th>\n",
       "      <th>ratingCount</th>\n",
       "      <th>reviewCount</th>\n",
       "      <th>runningTimeInMinutes</th>\n",
       "      <th>userRatingCount</th>\n",
       "      <th>userScore</th>\n",
       "      <th>year</th>\n",
       "      <th>all_genre</th>\n",
       "      <th>genre</th>\n",
       "      <th>plot_list</th>\n",
       "      <th>genreCount</th>\n",
       "      <th>genre_code</th>\n",
       "      <th>all_genre_encode</th>\n",
       "    </tr>\n",
       "  </thead>\n",
       "  <tbody>\n",
       "    <tr>\n",
       "      <th>0</th>\n",
       "      <td>0</td>\n",
       "      <td>I, Tonya</td>\n",
       "      <td>tt5580036</td>\n",
       "      <td>930.0</td>\n",
       "      <td>17643.0</td>\n",
       "      <td>77.0</td>\n",
       "      <td>From the proverbial wrong side of the tracks i...</td>\n",
       "      <td>7.6</td>\n",
       "      <td>67667.0</td>\n",
       "      <td>46</td>\n",
       "      <td>120.0</td>\n",
       "      <td>235</td>\n",
       "      <td>7.8</td>\n",
       "      <td>2017.0</td>\n",
       "      <td>['Biography', 'Comedy', 'Drama', 'Sport']</td>\n",
       "      <td>sport</td>\n",
       "      <td>['From', 'the', 'proverbial', 'wrong', 'side',...</td>\n",
       "      <td>4</td>\n",
       "      <td>0</td>\n",
       "      <td>[1. 0. 1. 0. 0. 0. 0. 0. 0. 0. 0. 0. 0. 0. 0. ...</td>\n",
       "    </tr>\n",
       "    <tr>\n",
       "      <th>1</th>\n",
       "      <td>1</td>\n",
       "      <td>Cars 3</td>\n",
       "      <td>tt3606752</td>\n",
       "      <td>2256.0</td>\n",
       "      <td>11547.0</td>\n",
       "      <td>59.0</td>\n",
       "      <td>Blindsided by a new generation of blazing-fast...</td>\n",
       "      <td>6.8</td>\n",
       "      <td>41896.0</td>\n",
       "      <td>41</td>\n",
       "      <td>102.0</td>\n",
       "      <td>232</td>\n",
       "      <td>6.9</td>\n",
       "      <td>2017.0</td>\n",
       "      <td>['Animation', 'Adventure', 'Comedy', 'Family',...</td>\n",
       "      <td>sport</td>\n",
       "      <td>['Blindsided', 'by', 'a', 'new', 'generation',...</td>\n",
       "      <td>5</td>\n",
       "      <td>0</td>\n",
       "      <td>[1. 0. 0. 1. 0. 0. 0. 0. 0. 0. 1. 0. 1. 0. 0. ...</td>\n",
       "    </tr>\n",
       "    <tr>\n",
       "      <th>2</th>\n",
       "      <td>2</td>\n",
       "      <td>Creed</td>\n",
       "      <td>tt3076658</td>\n",
       "      <td>847.0</td>\n",
       "      <td>17840.0</td>\n",
       "      <td>82.0</td>\n",
       "      <td>Adonis Johnson is the son of the famous boxing...</td>\n",
       "      <td>7.6</td>\n",
       "      <td>193206.0</td>\n",
       "      <td>42</td>\n",
       "      <td>133.0</td>\n",
       "      <td>614</td>\n",
       "      <td>8.0</td>\n",
       "      <td>2015.0</td>\n",
       "      <td>['Drama', 'Sport']</td>\n",
       "      <td>sport</td>\n",
       "      <td>['Adonis', 'Johnson', 'is', 'the', 'son', 'of'...</td>\n",
       "      <td>2</td>\n",
       "      <td>0</td>\n",
       "      <td>[1. 0. 0. 0. 0. 0. 0. 0. 0. 0. 0. 0. 0. 0. 0. ...</td>\n",
       "    </tr>\n",
       "    <tr>\n",
       "      <th>3</th>\n",
       "      <td>3</td>\n",
       "      <td>Battle of the Sexes</td>\n",
       "      <td>tt4622512</td>\n",
       "      <td>2303.0</td>\n",
       "      <td>11228.0</td>\n",
       "      <td>73.0</td>\n",
       "      <td>In the wake of the sexual revolution and the r...</td>\n",
       "      <td>6.8</td>\n",
       "      <td>27960.0</td>\n",
       "      <td>46</td>\n",
       "      <td>121.0</td>\n",
       "      <td>102</td>\n",
       "      <td>6.3</td>\n",
       "      <td>2017.0</td>\n",
       "      <td>['Biography', 'Comedy', 'Drama', 'Sport']</td>\n",
       "      <td>sport</td>\n",
       "      <td>['In', 'the', 'wake', 'of', 'the', 'sexual', '...</td>\n",
       "      <td>4</td>\n",
       "      <td>0</td>\n",
       "      <td>[1. 0. 1. 0. 0. 0. 0. 0. 0. 0. 0. 0. 0. 0. 0. ...</td>\n",
       "    </tr>\n",
       "    <tr>\n",
       "      <th>4</th>\n",
       "      <td>4</td>\n",
       "      <td>Borg McEnroe</td>\n",
       "      <td>tt5727282</td>\n",
       "      <td>NaN</td>\n",
       "      <td>12891.0</td>\n",
       "      <td>57.0</td>\n",
       "      <td>The story of the 1980s tennis rivalry between ...</td>\n",
       "      <td>7.0</td>\n",
       "      <td>9800.0</td>\n",
       "      <td>13</td>\n",
       "      <td>107.0</td>\n",
       "      <td>0</td>\n",
       "      <td>NaN</td>\n",
       "      <td>2017.0</td>\n",
       "      <td>['Biography', 'Drama', 'Sport']</td>\n",
       "      <td>sport</td>\n",
       "      <td>['The', 'story', 'of', 'the', '1980s', 'tennis...</td>\n",
       "      <td>3</td>\n",
       "      <td>0</td>\n",
       "      <td>[1. 0. 1. 0. 0. 0. 0. 0. 0. 0. 0. 0. 0. 0. 0. ...</td>\n",
       "    </tr>\n",
       "  </tbody>\n",
       "</table>\n",
       "</div>"
      ],
      "text/plain": [
       "   Unnamed: 0                title    imdb_id  topRank  bottomRank  metaScore  \\\n",
       "0           0             I, Tonya  tt5580036    930.0     17643.0       77.0   \n",
       "1           1               Cars 3  tt3606752   2256.0     11547.0       59.0   \n",
       "2           2                Creed  tt3076658    847.0     17840.0       82.0   \n",
       "3           3  Battle of the Sexes  tt4622512   2303.0     11228.0       73.0   \n",
       "4           4         Borg McEnroe  tt5727282      NaN     12891.0       57.0   \n",
       "\n",
       "                                                plot  rating  ratingCount  \\\n",
       "0  From the proverbial wrong side of the tracks i...     7.6      67667.0   \n",
       "1  Blindsided by a new generation of blazing-fast...     6.8      41896.0   \n",
       "2  Adonis Johnson is the son of the famous boxing...     7.6     193206.0   \n",
       "3  In the wake of the sexual revolution and the r...     6.8      27960.0   \n",
       "4  The story of the 1980s tennis rivalry between ...     7.0       9800.0   \n",
       "\n",
       "   reviewCount  runningTimeInMinutes  userRatingCount  userScore    year  \\\n",
       "0           46                 120.0              235        7.8  2017.0   \n",
       "1           41                 102.0              232        6.9  2017.0   \n",
       "2           42                 133.0              614        8.0  2015.0   \n",
       "3           46                 121.0              102        6.3  2017.0   \n",
       "4           13                 107.0                0        NaN  2017.0   \n",
       "\n",
       "                                           all_genre  genre  \\\n",
       "0          ['Biography', 'Comedy', 'Drama', 'Sport']  sport   \n",
       "1  ['Animation', 'Adventure', 'Comedy', 'Family',...  sport   \n",
       "2                                 ['Drama', 'Sport']  sport   \n",
       "3          ['Biography', 'Comedy', 'Drama', 'Sport']  sport   \n",
       "4                    ['Biography', 'Drama', 'Sport']  sport   \n",
       "\n",
       "                                           plot_list  genreCount  genre_code  \\\n",
       "0  ['From', 'the', 'proverbial', 'wrong', 'side',...           4           0   \n",
       "1  ['Blindsided', 'by', 'a', 'new', 'generation',...           5           0   \n",
       "2  ['Adonis', 'Johnson', 'is', 'the', 'son', 'of'...           2           0   \n",
       "3  ['In', 'the', 'wake', 'of', 'the', 'sexual', '...           4           0   \n",
       "4  ['The', 'story', 'of', 'the', '1980s', 'tennis...           3           0   \n",
       "\n",
       "                                    all_genre_encode  \n",
       "0  [1. 0. 1. 0. 0. 0. 0. 0. 0. 0. 0. 0. 0. 0. 0. ...  \n",
       "1  [1. 0. 0. 1. 0. 0. 0. 0. 0. 0. 1. 0. 1. 0. 0. ...  \n",
       "2  [1. 0. 0. 0. 0. 0. 0. 0. 0. 0. 0. 0. 0. 0. 0. ...  \n",
       "3  [1. 0. 1. 0. 0. 0. 0. 0. 0. 0. 0. 0. 0. 0. 0. ...  \n",
       "4  [1. 0. 1. 0. 0. 0. 0. 0. 0. 0. 0. 0. 0. 0. 0. ...  "
      ]
     },
     "execution_count": 5,
     "metadata": {},
     "output_type": "execute_result"
    }
   ],
   "source": [
    "imdb_movie.head()"
   ]
  },
  {
   "cell_type": "code",
   "execution_count": 25,
   "metadata": {},
   "outputs": [],
   "source": [
    "imdb_movie[\"all_genre_encode\"] = np.array(imdb_movie[\"all_genre_encode\"])"
   ]
  },
  {
   "cell_type": "code",
   "execution_count": 26,
   "metadata": {},
   "outputs": [
    {
     "data": {
      "text/plain": [
       "0       [1. 0. 1. 0. 0. 0. 0. 0. 0. 0. 0. 0. 0. 0. 0. ...\n",
       "1       [1. 0. 0. 1. 0. 0. 0. 0. 0. 0. 1. 0. 1. 0. 0. ...\n",
       "2       [1. 0. 0. 0. 0. 0. 0. 0. 0. 0. 0. 0. 0. 0. 0. ...\n",
       "3       [1. 0. 1. 0. 0. 0. 0. 0. 0. 0. 0. 0. 0. 0. 0. ...\n",
       "4       [1. 0. 1. 0. 0. 0. 0. 0. 0. 0. 0. 0. 0. 0. 0. ...\n",
       "5       [1. 0. 0. 0. 0. 0. 0. 0. 0. 0. 1. 0. 0. 0. 0. ...\n",
       "6       [1. 0. 0. 0. 0. 0. 0. 0. 0. 0. 0. 0. 0. 0. 0. ...\n",
       "7       [1. 0. 0. 0. 0. 0. 0. 0. 0. 0. 0. 0. 0. 0. 0. ...\n",
       "8       [1. 0. 1. 0. 0. 0. 0. 0. 0. 0. 0. 0. 0. 0. 0. ...\n",
       "9       [1. 0. 0. 1. 0. 0. 0. 0. 0. 0. 1. 0. 0. 0. 0. ...\n",
       "10      [1. 0. 0. 0. 0. 0. 0. 0. 0. 0. 0. 0. 0. 0. 0. ...\n",
       "11      [1. 0. 1. 0. 0. 0. 0. 0. 0. 0. 0. 0. 0. 0. 0. ...\n",
       "12      [1. 0. 0. 0. 0. 0. 0. 0. 0. 0. 0. 0. 0. 0. 0. ...\n",
       "13      [1. 0. 1. 0. 0. 0. 0. 0. 0. 0. 0. 0. 0. 0. 1. ...\n",
       "14      [1. 0. 0. 0. 0. 0. 0. 0. 0. 0. 0. 0. 0. 0. 0. ...\n",
       "15      [1. 0. 0. 0. 0. 0. 0. 0. 0. 0. 0. 0. 0. 0. 0. ...\n",
       "16      [1. 0. 1. 0. 1. 0. 0. 0. 0. 0. 0. 0. 0. 0. 0. ...\n",
       "17      [1. 0. 0. 0. 0. 0. 0. 0. 0. 0. 0. 0. 0. 0. 1. ...\n",
       "18      [1. 0. 1. 0. 0. 1. 0. 0. 0. 0. 0. 0. 0. 0. 0. ...\n",
       "19      [1. 0. 0. 0. 0. 0. 0. 0. 0. 0. 0. 0. 0. 0. 0. ...\n",
       "20      [1. 0. 0. 0. 0. 0. 0. 0. 0. 0. 0. 0. 0. 0. 0. ...\n",
       "21      [1. 0. 0. 0. 0. 0. 0. 0. 0. 0. 0. 0. 0. 0. 0. ...\n",
       "22      [1. 0. 0. 0. 0. 0. 0. 0. 0. 0. 1. 0. 0. 0. 0. ...\n",
       "23      [1. 0. 0. 0. 0. 0. 0. 0. 0. 0. 1. 0. 0. 0. 0. ...\n",
       "24      [1. 0. 0. 0. 0. 0. 0. 0. 0. 0. 0. 0. 0. 0. 0. ...\n",
       "25      [1. 0. 0. 0. 0. 0. 0. 0. 0. 0. 0. 0. 0. 0. 0. ...\n",
       "26      [1. 0. 1. 0. 0. 0. 0. 0. 0. 0. 0. 0. 0. 0. 0. ...\n",
       "27      [1. 0. 0. 0. 0. 0. 0. 0. 0. 0. 0. 0. 0. 0. 0. ...\n",
       "28      [1. 0. 1. 0. 0. 0. 0. 0. 0. 0. 0. 0. 0. 0. 0. ...\n",
       "29      [1. 0. 0. 0. 0. 0. 0. 0. 0. 0. 1. 0. 0. 0. 0. ...\n",
       "                              ...                        \n",
       "6376    [0. 0. 0. 0. 0. 0. 0. 0. 0. 0. 0. 0. 0. 0. 0. ...\n",
       "6377    [0. 0. 0. 0. 0. 0. 0. 0. 0. 0. 0. 0. 0. 0. 0. ...\n",
       "6378    [0. 0. 0. 0. 0. 0. 0. 0. 0. 0. 0. 0. 0. 0. 0. ...\n",
       "6379    [0. 0. 0. 0. 0. 0. 0. 0. 0. 0. 0. 0. 0. 0. 0. ...\n",
       "6380    [0. 0. 0. 0. 0. 0. 0. 0. 0. 0. 0. 0. 0. 0. 0. ...\n",
       "6381    [0. 0. 0. 0. 0. 0. 0. 0. 0. 0. 0. 0. 0. 0. 0. ...\n",
       "6382    [0. 0. 0. 0. 0. 0. 0. 0. 0. 0. 0. 0. 0. 0. 0. ...\n",
       "6383    [0. 0. 0. 0. 0. 0. 0. 0. 0. 0. 0. 0. 0. 0. 0. ...\n",
       "6384    [0. 0. 0. 0. 0. 0. 0. 0. 0. 0. 0. 0. 0. 0. 1. ...\n",
       "6385    [0. 0. 0. 0. 0. 0. 0. 0. 0. 0. 0. 1. 0. 0. 0. ...\n",
       "6386    [0. 0. 0. 0. 0. 0. 0. 0. 0. 0. 0. 0. 0. 0. 0. ...\n",
       "6387    [0. 0. 0. 0. 0. 0. 0. 0. 0. 0. 0. 0. 0. 0. 0. ...\n",
       "6388    [0. 0. 0. 0. 0. 0. 0. 0. 0. 0. 0. 0. 0. 0. 0. ...\n",
       "6389    [0. 0. 0. 0. 0. 0. 0. 0. 0. 0. 0. 1. 0. 0. 0. ...\n",
       "6390    [0. 0. 0. 0. 0. 0. 0. 0. 0. 0. 0. 0. 0. 0. 0. ...\n",
       "6391    [0. 0. 0. 0. 0. 0. 0. 0. 0. 0. 0. 0. 0. 0. 0. ...\n",
       "6392    [0. 0. 0. 0. 0. 0. 0. 0. 0. 0. 0. 1. 0. 0. 1. ...\n",
       "6393    [0. 0. 0. 0. 0. 0. 0. 0. 0. 0. 0. 0. 0. 0. 0. ...\n",
       "6394    [0. 0. 0. 0. 0. 0. 0. 0. 0. 0. 0. 1. 0. 0. 1. ...\n",
       "6395    [0. 0. 0. 0. 0. 0. 0. 0. 0. 0. 0. 0. 0. 0. 1. ...\n",
       "6396    [0. 0. 0. 0. 0. 0. 0. 0. 0. 0. 0. 0. 0. 0. 0. ...\n",
       "6397    [0. 0. 0. 0. 0. 0. 0. 0. 0. 0. 0. 0. 0. 0. 0. ...\n",
       "6398    [0. 0. 0. 0. 0. 0. 0. 0. 0. 0. 0. 0. 0. 0. 0. ...\n",
       "6399    [0. 0. 0. 0. 0. 0. 0. 0. 0. 0. 0. 0. 0. 0. 0. ...\n",
       "6400    [0. 0. 0. 0. 0. 0. 0. 0. 0. 0. 0. 1. 0. 0. 1. ...\n",
       "6401    [0. 0. 0. 0. 0. 0. 0. 0. 0. 0. 0. 0. 0. 0. 0. ...\n",
       "6402    [0. 0. 0. 0. 0. 0. 0. 0. 0. 0. 0. 0. 0. 0. 0. ...\n",
       "6403    [0. 0. 0. 0. 0. 0. 0. 0. 0. 0. 0. 0. 0. 0. 0. ...\n",
       "6404    [0. 0. 0. 0. 0. 0. 0. 0. 0. 0. 0. 0. 0. 0. 1. ...\n",
       "6405    [0. 0. 0. 0. 0. 0. 0. 0. 0. 0. 0. 0. 0. 0. 0. ...\n",
       "Name: all_genre_encode, Length: 6406, dtype: object"
      ]
     },
     "execution_count": 26,
     "metadata": {},
     "output_type": "execute_result"
    }
   ],
   "source": [
    "imdb_movie[\"all_genre_encode\"]"
   ]
  },
  {
   "cell_type": "markdown",
   "metadata": {},
   "source": [
    "## Baseline Model - Naive Bayes "
   ]
  },
  {
   "cell_type": "code",
   "execution_count": 27,
   "metadata": {},
   "outputs": [],
   "source": [
    "naive_X_train, naive_X_test, naive_y_train, naive_y_test = train_test_split(imdb_movie['plot_list'], \n",
    "                                                                            imdb_movie['all_genre_encode'],\n",
    "                                                                            test_size = 0.2,\n",
    "                                                                            random_state = 209,\n",
    "                                                                            )"
   ]
  },
  {
   "cell_type": "code",
   "execution_count": 28,
   "metadata": {},
   "outputs": [
    {
     "data": {
      "text/plain": [
       "1118    ['When', 'a', 'meteorite', 'from', 'outer', 's...\n",
       "2405    ['Details', 'the', 'story', 'of', 'a', 'sober'...\n",
       "2128    ['After', 'Custer', 'and', 'the', '7th', 'Cava...\n",
       "2067    ['Armando', 'Alvarez', '(Will', 'Ferrell)', 'h...\n",
       "3089    ['300', 'years', 'have', 'passed', 'since', 't...\n",
       "Name: plot_list, dtype: object"
      ]
     },
     "execution_count": 28,
     "metadata": {},
     "output_type": "execute_result"
    }
   ],
   "source": [
    "naive_X_train.head()"
   ]
  },
  {
   "cell_type": "code",
   "execution_count": 29,
   "metadata": {},
   "outputs": [],
   "source": [
    "vectorizer = CountVectorizer(stop_words='english')"
   ]
  },
  {
   "cell_type": "code",
   "execution_count": 30,
   "metadata": {},
   "outputs": [],
   "source": [
    "naive_X_train = vectorizer.fit_transform(naive_X_train)\n",
    "naive_X_test = vectorizer.transform(naive_X_test)"
   ]
  },
  {
   "cell_type": "code",
   "execution_count": 31,
   "metadata": {},
   "outputs": [
    {
     "name": "stderr",
     "output_type": "stream",
     "text": [
      "/anaconda/lib/python3.6/site-packages/sklearn/model_selection/_split.py:581: Warning: The least populated class in y has only 1 members, which is too few. The minimum number of groups for any class cannot be less than n_splits=5.\n",
      "  % (min_groups, self.n_splits)), Warning)\n"
     ]
    },
    {
     "data": {
      "text/plain": [
       "GridSearchCV(cv=5, error_score='raise',\n",
       "       estimator=MultinomialNB(alpha=1.0, class_prior=None, fit_prior=True),\n",
       "       fit_params={}, iid=True, n_jobs=1,\n",
       "       param_grid={'alpha': [0.1, 0.5, 1, 2, 5]}, pre_dispatch='2*n_jobs',\n",
       "       refit=True, return_train_score=True, scoring=None, verbose=0)"
      ]
     },
     "execution_count": 31,
     "metadata": {},
     "output_type": "execute_result"
    }
   ],
   "source": [
    "nb_tuning_parameter = {'alpha' : [0.1, 0.5, 1, 2, 5]}\n",
    "nb = GridSearchCV(MultinomialNB(), nb_tuning_parameter, cv = 5)\n",
    "nb.fit(naive_X_train, naive_y_train)"
   ]
  },
  {
   "cell_type": "code",
   "execution_count": 32,
   "metadata": {},
   "outputs": [
    {
     "name": "stdout",
     "output_type": "stream",
     "text": [
      "Naive Bayes Accuracy on Train : 0.9720921155347385\n",
      "Naive Bayes Accuracy on Test : 0.14274570982839313\n"
     ]
    }
   ],
   "source": [
    "naive_train_pred = nb.predict(naive_X_train)\n",
    "naive_test_pred = nb.predict(naive_X_test)\n",
    "print('Naive Bayes Accuracy on Train : {}'.format(metrics.accuracy_score(naive_y_train, naive_train_pred)))\n",
    "print('Naive Bayes Accuracy on Test : {}'.format(metrics.accuracy_score(naive_y_test, naive_test_pred)))"
   ]
  },
  {
   "cell_type": "code",
   "execution_count": 47,
   "metadata": {},
   "outputs": [
    {
     "data": {
      "text/plain": [
       "array([[  6.92734262e-036,   6.06975446e-041,   4.72004043e-033, ...,\n",
       "          2.96255265e-079,   3.39740821e-077,   3.47149655e-079],\n",
       "       [  9.23438585e-003,   7.15604558e-005,   1.33974719e-001, ...,\n",
       "          1.11433666e-008,   1.98348992e-008,   1.13214352e-008],\n",
       "       [  1.01364204e-049,   2.41129329e-044,   1.34541689e-052, ...,\n",
       "          5.03626124e-055,   2.96372666e-055,   5.67855760e-055],\n",
       "       ..., \n",
       "       [  1.72362417e-223,   5.06201350e-229,   3.46215857e-256, ...,\n",
       "          0.00000000e+000,   0.00000000e+000,   0.00000000e+000],\n",
       "       [  2.52941066e-024,   4.75596796e-027,   9.99780204e-028, ...,\n",
       "          1.60387967e-048,   2.38570165e-046,   1.77194134e-048],\n",
       "       [  4.81791655e-024,   2.19391180e-023,   1.98801009e-024, ...,\n",
       "          2.02869105e-032,   1.53307635e-032,   2.16150467e-032]])"
      ]
     },
     "execution_count": 47,
     "metadata": {},
     "output_type": "execute_result"
    }
   ],
   "source": [
    "nb.predict_proba(naive_X_train)"
   ]
  },
  {
   "cell_type": "code",
   "execution_count": 42,
   "metadata": {},
   "outputs": [
    {
     "data": {
      "text/plain": [
       "'[0. 0. 0. 0. 0. 0. 0. 0. 0. 1. 1. 0. 0. 0. 0. 0. 0. 0. 1. 0.]'"
      ]
     },
     "execution_count": 42,
     "metadata": {},
     "output_type": "execute_result"
    }
   ],
   "source": [
    "naive_train_pred[4]"
   ]
  },
  {
   "cell_type": "code",
   "execution_count": 46,
   "metadata": {},
   "outputs": [
    {
     "data": {
      "text/plain": [
       "'[0. 0. 0. 0. 0. 0. 0. 0. 0. 1. 1. 0. 0. 0. 0. 0. 0. 0. 1. 0.]'"
      ]
     },
     "execution_count": 46,
     "metadata": {},
     "output_type": "execute_result"
    }
   ],
   "source": [
    "naive_y_train.iloc[4]"
   ]
  },
  {
   "cell_type": "code",
   "execution_count": null,
   "metadata": {},
   "outputs": [],
   "source": []
  }
 ],
 "metadata": {
  "kernelspec": {
   "display_name": "Python 3",
   "language": "python",
   "name": "python3"
  },
  "language_info": {
   "codemirror_mode": {
    "name": "ipython",
    "version": 3
   },
   "file_extension": ".py",
   "mimetype": "text/x-python",
   "name": "python",
   "nbconvert_exporter": "python",
   "pygments_lexer": "ipython3",
   "version": "3.6.1"
  }
 },
 "nbformat": 4,
 "nbformat_minor": 2
}
