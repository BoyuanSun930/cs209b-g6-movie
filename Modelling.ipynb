{
 "cells": [
  {
   "cell_type": "markdown",
   "metadata": {},
   "source": [
    "# Models"
   ]
  },
  {
   "cell_type": "code",
   "execution_count": 51,
   "metadata": {
    "collapsed": true
   },
   "outputs": [],
   "source": [
    "import pandas as pd\n",
    "import numpy as np\n",
    "from sklearn.naive_bayes import MultinomialNB\n",
    "from sklearn.multiclass import OneVsRestClassifier\n",
    "from sklearn.model_selection import train_test_split\n",
    "from sklearn.feature_extraction.text import CountVectorizer\n",
    "from sklearn.model_selection import GridSearchCV\n",
    "from sklearn import metrics\n",
    "from sklearn.multiclass import OneVsRestClassifier\n",
    "import string\n",
    "import ast\n",
    "import re"
   ]
  },
  {
   "cell_type": "code",
   "execution_count": 2,
   "metadata": {
    "collapsed": true
   },
   "outputs": [],
   "source": [
    "# read in data\n",
    "imdb_movie = pd.read_csv('data/imdb_multilabel.csv')"
   ]
  },
  {
   "cell_type": "code",
   "execution_count": 3,
   "metadata": {},
   "outputs": [
    {
     "data": {
      "text/html": [
       "<div>\n",
       "<style scoped>\n",
       "    .dataframe tbody tr th:only-of-type {\n",
       "        vertical-align: middle;\n",
       "    }\n",
       "\n",
       "    .dataframe tbody tr th {\n",
       "        vertical-align: top;\n",
       "    }\n",
       "\n",
       "    .dataframe thead th {\n",
       "        text-align: right;\n",
       "    }\n",
       "</style>\n",
       "<table border=\"1\" class=\"dataframe\">\n",
       "  <thead>\n",
       "    <tr style=\"text-align: right;\">\n",
       "      <th></th>\n",
       "      <th>Unnamed: 0</th>\n",
       "      <th>title</th>\n",
       "      <th>imdb_id</th>\n",
       "      <th>topRank</th>\n",
       "      <th>bottomRank</th>\n",
       "      <th>metaScore</th>\n",
       "      <th>plot</th>\n",
       "      <th>rating</th>\n",
       "      <th>ratingCount</th>\n",
       "      <th>reviewCount</th>\n",
       "      <th>runningTimeInMinutes</th>\n",
       "      <th>userRatingCount</th>\n",
       "      <th>userScore</th>\n",
       "      <th>year</th>\n",
       "      <th>all_genre</th>\n",
       "      <th>genre</th>\n",
       "      <th>plot_list</th>\n",
       "      <th>genreCount</th>\n",
       "      <th>genre_code</th>\n",
       "      <th>all_genre_encode</th>\n",
       "    </tr>\n",
       "  </thead>\n",
       "  <tbody>\n",
       "    <tr>\n",
       "      <th>0</th>\n",
       "      <td>0</td>\n",
       "      <td>I, Tonya</td>\n",
       "      <td>tt5580036</td>\n",
       "      <td>930.0</td>\n",
       "      <td>17643.0</td>\n",
       "      <td>77.0</td>\n",
       "      <td>From the proverbial wrong side of the tracks i...</td>\n",
       "      <td>7.6</td>\n",
       "      <td>67667.0</td>\n",
       "      <td>46</td>\n",
       "      <td>120.0</td>\n",
       "      <td>235</td>\n",
       "      <td>7.8</td>\n",
       "      <td>2017.0</td>\n",
       "      <td>['Biography', 'Comedy', 'Drama', 'Sport']</td>\n",
       "      <td>sport</td>\n",
       "      <td>['From', 'the', 'proverbial', 'wrong', 'side',...</td>\n",
       "      <td>4</td>\n",
       "      <td>0</td>\n",
       "      <td>[1. 0. 1. 0. 0. 0. 0. 0. 0. 0. 0. 0. 0. 0. 0. ...</td>\n",
       "    </tr>\n",
       "    <tr>\n",
       "      <th>1</th>\n",
       "      <td>1</td>\n",
       "      <td>Cars 3</td>\n",
       "      <td>tt3606752</td>\n",
       "      <td>2256.0</td>\n",
       "      <td>11547.0</td>\n",
       "      <td>59.0</td>\n",
       "      <td>Blindsided by a new generation of blazing-fast...</td>\n",
       "      <td>6.8</td>\n",
       "      <td>41896.0</td>\n",
       "      <td>41</td>\n",
       "      <td>102.0</td>\n",
       "      <td>232</td>\n",
       "      <td>6.9</td>\n",
       "      <td>2017.0</td>\n",
       "      <td>['Animation', 'Adventure', 'Comedy', 'Family',...</td>\n",
       "      <td>sport</td>\n",
       "      <td>['Blindsided', 'by', 'a', 'new', 'generation',...</td>\n",
       "      <td>5</td>\n",
       "      <td>0</td>\n",
       "      <td>[1. 0. 0. 1. 0. 0. 0. 0. 0. 0. 1. 0. 1. 0. 0. ...</td>\n",
       "    </tr>\n",
       "    <tr>\n",
       "      <th>2</th>\n",
       "      <td>2</td>\n",
       "      <td>Creed</td>\n",
       "      <td>tt3076658</td>\n",
       "      <td>847.0</td>\n",
       "      <td>17840.0</td>\n",
       "      <td>82.0</td>\n",
       "      <td>Adonis Johnson is the son of the famous boxing...</td>\n",
       "      <td>7.6</td>\n",
       "      <td>193206.0</td>\n",
       "      <td>42</td>\n",
       "      <td>133.0</td>\n",
       "      <td>614</td>\n",
       "      <td>8.0</td>\n",
       "      <td>2015.0</td>\n",
       "      <td>['Drama', 'Sport']</td>\n",
       "      <td>sport</td>\n",
       "      <td>['Adonis', 'Johnson', 'is', 'the', 'son', 'of'...</td>\n",
       "      <td>2</td>\n",
       "      <td>0</td>\n",
       "      <td>[1. 0. 0. 0. 0. 0. 0. 0. 0. 0. 0. 0. 0. 0. 0. ...</td>\n",
       "    </tr>\n",
       "    <tr>\n",
       "      <th>3</th>\n",
       "      <td>3</td>\n",
       "      <td>Battle of the Sexes</td>\n",
       "      <td>tt4622512</td>\n",
       "      <td>2303.0</td>\n",
       "      <td>11228.0</td>\n",
       "      <td>73.0</td>\n",
       "      <td>In the wake of the sexual revolution and the r...</td>\n",
       "      <td>6.8</td>\n",
       "      <td>27960.0</td>\n",
       "      <td>46</td>\n",
       "      <td>121.0</td>\n",
       "      <td>102</td>\n",
       "      <td>6.3</td>\n",
       "      <td>2017.0</td>\n",
       "      <td>['Biography', 'Comedy', 'Drama', 'Sport']</td>\n",
       "      <td>sport</td>\n",
       "      <td>['In', 'the', 'wake', 'of', 'the', 'sexual', '...</td>\n",
       "      <td>4</td>\n",
       "      <td>0</td>\n",
       "      <td>[1. 0. 1. 0. 0. 0. 0. 0. 0. 0. 0. 0. 0. 0. 0. ...</td>\n",
       "    </tr>\n",
       "    <tr>\n",
       "      <th>4</th>\n",
       "      <td>4</td>\n",
       "      <td>Borg McEnroe</td>\n",
       "      <td>tt5727282</td>\n",
       "      <td>NaN</td>\n",
       "      <td>12891.0</td>\n",
       "      <td>57.0</td>\n",
       "      <td>The story of the 1980s tennis rivalry between ...</td>\n",
       "      <td>7.0</td>\n",
       "      <td>9800.0</td>\n",
       "      <td>13</td>\n",
       "      <td>107.0</td>\n",
       "      <td>0</td>\n",
       "      <td>NaN</td>\n",
       "      <td>2017.0</td>\n",
       "      <td>['Biography', 'Drama', 'Sport']</td>\n",
       "      <td>sport</td>\n",
       "      <td>['The', 'story', 'of', 'the', '1980s', 'tennis...</td>\n",
       "      <td>3</td>\n",
       "      <td>0</td>\n",
       "      <td>[1. 0. 1. 0. 0. 0. 0. 0. 0. 0. 0. 0. 0. 0. 0. ...</td>\n",
       "    </tr>\n",
       "  </tbody>\n",
       "</table>\n",
       "</div>"
      ],
      "text/plain": [
       "   Unnamed: 0                title    imdb_id  topRank  bottomRank  metaScore  \\\n",
       "0           0             I, Tonya  tt5580036    930.0     17643.0       77.0   \n",
       "1           1               Cars 3  tt3606752   2256.0     11547.0       59.0   \n",
       "2           2                Creed  tt3076658    847.0     17840.0       82.0   \n",
       "3           3  Battle of the Sexes  tt4622512   2303.0     11228.0       73.0   \n",
       "4           4         Borg McEnroe  tt5727282      NaN     12891.0       57.0   \n",
       "\n",
       "                                                plot  rating  ratingCount  \\\n",
       "0  From the proverbial wrong side of the tracks i...     7.6      67667.0   \n",
       "1  Blindsided by a new generation of blazing-fast...     6.8      41896.0   \n",
       "2  Adonis Johnson is the son of the famous boxing...     7.6     193206.0   \n",
       "3  In the wake of the sexual revolution and the r...     6.8      27960.0   \n",
       "4  The story of the 1980s tennis rivalry between ...     7.0       9800.0   \n",
       "\n",
       "   reviewCount  runningTimeInMinutes  userRatingCount  userScore    year  \\\n",
       "0           46                 120.0              235        7.8  2017.0   \n",
       "1           41                 102.0              232        6.9  2017.0   \n",
       "2           42                 133.0              614        8.0  2015.0   \n",
       "3           46                 121.0              102        6.3  2017.0   \n",
       "4           13                 107.0                0        NaN  2017.0   \n",
       "\n",
       "                                           all_genre  genre  \\\n",
       "0          ['Biography', 'Comedy', 'Drama', 'Sport']  sport   \n",
       "1  ['Animation', 'Adventure', 'Comedy', 'Family',...  sport   \n",
       "2                                 ['Drama', 'Sport']  sport   \n",
       "3          ['Biography', 'Comedy', 'Drama', 'Sport']  sport   \n",
       "4                    ['Biography', 'Drama', 'Sport']  sport   \n",
       "\n",
       "                                           plot_list  genreCount  genre_code  \\\n",
       "0  ['From', 'the', 'proverbial', 'wrong', 'side',...           4           0   \n",
       "1  ['Blindsided', 'by', 'a', 'new', 'generation',...           5           0   \n",
       "2  ['Adonis', 'Johnson', 'is', 'the', 'son', 'of'...           2           0   \n",
       "3  ['In', 'the', 'wake', 'of', 'the', 'sexual', '...           4           0   \n",
       "4  ['The', 'story', 'of', 'the', '1980s', 'tennis...           3           0   \n",
       "\n",
       "                                    all_genre_encode  \n",
       "0  [1. 0. 1. 0. 0. 0. 0. 0. 0. 0. 0. 0. 0. 0. 0. ...  \n",
       "1  [1. 0. 0. 1. 0. 0. 0. 0. 0. 0. 1. 0. 1. 0. 0. ...  \n",
       "2  [1. 0. 0. 0. 0. 0. 0. 0. 0. 0. 0. 0. 0. 0. 0. ...  \n",
       "3  [1. 0. 1. 0. 0. 0. 0. 0. 0. 0. 0. 0. 0. 0. 0. ...  \n",
       "4  [1. 0. 1. 0. 0. 0. 0. 0. 0. 0. 0. 0. 0. 0. 0. ...  "
      ]
     },
     "execution_count": 3,
     "metadata": {},
     "output_type": "execute_result"
    }
   ],
   "source": [
    "imdb_movie.head()"
   ]
  },
  {
   "cell_type": "markdown",
   "metadata": {},
   "source": [
    "#### encode the genre as a single-label array and a multi-label array"
   ]
  },
  {
   "cell_type": "markdown",
   "metadata": {},
   "source": [
    "#### single-label encode"
   ]
  },
  {
   "cell_type": "code",
   "execution_count": 4,
   "metadata": {
    "collapsed": true
   },
   "outputs": [],
   "source": [
    "genre_dict = dict(zip(imdb_movie.genre.unique(), range(20)))\n",
    "\n",
    "imdb_movie['genre_code'] = imdb_movie.genre.replace(genre_dict).values"
   ]
  },
  {
   "cell_type": "code",
   "execution_count": 5,
   "metadata": {},
   "outputs": [
    {
     "data": {
      "text/html": [
       "<div>\n",
       "<style scoped>\n",
       "    .dataframe tbody tr th:only-of-type {\n",
       "        vertical-align: middle;\n",
       "    }\n",
       "\n",
       "    .dataframe tbody tr th {\n",
       "        vertical-align: top;\n",
       "    }\n",
       "\n",
       "    .dataframe thead th {\n",
       "        text-align: right;\n",
       "    }\n",
       "</style>\n",
       "<table border=\"1\" class=\"dataframe\">\n",
       "  <thead>\n",
       "    <tr style=\"text-align: right;\">\n",
       "      <th></th>\n",
       "      <th>Unnamed: 0</th>\n",
       "      <th>title</th>\n",
       "      <th>imdb_id</th>\n",
       "      <th>topRank</th>\n",
       "      <th>bottomRank</th>\n",
       "      <th>metaScore</th>\n",
       "      <th>plot</th>\n",
       "      <th>rating</th>\n",
       "      <th>ratingCount</th>\n",
       "      <th>reviewCount</th>\n",
       "      <th>runningTimeInMinutes</th>\n",
       "      <th>userRatingCount</th>\n",
       "      <th>userScore</th>\n",
       "      <th>year</th>\n",
       "      <th>all_genre</th>\n",
       "      <th>genre</th>\n",
       "      <th>plot_list</th>\n",
       "      <th>genreCount</th>\n",
       "      <th>genre_code</th>\n",
       "      <th>all_genre_encode</th>\n",
       "    </tr>\n",
       "  </thead>\n",
       "  <tbody>\n",
       "    <tr>\n",
       "      <th>0</th>\n",
       "      <td>0</td>\n",
       "      <td>I, Tonya</td>\n",
       "      <td>tt5580036</td>\n",
       "      <td>930.0</td>\n",
       "      <td>17643.0</td>\n",
       "      <td>77.0</td>\n",
       "      <td>From the proverbial wrong side of the tracks i...</td>\n",
       "      <td>7.6</td>\n",
       "      <td>67667.0</td>\n",
       "      <td>46</td>\n",
       "      <td>120.0</td>\n",
       "      <td>235</td>\n",
       "      <td>7.8</td>\n",
       "      <td>2017.0</td>\n",
       "      <td>['Biography', 'Comedy', 'Drama', 'Sport']</td>\n",
       "      <td>sport</td>\n",
       "      <td>['From', 'the', 'proverbial', 'wrong', 'side',...</td>\n",
       "      <td>4</td>\n",
       "      <td>0</td>\n",
       "      <td>[1. 0. 1. 0. 0. 0. 0. 0. 0. 0. 0. 0. 0. 0. 0. ...</td>\n",
       "    </tr>\n",
       "    <tr>\n",
       "      <th>1</th>\n",
       "      <td>1</td>\n",
       "      <td>Cars 3</td>\n",
       "      <td>tt3606752</td>\n",
       "      <td>2256.0</td>\n",
       "      <td>11547.0</td>\n",
       "      <td>59.0</td>\n",
       "      <td>Blindsided by a new generation of blazing-fast...</td>\n",
       "      <td>6.8</td>\n",
       "      <td>41896.0</td>\n",
       "      <td>41</td>\n",
       "      <td>102.0</td>\n",
       "      <td>232</td>\n",
       "      <td>6.9</td>\n",
       "      <td>2017.0</td>\n",
       "      <td>['Animation', 'Adventure', 'Comedy', 'Family',...</td>\n",
       "      <td>sport</td>\n",
       "      <td>['Blindsided', 'by', 'a', 'new', 'generation',...</td>\n",
       "      <td>5</td>\n",
       "      <td>0</td>\n",
       "      <td>[1. 0. 0. 1. 0. 0. 0. 0. 0. 0. 1. 0. 1. 0. 0. ...</td>\n",
       "    </tr>\n",
       "    <tr>\n",
       "      <th>2</th>\n",
       "      <td>2</td>\n",
       "      <td>Creed</td>\n",
       "      <td>tt3076658</td>\n",
       "      <td>847.0</td>\n",
       "      <td>17840.0</td>\n",
       "      <td>82.0</td>\n",
       "      <td>Adonis Johnson is the son of the famous boxing...</td>\n",
       "      <td>7.6</td>\n",
       "      <td>193206.0</td>\n",
       "      <td>42</td>\n",
       "      <td>133.0</td>\n",
       "      <td>614</td>\n",
       "      <td>8.0</td>\n",
       "      <td>2015.0</td>\n",
       "      <td>['Drama', 'Sport']</td>\n",
       "      <td>sport</td>\n",
       "      <td>['Adonis', 'Johnson', 'is', 'the', 'son', 'of'...</td>\n",
       "      <td>2</td>\n",
       "      <td>0</td>\n",
       "      <td>[1. 0. 0. 0. 0. 0. 0. 0. 0. 0. 0. 0. 0. 0. 0. ...</td>\n",
       "    </tr>\n",
       "    <tr>\n",
       "      <th>3</th>\n",
       "      <td>3</td>\n",
       "      <td>Battle of the Sexes</td>\n",
       "      <td>tt4622512</td>\n",
       "      <td>2303.0</td>\n",
       "      <td>11228.0</td>\n",
       "      <td>73.0</td>\n",
       "      <td>In the wake of the sexual revolution and the r...</td>\n",
       "      <td>6.8</td>\n",
       "      <td>27960.0</td>\n",
       "      <td>46</td>\n",
       "      <td>121.0</td>\n",
       "      <td>102</td>\n",
       "      <td>6.3</td>\n",
       "      <td>2017.0</td>\n",
       "      <td>['Biography', 'Comedy', 'Drama', 'Sport']</td>\n",
       "      <td>sport</td>\n",
       "      <td>['In', 'the', 'wake', 'of', 'the', 'sexual', '...</td>\n",
       "      <td>4</td>\n",
       "      <td>0</td>\n",
       "      <td>[1. 0. 1. 0. 0. 0. 0. 0. 0. 0. 0. 0. 0. 0. 0. ...</td>\n",
       "    </tr>\n",
       "    <tr>\n",
       "      <th>4</th>\n",
       "      <td>4</td>\n",
       "      <td>Borg McEnroe</td>\n",
       "      <td>tt5727282</td>\n",
       "      <td>NaN</td>\n",
       "      <td>12891.0</td>\n",
       "      <td>57.0</td>\n",
       "      <td>The story of the 1980s tennis rivalry between ...</td>\n",
       "      <td>7.0</td>\n",
       "      <td>9800.0</td>\n",
       "      <td>13</td>\n",
       "      <td>107.0</td>\n",
       "      <td>0</td>\n",
       "      <td>NaN</td>\n",
       "      <td>2017.0</td>\n",
       "      <td>['Biography', 'Drama', 'Sport']</td>\n",
       "      <td>sport</td>\n",
       "      <td>['The', 'story', 'of', 'the', '1980s', 'tennis...</td>\n",
       "      <td>3</td>\n",
       "      <td>0</td>\n",
       "      <td>[1. 0. 1. 0. 0. 0. 0. 0. 0. 0. 0. 0. 0. 0. 0. ...</td>\n",
       "    </tr>\n",
       "  </tbody>\n",
       "</table>\n",
       "</div>"
      ],
      "text/plain": [
       "   Unnamed: 0                title    imdb_id  topRank  bottomRank  metaScore  \\\n",
       "0           0             I, Tonya  tt5580036    930.0     17643.0       77.0   \n",
       "1           1               Cars 3  tt3606752   2256.0     11547.0       59.0   \n",
       "2           2                Creed  tt3076658    847.0     17840.0       82.0   \n",
       "3           3  Battle of the Sexes  tt4622512   2303.0     11228.0       73.0   \n",
       "4           4         Borg McEnroe  tt5727282      NaN     12891.0       57.0   \n",
       "\n",
       "                                                plot  rating  ratingCount  \\\n",
       "0  From the proverbial wrong side of the tracks i...     7.6      67667.0   \n",
       "1  Blindsided by a new generation of blazing-fast...     6.8      41896.0   \n",
       "2  Adonis Johnson is the son of the famous boxing...     7.6     193206.0   \n",
       "3  In the wake of the sexual revolution and the r...     6.8      27960.0   \n",
       "4  The story of the 1980s tennis rivalry between ...     7.0       9800.0   \n",
       "\n",
       "   reviewCount  runningTimeInMinutes  userRatingCount  userScore    year  \\\n",
       "0           46                 120.0              235        7.8  2017.0   \n",
       "1           41                 102.0              232        6.9  2017.0   \n",
       "2           42                 133.0              614        8.0  2015.0   \n",
       "3           46                 121.0              102        6.3  2017.0   \n",
       "4           13                 107.0                0        NaN  2017.0   \n",
       "\n",
       "                                           all_genre  genre  \\\n",
       "0          ['Biography', 'Comedy', 'Drama', 'Sport']  sport   \n",
       "1  ['Animation', 'Adventure', 'Comedy', 'Family',...  sport   \n",
       "2                                 ['Drama', 'Sport']  sport   \n",
       "3          ['Biography', 'Comedy', 'Drama', 'Sport']  sport   \n",
       "4                    ['Biography', 'Drama', 'Sport']  sport   \n",
       "\n",
       "                                           plot_list  genreCount  genre_code  \\\n",
       "0  ['From', 'the', 'proverbial', 'wrong', 'side',...           4           0   \n",
       "1  ['Blindsided', 'by', 'a', 'new', 'generation',...           5           0   \n",
       "2  ['Adonis', 'Johnson', 'is', 'the', 'son', 'of'...           2           0   \n",
       "3  ['In', 'the', 'wake', 'of', 'the', 'sexual', '...           4           0   \n",
       "4  ['The', 'story', 'of', 'the', '1980s', 'tennis...           3           0   \n",
       "\n",
       "                                    all_genre_encode  \n",
       "0  [1. 0. 1. 0. 0. 0. 0. 0. 0. 0. 0. 0. 0. 0. 0. ...  \n",
       "1  [1. 0. 0. 1. 0. 0. 0. 0. 0. 0. 1. 0. 1. 0. 0. ...  \n",
       "2  [1. 0. 0. 0. 0. 0. 0. 0. 0. 0. 0. 0. 0. 0. 0. ...  \n",
       "3  [1. 0. 1. 0. 0. 0. 0. 0. 0. 0. 0. 0. 0. 0. 0. ...  \n",
       "4  [1. 0. 1. 0. 0. 0. 0. 0. 0. 0. 0. 0. 0. 0. 0. ...  "
      ]
     },
     "execution_count": 5,
     "metadata": {},
     "output_type": "execute_result"
    }
   ],
   "source": [
    "imdb_movie.head()"
   ]
  },
  {
   "cell_type": "code",
   "execution_count": 6,
   "metadata": {
    "collapsed": true
   },
   "outputs": [],
   "source": [
    "genre_dict['sci-fi'] = 17"
   ]
  },
  {
   "cell_type": "markdown",
   "metadata": {},
   "source": [
    "#### multi-label encode as an array"
   ]
  },
  {
   "cell_type": "code",
   "execution_count": 7,
   "metadata": {
    "collapsed": true
   },
   "outputs": [],
   "source": [
    "def multi_label_encoder(all_genre_list):\n",
    "    \"\"\" This function takes a list of genre with a dictionary that keeps track of the index of the genre\n",
    "    INPUTS\n",
    "    ------\n",
    "    all_genre_list: list of genres\n",
    "    genre_dict: dictionary of indexs\n",
    "    \n",
    "    OUTPUTS\n",
    "    -------\n",
    "    np array in {0, 1}\n",
    "    \"\"\"\n",
    "    encode = np.zeros(20)\n",
    "    all_genre_list = ast.literal_eval(all_genre_list)\n",
    "    for genre in all_genre_list:\n",
    "        if genre.lower() in genre_dict:\n",
    "            encode[genre_dict[genre.lower()]] = 1\n",
    "    return list(encode)"
   ]
  },
  {
   "cell_type": "code",
   "execution_count": 8,
   "metadata": {
    "collapsed": true,
    "scrolled": false
   },
   "outputs": [],
   "source": [
    "imdb_movie['all_genre_encode'] = imdb_movie['all_genre'].apply(multi_label_encoder)"
   ]
  },
  {
   "cell_type": "code",
   "execution_count": 9,
   "metadata": {},
   "outputs": [
    {
     "data": {
      "text/plain": [
       "[1.0,\n",
       " 0.0,\n",
       " 1.0,\n",
       " 0.0,\n",
       " 0.0,\n",
       " 0.0,\n",
       " 0.0,\n",
       " 0.0,\n",
       " 0.0,\n",
       " 0.0,\n",
       " 0.0,\n",
       " 0.0,\n",
       " 0.0,\n",
       " 0.0,\n",
       " 0.0,\n",
       " 0.0,\n",
       " 0.0,\n",
       " 0.0,\n",
       " 1.0,\n",
       " 1.0]"
      ]
     },
     "execution_count": 9,
     "metadata": {},
     "output_type": "execute_result"
    }
   ],
   "source": [
    "imdb_movie['all_genre_encode'].iloc[0]"
   ]
  },
  {
   "cell_type": "code",
   "execution_count": 10,
   "metadata": {
    "collapsed": true
   },
   "outputs": [],
   "source": [
    "imdb_movie['plot_list'] = imdb_movie['plot_list'].apply(ast.literal_eval)"
   ]
  },
  {
   "cell_type": "code",
   "execution_count": 11,
   "metadata": {},
   "outputs": [
    {
     "data": {
      "text/plain": [
       "['From',\n",
       " 'the',\n",
       " 'proverbial',\n",
       " 'wrong',\n",
       " 'side',\n",
       " 'of',\n",
       " 'the',\n",
       " 'tracks',\n",
       " 'in',\n",
       " 'Portland,',\n",
       " 'Oregon,',\n",
       " 'former',\n",
       " 'competitive',\n",
       " 'figure',\n",
       " 'skater',\n",
       " 'Tonya',\n",
       " 'Harding',\n",
       " 'was',\n",
       " 'never',\n",
       " 'fully',\n",
       " 'accepted',\n",
       " 'in',\n",
       " 'the',\n",
       " 'figure',\n",
       " 'skating',\n",
       " 'community',\n",
       " 'for',\n",
       " 'not',\n",
       " 'inherently',\n",
       " 'being',\n",
       " 'the',\n",
       " 'image',\n",
       " 'of',\n",
       " 'grace,',\n",
       " 'breeding',\n",
       " 'and',\n",
       " 'privilege',\n",
       " 'that',\n",
       " 'the',\n",
       " 'community',\n",
       " 'wanted',\n",
       " 'to',\n",
       " 'portray,',\n",
       " 'despite',\n",
       " 'she',\n",
       " 'being',\n",
       " 'naturally',\n",
       " 'gifted',\n",
       " 'in',\n",
       " 'the',\n",
       " 'sport',\n",
       " 'athletically.',\n",
       " 'Despite',\n",
       " 'ultimately',\n",
       " 'garnering',\n",
       " 'some',\n",
       " 'success',\n",
       " 'in',\n",
       " 'figure',\n",
       " 'skating',\n",
       " 'being',\n",
       " 'national',\n",
       " 'champion,',\n",
       " 'a',\n",
       " 'world',\n",
       " 'championship',\n",
       " 'medalist,',\n",
       " 'an',\n",
       " 'Olympian,',\n",
       " 'and',\n",
       " 'being',\n",
       " 'the',\n",
       " 'first',\n",
       " 'American',\n",
       " 'woman',\n",
       " 'to',\n",
       " 'complete',\n",
       " 'a',\n",
       " 'Triple',\n",
       " 'Axel',\n",
       " 'in',\n",
       " 'competition,',\n",
       " 'she',\n",
       " 'is',\n",
       " 'arguably',\n",
       " 'best',\n",
       " 'known',\n",
       " 'for',\n",
       " 'her',\n",
       " 'association',\n",
       " 'to',\n",
       " '\"the',\n",
       " 'incident\":',\n",
       " 'the',\n",
       " 'leg',\n",
       " 'bashing',\n",
       " 'on',\n",
       " 'January',\n",
       " '6,',\n",
       " '1994',\n",
       " 'of',\n",
       " 'her',\n",
       " 'competitor,',\n",
       " 'Nancy',\n",
       " 'Kerrigan,',\n",
       " 'who,',\n",
       " 'unlike',\n",
       " 'Tonya,',\n",
       " 'was',\n",
       " 'everything',\n",
       " 'that',\n",
       " 'the',\n",
       " 'figure',\n",
       " 'skating',\n",
       " 'community',\n",
       " 'wanted',\n",
       " 'in',\n",
       " 'their',\n",
       " 'representatives.',\n",
       " 'Her',\n",
       " 'association',\n",
       " 'to',\n",
       " 'that',\n",
       " 'incident',\n",
       " 'led',\n",
       " 'to',\n",
       " 'Tonya',\n",
       " 'being',\n",
       " 'banned',\n",
       " 'from',\n",
       " 'competitive',\n",
       " 'figure',\n",
       " 'skating',\n",
       " 'for',\n",
       " 'life.',\n",
       " \"Tonya's\",\n",
       " 'story',\n",
       " 'from',\n",
       " 'the',\n",
       " 'beginning',\n",
       " 'of',\n",
       " 'her',\n",
       " 'figure',\n",
       " 'skating',\n",
       " 'life',\n",
       " 'at',\n",
       " 'age',\n",
       " 'four',\n",
       " 'to',\n",
       " 'the',\n",
       " 'aftermath',\n",
       " 'of',\n",
       " 'the',\n",
       " 'incident',\n",
       " 'is',\n",
       " 'presented.',\n",
       " 'Besides',\n",
       " 'Tonya',\n",
       " 'herself,',\n",
       " 'key',\n",
       " 'people',\n",
       " 'in',\n",
       " 'her',\n",
       " 'life',\n",
       " 'give',\n",
       " 'their',\n",
       " 'perspective',\n",
       " 'of',\n",
       " 'their',\n",
       " 'role',\n",
       " 'in',\n",
       " 'her',\n",
       " 'life.',\n",
       " 'Although',\n",
       " 'they',\n",
       " 'may',\n",
       " 'agree',\n",
       " 'on',\n",
       " 'the',\n",
       " 'broad',\n",
       " 'issues',\n",
       " 'at',\n",
       " 'hand,',\n",
       " 'such',\n",
       " 'as',\n",
       " 'that',\n",
       " 'the',\n",
       " 'incident',\n",
       " 'did',\n",
       " 'occur,',\n",
       " 'they',\n",
       " 'may',\n",
       " 'vary',\n",
       " 'widely',\n",
       " 'in',\n",
       " 'their',\n",
       " 'recollection',\n",
       " 'of',\n",
       " 'the',\n",
       " 'details.',\n",
       " 'These',\n",
       " 'people',\n",
       " 'are:',\n",
       " 'her',\n",
       " 'waitress',\n",
       " 'mother',\n",
       " 'Lavona',\n",
       " 'Golden,',\n",
       " 'who',\n",
       " 'despite',\n",
       " 'having',\n",
       " 'paid',\n",
       " 'for',\n",
       " 'her',\n",
       " 'expensive',\n",
       " 'figure',\n",
       " 'skating',\n",
       " 'lessons,',\n",
       " 'was',\n",
       " 'abusive',\n",
       " 'toward',\n",
       " 'her',\n",
       " 'physically',\n",
       " 'and',\n",
       " 'emotionally,',\n",
       " 'never',\n",
       " 'believing',\n",
       " 'she',\n",
       " 'being',\n",
       " 'good',\n",
       " 'enough',\n",
       " 'in',\n",
       " 'any',\n",
       " 'aspect',\n",
       " 'of',\n",
       " 'the',\n",
       " 'word,',\n",
       " 'and',\n",
       " 'who',\n",
       " 'pulled',\n",
       " 'her',\n",
       " 'from',\n",
       " 'school',\n",
       " 'to',\n",
       " 'focus',\n",
       " 'solely',\n",
       " 'on',\n",
       " 'the',\n",
       " 'figure',\n",
       " 'skating;',\n",
       " 'Diane',\n",
       " 'Rawlinson,',\n",
       " 'her',\n",
       " 'first',\n",
       " 'and',\n",
       " 'longest',\n",
       " 'serving',\n",
       " 'coach,',\n",
       " 'who,',\n",
       " 'for',\n",
       " 'good',\n",
       " 'or',\n",
       " 'bad,',\n",
       " 'largely',\n",
       " 'let',\n",
       " 'Tonya',\n",
       " 'be',\n",
       " 'Tonya',\n",
       " 'in',\n",
       " 'the',\n",
       " 'way',\n",
       " 'she',\n",
       " 'presented',\n",
       " 'herself',\n",
       " 'to',\n",
       " 'the',\n",
       " 'figure',\n",
       " 'skating',\n",
       " 'world;',\n",
       " 'Jeff',\n",
       " 'Gillooly,',\n",
       " 'her',\n",
       " 'first',\n",
       " 'husband,',\n",
       " 'the',\n",
       " 'two',\n",
       " 'who',\n",
       " 'also',\n",
       " 'had',\n",
       " 'a',\n",
       " 'turbulent',\n",
       " 'relationship',\n",
       " 'on',\n",
       " 'a',\n",
       " 'need',\n",
       " 'to',\n",
       " 'be',\n",
       " 'loved',\n",
       " 'perhaps',\n",
       " 'without',\n",
       " 'truly',\n",
       " 'loving',\n",
       " 'the',\n",
       " 'other;',\n",
       " \"Jeff's\",\n",
       " 'friend',\n",
       " 'and',\n",
       " \"Tonya's\",\n",
       " 'bodyguard',\n",
       " 'Shawn',\n",
       " 'Eckardt,',\n",
       " 'a',\n",
       " 'dim',\n",
       " 'bulb',\n",
       " 'who',\n",
       " 'believed',\n",
       " 'himself',\n",
       " 'to',\n",
       " 'be',\n",
       " 'a',\n",
       " 'bigger',\n",
       " 'player',\n",
       " 'in',\n",
       " 'the',\n",
       " 'big',\n",
       " 'scheme',\n",
       " 'of',\n",
       " 'life',\n",
       " 'than',\n",
       " 'he',\n",
       " 'actually',\n",
       " 'was;',\n",
       " 'and',\n",
       " 'sports',\n",
       " 'journalist',\n",
       " 'Martin',\n",
       " 'Maddox,',\n",
       " 'a',\n",
       " 'fictional',\n",
       " 'character',\n",
       " 'who',\n",
       " 'provides',\n",
       " 'general',\n",
       " 'commentary',\n",
       " 'of',\n",
       " 'what',\n",
       " 'the',\n",
       " 'sports',\n",
       " 'media',\n",
       " 'as',\n",
       " 'a',\n",
       " 'collective',\n",
       " 'wanted',\n",
       " 'out',\n",
       " 'of',\n",
       " 'Tonya',\n",
       " 'and',\n",
       " 'the',\n",
       " 'incident.',\n",
       " 'Loved',\n",
       " 'for',\n",
       " 'a',\n",
       " 'fleeting',\n",
       " 'moment',\n",
       " 'and',\n",
       " 'then',\n",
       " 'hated',\n",
       " 'for',\n",
       " 'life,',\n",
       " 'Tonya',\n",
       " 'Harding,',\n",
       " 'the',\n",
       " 'child',\n",
       " 'prodigy',\n",
       " 'who',\n",
       " 'was',\n",
       " 'forced',\n",
       " 'into',\n",
       " 'the',\n",
       " 'realm',\n",
       " 'of',\n",
       " 'skating',\n",
       " 'by',\n",
       " 'her',\n",
       " 'overbearing',\n",
       " 'and',\n",
       " 'abusive',\n",
       " 'mother,',\n",
       " 'LaVona',\n",
       " 'Golden,',\n",
       " 'recounts',\n",
       " 'the',\n",
       " 'events',\n",
       " 'in',\n",
       " 'her',\n",
       " 'bumpy',\n",
       " 'life.',\n",
       " 'From',\n",
       " 'her',\n",
       " 'harmful',\n",
       " 'relationship',\n",
       " 'with',\n",
       " 'her',\n",
       " 'first',\n",
       " 'beau,',\n",
       " 'Jeff',\n",
       " 'Gillooly,',\n",
       " 'to',\n",
       " 'her',\n",
       " 'utter',\n",
       " 'defeat',\n",
       " 'in',\n",
       " 'the',\n",
       " '1992',\n",
       " 'Winter',\n",
       " 'Olympics,',\n",
       " 'and',\n",
       " 'from',\n",
       " 'that',\n",
       " 'disgraceful',\n",
       " 'incident',\n",
       " 'with',\n",
       " 'her',\n",
       " 'friend',\n",
       " 'and',\n",
       " 'fellow',\n",
       " 'skater,',\n",
       " 'Nancy',\n",
       " 'Kerrigan,',\n",
       " 'to',\n",
       " 'her',\n",
       " 'last',\n",
       " 'chance',\n",
       " 'at',\n",
       " 'the',\n",
       " '1994',\n",
       " 'Winter',\n",
       " 'Olympics,',\n",
       " 'Tonya',\n",
       " 'was',\n",
       " 'always',\n",
       " 'a',\n",
       " 'victim',\n",
       " 'of',\n",
       " 'her',\n",
       " 'abundant',\n",
       " 'talent.',\n",
       " 'However,',\n",
       " 'talent',\n",
       " 'alone',\n",
       " \"isn't\",\n",
       " 'enough,',\n",
       " 'even',\n",
       " 'if',\n",
       " 'you',\n",
       " 'are',\n",
       " 'the',\n",
       " 'first',\n",
       " 'American',\n",
       " 'figure',\n",
       " 'skater',\n",
       " 'who',\n",
       " 'can',\n",
       " 'perform',\n",
       " 'to',\n",
       " 'perfection',\n",
       " 'the',\n",
       " 'notoriously',\n",
       " 'difficult',\n",
       " 'triple',\n",
       " 'axel',\n",
       " 'in',\n",
       " 'competition.',\n",
       " 'In',\n",
       " '1991,',\n",
       " 'talented',\n",
       " 'figure',\n",
       " 'skater',\n",
       " 'Tonya',\n",
       " 'Harding',\n",
       " 'becomes',\n",
       " 'the',\n",
       " 'first',\n",
       " 'American',\n",
       " 'woman',\n",
       " 'to',\n",
       " 'complete',\n",
       " 'a',\n",
       " 'triple',\n",
       " 'axel',\n",
       " 'during',\n",
       " 'a',\n",
       " 'competition.',\n",
       " 'In',\n",
       " '1994,',\n",
       " 'her',\n",
       " 'world',\n",
       " 'comes',\n",
       " 'crashing',\n",
       " 'down',\n",
       " 'when',\n",
       " 'her',\n",
       " 'ex-husband',\n",
       " 'conspires',\n",
       " 'to',\n",
       " 'injure',\n",
       " 'Nancy',\n",
       " 'Kerrigan,',\n",
       " 'a',\n",
       " 'fellow',\n",
       " 'Olympic',\n",
       " 'hopeful,',\n",
       " 'in',\n",
       " 'a',\n",
       " 'poorly',\n",
       " 'conceived',\n",
       " 'attack',\n",
       " 'that',\n",
       " 'forces',\n",
       " 'the',\n",
       " 'young',\n",
       " 'woman',\n",
       " 'to',\n",
       " 'withdraw',\n",
       " 'from',\n",
       " 'the',\n",
       " 'national',\n",
       " 'championship.',\n",
       " \"Harding's\",\n",
       " 'life',\n",
       " 'and',\n",
       " 'legacy',\n",
       " 'instantly',\n",
       " 'become',\n",
       " 'tarnished',\n",
       " 'as',\n",
       " \"she's\",\n",
       " 'forever',\n",
       " 'associated',\n",
       " 'with',\n",
       " 'one',\n",
       " 'of',\n",
       " 'the',\n",
       " 'most',\n",
       " 'infamous',\n",
       " 'scandals',\n",
       " 'in',\n",
       " 'sports',\n",
       " 'history.']"
      ]
     },
     "execution_count": 11,
     "metadata": {},
     "output_type": "execute_result"
    }
   ],
   "source": [
    "imdb_movie['plot_list'].iloc[0]"
   ]
  },
  {
   "cell_type": "code",
   "execution_count": 12,
   "metadata": {
    "collapsed": true
   },
   "outputs": [],
   "source": [
    "# train test split\n",
    "X_train, X_test, y_train, y_test = train_test_split(imdb_movie['plot'], \n",
    "                                                                            imdb_movie['all_genre_encode'],\n",
    "                                                                            test_size = 0.2,\n",
    "                                                                            random_state = 209,\n",
    "                                                                            )"
   ]
  },
  {
   "cell_type": "markdown",
   "metadata": {},
   "source": [
    "#### Evaluation"
   ]
  },
  {
   "cell_type": "code",
   "execution_count": 99,
   "metadata": {},
   "outputs": [],
   "source": [
    "def score(y_true, y_score, method='avg'):\n",
    "    if method == 'avg':\n",
    "        return np.mean(np.mean(y_true == y_score, axis=1))\n",
    "    elif method == 'exact':\n",
    "        return metrics.average_precision_score(y_true, y_score)\n",
    "    elif method == 'recall':\n",
    "        return np.mean([metrics.recall_score(y_true[:,i], y_score[:,i]) for i in range(y_score.shape[1])])\n",
    "    elif method == 'precision':\n",
    "        return np.mean([metrics.precision_score(y_true[:,i], y_score[:,i]) for i in range(y_score.shape[1])])"
   ]
  },
  {
   "cell_type": "markdown",
   "metadata": {},
   "source": [
    "## Baseline Model with bag-of-words \n",
    "### Naive Bayes "
   ]
  },
  {
   "cell_type": "code",
   "execution_count": 13,
   "metadata": {
    "collapsed": true
   },
   "outputs": [],
   "source": [
    "# bag of words representation\n",
    "vectorizer = CountVectorizer(stop_words='english')"
   ]
  },
  {
   "cell_type": "code",
   "execution_count": 14,
   "metadata": {
    "collapsed": true
   },
   "outputs": [],
   "source": [
    "naive_X_train = vectorizer.fit_transform(X_train)\n",
    "naive_X_test = vectorizer.transform(X_test)"
   ]
  },
  {
   "cell_type": "code",
   "execution_count": 15,
   "metadata": {
    "collapsed": true
   },
   "outputs": [],
   "source": [
    "# reshape y_train and y_test\n",
    "y_train = np.array(list(y_train))\n",
    "y_test = np.array(list(y_test))"
   ]
  },
  {
   "cell_type": "code",
   "execution_count": 16,
   "metadata": {},
   "outputs": [
    {
     "data": {
      "text/plain": [
       "(5124, 20)"
      ]
     },
     "execution_count": 16,
     "metadata": {},
     "output_type": "execute_result"
    }
   ],
   "source": [
    "y_train.shape"
   ]
  },
  {
   "cell_type": "code",
   "execution_count": 17,
   "metadata": {
    "scrolled": true
   },
   "outputs": [
    {
     "data": {
      "text/plain": [
       "array([[0., 0., 0., ..., 1., 1., 0.],\n",
       "       [0., 0., 0., ..., 0., 0., 1.],\n",
       "       [0., 0., 0., ..., 0., 0., 0.],\n",
       "       ...,\n",
       "       [0., 0., 0., ..., 0., 0., 0.],\n",
       "       [1., 0., 1., ..., 0., 0., 1.],\n",
       "       [0., 0., 0., ..., 0., 0., 0.]])"
      ]
     },
     "execution_count": 17,
     "metadata": {},
     "output_type": "execute_result"
    }
   ],
   "source": [
    "y_train"
   ]
  },
  {
   "cell_type": "code",
   "execution_count": 18,
   "metadata": {
    "scrolled": false
   },
   "outputs": [
    {
     "name": "stderr",
     "output_type": "stream",
     "text": [
      "//anaconda/lib/python3.5/site-packages/sklearn/multiclass.py:76: UserWarning: Label not 8 is present in all training examples.\n",
      "  str(classes[c]))\n"
     ]
    },
    {
     "data": {
      "text/plain": [
       "OneVsRestClassifier(estimator=MultinomialNB(alpha=1.0, class_prior=None, fit_prior=True),\n",
       "          n_jobs=1)"
      ]
     },
     "execution_count": 18,
     "metadata": {},
     "output_type": "execute_result"
    }
   ],
   "source": [
    "nb = OneVsRestClassifier(MultinomialNB())\n",
    "nb.fit(naive_X_train, y_train)"
   ]
  },
  {
   "cell_type": "code",
   "execution_count": 19,
   "metadata": {},
   "outputs": [
    {
     "name": "stdout",
     "output_type": "stream",
     "text": [
      "Naive Bayes Accuracy on Train : 0.5915300546448088\n",
      "Naive Bayes Accuracy on Test : 0.14508580343213728\n"
     ]
    }
   ],
   "source": [
    "naive_train_pred = nb.predict(naive_X_train)\n",
    "naive_test_pred = nb.predict(naive_X_test)\n",
    "print('Naive Bayes Accuracy on Train : {}'.format(metrics.accuracy_score(y_train, naive_train_pred)))\n",
    "print('Naive Bayes Accuracy on Test : {}'.format(metrics.accuracy_score(y_test, naive_test_pred)))"
   ]
  },
  {
   "cell_type": "code",
   "execution_count": 20,
   "metadata": {},
   "outputs": [
    {
     "data": {
      "text/plain": [
       "array([5.37012637e-33, 4.31795630e-31, 3.59365748e-27, 2.63671879e-10,\n",
       "       1.11016946e-28, 1.01828361e-21, 3.29233909e-25, 1.31202345e-21,\n",
       "       0.00000000e+00, 1.39414154e-08, 1.33012783e-02, 4.52588102e-15,\n",
       "       8.36423998e-01, 3.23838390e-14, 1.86421000e-18, 3.69704282e-05,\n",
       "       8.66331663e-01, 9.99998836e-01, 9.93130417e-01, 8.06854819e-08])"
      ]
     },
     "execution_count": 20,
     "metadata": {},
     "output_type": "execute_result"
    }
   ],
   "source": [
    "nb.predict_proba(naive_X_train)[0]"
   ]
  },
  {
   "cell_type": "markdown",
   "metadata": {},
   "source": [
    "### Random Forests"
   ]
  },
  {
   "cell_type": "code",
   "execution_count": 21,
   "metadata": {
    "collapsed": true
   },
   "outputs": [],
   "source": [
    "from sklearn.ensemble import RandomForestClassifier"
   ]
  },
  {
   "cell_type": "code",
   "execution_count": 22,
   "metadata": {},
   "outputs": [
    {
     "name": "stderr",
     "output_type": "stream",
     "text": [
      "//anaconda/lib/python3.5/site-packages/sklearn/multiclass.py:76: UserWarning: Label not 8 is present in all training examples.\n",
      "  str(classes[c]))\n"
     ]
    },
    {
     "name": "stdout",
     "output_type": "stream",
     "text": [
      "Random Forest Accuracy on Train : 0.7792740046838408\n",
      "Random Forest Accuracy on Test : 0.046021840873634944\n"
     ]
    }
   ],
   "source": [
    "rfc = OneVsRestClassifier(RandomForestClassifier())\n",
    "rfc.fit(naive_X_train, y_train)\n",
    "rfc_train_pred = rfc.predict(naive_X_train)\n",
    "rfc_test_pred = rfc.predict(naive_X_test)\n",
    "print('Random Forest Accuracy on Train : {}'.format(metrics.accuracy_score(y_train, rfc_train_pred)))\n",
    "print('Random Forest Accuracy on Test : {}'.format(metrics.accuracy_score(y_test, rfc_test_pred)))"
   ]
  },
  {
   "cell_type": "markdown",
   "metadata": {},
   "source": [
    "## GloVE"
   ]
  },
  {
   "cell_type": "code",
   "execution_count": 24,
   "metadata": {},
   "outputs": [],
   "source": [
    "with open(\"data/glove.6B.300d.txt\", \"rb\") as lines:\n",
    "    w2v = {line.decode(\"utf-8\").split()[0]: np.array(line.split()[1:]).astype(float)\n",
    "           for line in lines}"
   ]
  },
  {
   "cell_type": "code",
   "execution_count": 53,
   "metadata": {},
   "outputs": [],
   "source": [
    "# def mean_emb(sentence, n_embedding=300):\n",
    "#     count = 0\n",
    "#     emb = np.zeros(n_embedding)\n",
    "#     for w in re.sub('['+string.punctuation+']', '', sentence.strip()).split():\n",
    "#         if w in w2v:\n",
    "#             emb += w2v[w]\n",
    "#             count += 1\n",
    "#     return emb / count\n",
    "\n",
    "# def mean_transform(X, n_embedding=300):\n",
    "#     transformed_x = np.zeros((len(X), n_embedding))\n",
    "#     for i, sentence in enumerate(X):\n",
    "#         transformed_x[i] = mean_emb(sentence, n_embedding)\n",
    "#     return transformed_x"
   ]
  },
  {
   "cell_type": "code",
   "execution_count": 63,
   "metadata": {},
   "outputs": [],
   "source": [
    "# glove_X_train = mean_transform(X_train)\n",
    "# glove_X_test = mean_transform(X_test)"
   ]
  },
  {
   "cell_type": "code",
   "execution_count": 58,
   "metadata": {
    "collapsed": true
   },
   "outputs": [],
   "source": [
    "class MeanEmbeddingVectorizer(object):\n",
    "    def __init__(self, word2vec):\n",
    "        self.word2vec = word2vec\n",
    "\n",
    "        self.dim = 300\n",
    "\n",
    "    def fit(self, X, y):\n",
    "        return self\n",
    "\n",
    "    def transform(self, X):\n",
    "        return np.array([\n",
    "            np.mean([self.word2vec[w] for w in re.sub('['+string.punctuation+']', '', words.strip()) if w in self.word2vec] or [np.zeros(self.dim)], axis=0)\n",
    "            for words in X\n",
    "        ])\n",
    "\n",
    "mean_embed = MeanEmbeddingVectorizer(w2v)\n",
    "glove_X_train1 = mean_embed.transform(X_train)\n",
    "glove_X_test1 = mean_embed.transform(X_test)"
   ]
  },
  {
   "cell_type": "code",
   "execution_count": 62,
   "metadata": {},
   "outputs": [
    {
     "data": {
      "text/plain": [
       "(5124, 300)"
      ]
     },
     "execution_count": 62,
     "metadata": {},
     "output_type": "execute_result"
    }
   ],
   "source": [
    "glove_X_train1.shape"
   ]
  },
  {
   "cell_type": "code",
   "execution_count": null,
   "metadata": {
    "collapsed": true
   },
   "outputs": [],
   "source": []
  },
  {
   "cell_type": "code",
   "execution_count": 64,
   "metadata": {},
   "outputs": [
    {
     "name": "stderr",
     "output_type": "stream",
     "text": [
      "//anaconda/lib/python3.5/site-packages/sklearn/multiclass.py:76: UserWarning: Label not 8 is present in all training examples.\n",
      "  str(classes[c]))\n"
     ]
    },
    {
     "name": "stdout",
     "output_type": "stream",
     "text": [
      "Glove Accuracy on Train : 0.7630757220921155\n",
      "Glove Accuracy on Test : 0.0374414976599064\n"
     ]
    }
   ],
   "source": [
    "rf = OneVsRestClassifier(RandomForestClassifier())\n",
    "rf.fit(glove_X_train, y_train)\n",
    "\n",
    "rf_train_pred = rf.predict(glove_X_train)\n",
    "rf_test_pred = rf.predict(glove_X_test)\n",
    "print('Glove Accuracy on Train : {}'.format(metrics.accuracy_score(y_train, rf_train_pred)))\n",
    "print('Glove Accuracy on Test : {}'.format(metrics.accuracy_score(y_test, rf_test_pred)))"
   ]
  },
  {
   "cell_type": "code",
   "execution_count": 69,
   "metadata": {},
   "outputs": [
    {
     "name": "stderr",
     "output_type": "stream",
     "text": [
      "//anaconda/lib/python3.5/site-packages/sklearn/metrics/ranking.py:444: RuntimeWarning: invalid value encountered in true_divide\n",
      "  recall = tps / tps[-1]\n"
     ]
    },
    {
     "data": {
      "text/plain": [
       "nan"
      ]
     },
     "execution_count": 69,
     "metadata": {},
     "output_type": "execute_result"
    }
   ],
   "source": [
    "metrics.average_precision_score(y_test, rf_test_pred)"
   ]
  },
  {
   "cell_type": "code",
   "execution_count": 75,
   "metadata": {},
   "outputs": [
    {
     "data": {
      "text/plain": [
       "(1282,)"
      ]
     },
     "execution_count": 75,
     "metadata": {},
     "output_type": "execute_result"
    }
   ],
   "source": [
    "np.mean(np.mean(y_test == rf_test_pred, axis=1))"
   ]
  },
  {
   "cell_type": "code",
   "execution_count": 77,
   "metadata": {},
   "outputs": [
    {
     "data": {
      "text/plain": [
       "0.8443447737909515"
      ]
     },
     "execution_count": 77,
     "metadata": {},
     "output_type": "execute_result"
    }
   ],
   "source": [
    "dummy = np.zeros_like(y_test)\n",
    "score(y_test, dummy)"
   ]
  },
  {
   "cell_type": "code",
   "execution_count": 101,
   "metadata": {},
   "outputs": [
    {
     "data": {
      "text/plain": [
       "(0.6978311158754985, 0.4300237937094945)"
      ]
     },
     "execution_count": 101,
     "metadata": {},
     "output_type": "execute_result"
    }
   ],
   "source": [
    "score(y_test, naive_test_pred, 'precision'), score(y_test, naive_test_pred, 'recall')"
   ]
  },
  {
   "cell_type": "code",
   "execution_count": 102,
   "metadata": {},
   "outputs": [
    {
     "name": "stderr",
     "output_type": "stream",
     "text": [
      "//anaconda/lib/python3.5/site-packages/sklearn/metrics/classification.py:1135: UndefinedMetricWarning: Precision is ill-defined and being set to 0.0 due to no predicted samples.\n",
      "  'precision', 'predicted', average, warn_for)\n"
     ]
    },
    {
     "data": {
      "text/plain": [
       "(0.5029178053427759, 0.12788670973685107)"
      ]
     },
     "execution_count": 102,
     "metadata": {},
     "output_type": "execute_result"
    }
   ],
   "source": [
    "score(y_test, rf_test_pred, 'precision'), score(y_test, rf_test_pred, 'recall')"
   ]
  },
  {
   "cell_type": "code",
   "execution_count": 103,
   "metadata": {},
   "outputs": [
    {
     "name": "stderr",
     "output_type": "stream",
     "text": [
      "//anaconda/lib/python3.5/site-packages/sklearn/metrics/classification.py:1135: UndefinedMetricWarning: Precision is ill-defined and being set to 0.0 due to no predicted samples.\n",
      "  'precision', 'predicted', average, warn_for)\n"
     ]
    },
    {
     "data": {
      "text/plain": [
       "(0.0, 0.0)"
      ]
     },
     "execution_count": 103,
     "metadata": {},
     "output_type": "execute_result"
    }
   ],
   "source": [
    "score(y_test, dummy, 'precision'), score(y_test, dummy, 'recall')"
   ]
  },
  {
   "cell_type": "code",
   "execution_count": 98,
   "metadata": {},
   "outputs": [
    {
     "data": {
      "text/plain": [
       "0.8142066172114966"
      ]
     },
     "execution_count": 98,
     "metadata": {},
     "output_type": "execute_result"
    }
   ],
   "source": [
    "score(y_train, naive_train_pred, 'recall')"
   ]
  },
  {
   "cell_type": "code",
   "execution_count": null,
   "metadata": {
    "collapsed": true
   },
   "outputs": [],
   "source": []
  }
 ],
 "metadata": {
  "kernelspec": {
   "display_name": "Python [default]",
   "language": "python",
   "name": "python3"
  },
  "language_info": {
   "codemirror_mode": {
    "name": "ipython",
    "version": 3
   },
   "file_extension": ".py",
   "mimetype": "text/x-python",
   "name": "python",
   "nbconvert_exporter": "python",
   "pygments_lexer": "ipython3",
   "version": "3.5.4"
  }
 },
 "nbformat": 4,
 "nbformat_minor": 2
}
